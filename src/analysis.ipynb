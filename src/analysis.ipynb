{
 "cells": [
  {
   "source": [
    "# Ryder: Global Expansion Research #\n",
    "<a id=\"top\" />\n",
    "\n",
    "This Jupyter notebook contains the summaries and visualizations that should accompany the report on Ryder's company expansion into other countries, based on key indicators derived from a country's level of crime and stability, basic measures of health and wealth, and ratios of public education spending.\n",
    "\n",
    "***\n",
    "\n",
    "## Table of Contents ##\n",
    "\n",
    "1. [Title](#top)\n",
    "2. [Introduction](#introduction)\n",
    "3. [Dependencies](#dependencies)\n",
    "4. [Helpers](#helpers)\n",
    "5. [Queries](#queries)\n",
    "\n",
    "***\n",
    "\n",
    "<a id=\"introduction\" />\n",
    "\n",
    "## Introduction ##\n",
    "\n",
    "This notebook contains queries made against cleansed versions of the following Kaggle datasets:\n",
    "\n",
    "- [Global Terrorism Database](https://www.kaggle.com/START-UMD/gtd) (2018)\n",
    "- [Infant Mortality, Fertility, Income per Capita](https://www.kaggle.com/burhanykiyakoglu/infant-mortality-fertility-income) (2018)\n",
    "- [Public Education Expenditure as share of GDP](https://www.kaggle.com/ibrahimmukherjee/gdp-world-bank-data#public-education-expenditure-as-share-of-gdp.csv) (2018)\n",
    "\n",
    "Datasets were prepared using a combination of different commandline tools, including `bash`, `awk`, `sed`, and `python`. The original wide datasets were broken up to better facilitate querying. Details on that process are included in the accompanying documentation.\n",
    "\n",
    "***\n",
    "\n",
    "<a id=\"dependencies\" />\n",
    "\n",
    "## Dependencies ##\n",
    "\n",
    "This notebook requires the following packages:\n",
    "\n",
    "    - numpy\n",
    "    - pandas \n",
    "    - matplotlib\n",
    "\n",
    "Before we can plot information and fiddle with the data, we need to import these modules.\n"
   ],
   "cell_type": "markdown",
   "metadata": {}
  },
  {
   "cell_type": "code",
   "execution_count": 1,
   "metadata": {},
   "outputs": [],
   "source": [
    "import numpy as np         # numpy library for vectorized computations.\n",
    "import pandas as pd        # pandas library for manipulating dataframes."
   ]
  },
  {
   "source": [
    "### pandas & numpy ###\n",
    "\n",
    "Pandas allows us to manipulate dataframes.\n",
    "\n",
    "We can create these dataframes by reading in our data. `*.tsv` files can be imported using the `read_csv()` function. Note the custom `\\t` separator used with tab-separated-value files.\n",
    "\n",
    "```python\n",
    "# Outputs a dataframe from a parsed data file.\n",
    "dataframe = pd.read_csv(\"<filename>.tsv\", sep=\"\\t\")\n",
    "```\n",
    "\n",
    "### matplotlib ###\n",
    "\n",
    "We can also import matplotlib and the pylot modules for configuration and later use."
   ],
   "cell_type": "markdown",
   "metadata": {}
  },
  {
   "cell_type": "code",
   "execution_count": 2,
   "metadata": {},
   "outputs": [],
   "source": [
    "import matplotlib as mpl   # matplotlib library for global settings.\n",
    "import matplotlib.pyplot as plt  # Our plotting functions from matplotlib."
   ]
  },
  {
   "cell_type": "code",
   "execution_count": 3,
   "metadata": {},
   "outputs": [
    {
     "output_type": "stream",
     "name": "stdout",
     "text": [
      "['Solarize_Light2', '_classic_test_patch', 'bmh', 'classic', 'dark_background', 'fast', 'fivethirtyeight', 'ggplot', 'grayscale', 'seaborn', 'seaborn-bright', 'seaborn-colorblind', 'seaborn-dark', 'seaborn-dark-palette', 'seaborn-darkgrid', 'seaborn-deep', 'seaborn-muted', 'seaborn-notebook', 'seaborn-paper', 'seaborn-pastel', 'seaborn-poster', 'seaborn-talk', 'seaborn-ticks', 'seaborn-white', 'seaborn-whitegrid', 'tableau-colorblind10']\n"
     ]
    }
   ],
   "source": [
    "print(plt.style.available)  # Display what styles are available."
   ]
  },
  {
   "cell_type": "code",
   "execution_count": 4,
   "metadata": {},
   "outputs": [
    {
     "output_type": "display_data",
     "data": {
      "text/plain": "<Figure size 1800x1200 with 1 Axes>",
      "image/svg+xml": "<?xml version=\"1.0\" encoding=\"utf-8\" standalone=\"no\"?>\r\n<!DOCTYPE svg PUBLIC \"-//W3C//DTD SVG 1.1//EN\"\r\n  \"http://www.w3.org/Graphics/SVG/1.1/DTD/svg11.dtd\">\r\n<!-- Created with matplotlib (https://matplotlib.org/) -->\r\n<svg height=\"248.518125pt\" version=\"1.1\" viewBox=\"0 0 386.845312 248.518125\" width=\"386.845312pt\" xmlns=\"http://www.w3.org/2000/svg\" xmlns:xlink=\"http://www.w3.org/1999/xlink\">\r\n <metadata>\r\n  <rdf:RDF xmlns:cc=\"http://creativecommons.org/ns#\" xmlns:dc=\"http://purl.org/dc/elements/1.1/\" xmlns:rdf=\"http://www.w3.org/1999/02/22-rdf-syntax-ns#\">\r\n   <cc:Work>\r\n    <dc:type rdf:resource=\"http://purl.org/dc/dcmitype/StillImage\"/>\r\n    <dc:date>2021-03-19T16:34:00.420436</dc:date>\r\n    <dc:format>image/svg+xml</dc:format>\r\n    <dc:creator>\r\n     <cc:Agent>\r\n      <dc:title>Matplotlib v3.3.4, https://matplotlib.org/</dc:title>\r\n     </cc:Agent>\r\n    </dc:creator>\r\n   </cc:Work>\r\n  </rdf:RDF>\r\n </metadata>\r\n <defs>\r\n  <style type=\"text/css\">*{stroke-linecap:butt;stroke-linejoin:round;}</style>\r\n </defs>\r\n <g id=\"figure_1\">\r\n  <g id=\"patch_1\">\r\n   <path d=\"M 0 248.518125 \r\nL 386.845312 248.518125 \r\nL 386.845312 0 \r\nL 0 0 \r\nz\r\n\"/>\r\n  </g>\r\n  <g id=\"axes_1\">\r\n   <g id=\"patch_2\">\r\n    <path d=\"M 44.845313 224.64 \r\nL 379.645313 224.64 \r\nL 379.645313 7.2 \r\nL 44.845313 7.2 \r\nz\r\n\"/>\r\n   </g>\r\n   <g id=\"matplotlib.axis_1\">\r\n    <g id=\"xtick_1\">\r\n     <g id=\"line2d_1\">\r\n      <defs>\r\n       <path d=\"M 0 0 \r\nL 0 3.5 \r\n\" id=\"m2de0dd6876\" style=\"stroke:#ffffff;stroke-width:0.8;\"/>\r\n      </defs>\r\n      <g>\r\n       <use style=\"fill:#ffffff;stroke:#ffffff;stroke-width:0.8;\" x=\"60.063494\" xlink:href=\"#m2de0dd6876\" y=\"224.64\"/>\r\n      </g>\r\n     </g>\r\n     <g id=\"text_1\">\r\n      <!-- 0 -->\r\n      <g style=\"fill:#ffffff;\" transform=\"translate(56.882244 239.238437)scale(0.1 -0.1)\">\r\n       <defs>\r\n        <path d=\"M 31.78125 66.40625 \r\nQ 24.171875 66.40625 20.328125 58.90625 \r\nQ 16.5 51.421875 16.5 36.375 \r\nQ 16.5 21.390625 20.328125 13.890625 \r\nQ 24.171875 6.390625 31.78125 6.390625 \r\nQ 39.453125 6.390625 43.28125 13.890625 \r\nQ 47.125 21.390625 47.125 36.375 \r\nQ 47.125 51.421875 43.28125 58.90625 \r\nQ 39.453125 66.40625 31.78125 66.40625 \r\nz\r\nM 31.78125 74.21875 \r\nQ 44.046875 74.21875 50.515625 64.515625 \r\nQ 56.984375 54.828125 56.984375 36.375 \r\nQ 56.984375 17.96875 50.515625 8.265625 \r\nQ 44.046875 -1.421875 31.78125 -1.421875 \r\nQ 19.53125 -1.421875 13.0625 8.265625 \r\nQ 6.59375 17.96875 6.59375 36.375 \r\nQ 6.59375 54.828125 13.0625 64.515625 \r\nQ 19.53125 74.21875 31.78125 74.21875 \r\nz\r\n\" id=\"DejaVuSans-48\"/>\r\n       </defs>\r\n       <use xlink:href=\"#DejaVuSans-48\"/>\r\n      </g>\r\n     </g>\r\n    </g>\r\n    <g id=\"xtick_2\">\r\n     <g id=\"line2d_2\">\r\n      <g>\r\n       <use style=\"fill:#ffffff;stroke:#ffffff;stroke-width:0.8;\" x=\"122.178522\" xlink:href=\"#m2de0dd6876\" y=\"224.64\"/>\r\n      </g>\r\n     </g>\r\n     <g id=\"text_2\">\r\n      <!-- 10 -->\r\n      <g style=\"fill:#ffffff;\" transform=\"translate(115.816022 239.238437)scale(0.1 -0.1)\">\r\n       <defs>\r\n        <path d=\"M 12.40625 8.296875 \r\nL 28.515625 8.296875 \r\nL 28.515625 63.921875 \r\nL 10.984375 60.40625 \r\nL 10.984375 69.390625 \r\nL 28.421875 72.90625 \r\nL 38.28125 72.90625 \r\nL 38.28125 8.296875 \r\nL 54.390625 8.296875 \r\nL 54.390625 0 \r\nL 12.40625 0 \r\nz\r\n\" id=\"DejaVuSans-49\"/>\r\n       </defs>\r\n       <use xlink:href=\"#DejaVuSans-49\"/>\r\n       <use x=\"63.623047\" xlink:href=\"#DejaVuSans-48\"/>\r\n      </g>\r\n     </g>\r\n    </g>\r\n    <g id=\"xtick_3\">\r\n     <g id=\"line2d_3\">\r\n      <g>\r\n       <use style=\"fill:#ffffff;stroke:#ffffff;stroke-width:0.8;\" x=\"184.29355\" xlink:href=\"#m2de0dd6876\" y=\"224.64\"/>\r\n      </g>\r\n     </g>\r\n     <g id=\"text_3\">\r\n      <!-- 20 -->\r\n      <g style=\"fill:#ffffff;\" transform=\"translate(177.93105 239.238437)scale(0.1 -0.1)\">\r\n       <defs>\r\n        <path d=\"M 19.1875 8.296875 \r\nL 53.609375 8.296875 \r\nL 53.609375 0 \r\nL 7.328125 0 \r\nL 7.328125 8.296875 \r\nQ 12.9375 14.109375 22.625 23.890625 \r\nQ 32.328125 33.6875 34.8125 36.53125 \r\nQ 39.546875 41.84375 41.421875 45.53125 \r\nQ 43.3125 49.21875 43.3125 52.78125 \r\nQ 43.3125 58.59375 39.234375 62.25 \r\nQ 35.15625 65.921875 28.609375 65.921875 \r\nQ 23.96875 65.921875 18.8125 64.3125 \r\nQ 13.671875 62.703125 7.8125 59.421875 \r\nL 7.8125 69.390625 \r\nQ 13.765625 71.78125 18.9375 73 \r\nQ 24.125 74.21875 28.421875 74.21875 \r\nQ 39.75 74.21875 46.484375 68.546875 \r\nQ 53.21875 62.890625 53.21875 53.421875 \r\nQ 53.21875 48.921875 51.53125 44.890625 \r\nQ 49.859375 40.875 45.40625 35.40625 \r\nQ 44.1875 33.984375 37.640625 27.21875 \r\nQ 31.109375 20.453125 19.1875 8.296875 \r\nz\r\n\" id=\"DejaVuSans-50\"/>\r\n       </defs>\r\n       <use xlink:href=\"#DejaVuSans-50\"/>\r\n       <use x=\"63.623047\" xlink:href=\"#DejaVuSans-48\"/>\r\n      </g>\r\n     </g>\r\n    </g>\r\n    <g id=\"xtick_4\">\r\n     <g id=\"line2d_4\">\r\n      <g>\r\n       <use style=\"fill:#ffffff;stroke:#ffffff;stroke-width:0.8;\" x=\"246.408578\" xlink:href=\"#m2de0dd6876\" y=\"224.64\"/>\r\n      </g>\r\n     </g>\r\n     <g id=\"text_4\">\r\n      <!-- 30 -->\r\n      <g style=\"fill:#ffffff;\" transform=\"translate(240.046078 239.238437)scale(0.1 -0.1)\">\r\n       <defs>\r\n        <path d=\"M 40.578125 39.3125 \r\nQ 47.65625 37.796875 51.625 33 \r\nQ 55.609375 28.21875 55.609375 21.1875 \r\nQ 55.609375 10.40625 48.1875 4.484375 \r\nQ 40.765625 -1.421875 27.09375 -1.421875 \r\nQ 22.515625 -1.421875 17.65625 -0.515625 \r\nQ 12.796875 0.390625 7.625 2.203125 \r\nL 7.625 11.71875 \r\nQ 11.71875 9.328125 16.59375 8.109375 \r\nQ 21.484375 6.890625 26.8125 6.890625 \r\nQ 36.078125 6.890625 40.9375 10.546875 \r\nQ 45.796875 14.203125 45.796875 21.1875 \r\nQ 45.796875 27.640625 41.28125 31.265625 \r\nQ 36.765625 34.90625 28.71875 34.90625 \r\nL 20.21875 34.90625 \r\nL 20.21875 43.015625 \r\nL 29.109375 43.015625 \r\nQ 36.375 43.015625 40.234375 45.921875 \r\nQ 44.09375 48.828125 44.09375 54.296875 \r\nQ 44.09375 59.90625 40.109375 62.90625 \r\nQ 36.140625 65.921875 28.71875 65.921875 \r\nQ 24.65625 65.921875 20.015625 65.03125 \r\nQ 15.375 64.15625 9.8125 62.3125 \r\nL 9.8125 71.09375 \r\nQ 15.4375 72.65625 20.34375 73.4375 \r\nQ 25.25 74.21875 29.59375 74.21875 \r\nQ 40.828125 74.21875 47.359375 69.109375 \r\nQ 53.90625 64.015625 53.90625 55.328125 \r\nQ 53.90625 49.265625 50.4375 45.09375 \r\nQ 46.96875 40.921875 40.578125 39.3125 \r\nz\r\n\" id=\"DejaVuSans-51\"/>\r\n       </defs>\r\n       <use xlink:href=\"#DejaVuSans-51\"/>\r\n       <use x=\"63.623047\" xlink:href=\"#DejaVuSans-48\"/>\r\n      </g>\r\n     </g>\r\n    </g>\r\n    <g id=\"xtick_5\">\r\n     <g id=\"line2d_5\">\r\n      <g>\r\n       <use style=\"fill:#ffffff;stroke:#ffffff;stroke-width:0.8;\" x=\"308.523606\" xlink:href=\"#m2de0dd6876\" y=\"224.64\"/>\r\n      </g>\r\n     </g>\r\n     <g id=\"text_5\">\r\n      <!-- 40 -->\r\n      <g style=\"fill:#ffffff;\" transform=\"translate(302.161106 239.238437)scale(0.1 -0.1)\">\r\n       <defs>\r\n        <path d=\"M 37.796875 64.3125 \r\nL 12.890625 25.390625 \r\nL 37.796875 25.390625 \r\nz\r\nM 35.203125 72.90625 \r\nL 47.609375 72.90625 \r\nL 47.609375 25.390625 \r\nL 58.015625 25.390625 \r\nL 58.015625 17.1875 \r\nL 47.609375 17.1875 \r\nL 47.609375 0 \r\nL 37.796875 0 \r\nL 37.796875 17.1875 \r\nL 4.890625 17.1875 \r\nL 4.890625 26.703125 \r\nz\r\n\" id=\"DejaVuSans-52\"/>\r\n       </defs>\r\n       <use xlink:href=\"#DejaVuSans-52\"/>\r\n       <use x=\"63.623047\" xlink:href=\"#DejaVuSans-48\"/>\r\n      </g>\r\n     </g>\r\n    </g>\r\n    <g id=\"xtick_6\">\r\n     <g id=\"line2d_6\">\r\n      <g>\r\n       <use style=\"fill:#ffffff;stroke:#ffffff;stroke-width:0.8;\" x=\"370.638633\" xlink:href=\"#m2de0dd6876\" y=\"224.64\"/>\r\n      </g>\r\n     </g>\r\n     <g id=\"text_6\">\r\n      <!-- 50 -->\r\n      <g style=\"fill:#ffffff;\" transform=\"translate(364.276133 239.238437)scale(0.1 -0.1)\">\r\n       <defs>\r\n        <path d=\"M 10.796875 72.90625 \r\nL 49.515625 72.90625 \r\nL 49.515625 64.59375 \r\nL 19.828125 64.59375 \r\nL 19.828125 46.734375 \r\nQ 21.96875 47.46875 24.109375 47.828125 \r\nQ 26.265625 48.1875 28.421875 48.1875 \r\nQ 40.625 48.1875 47.75 41.5 \r\nQ 54.890625 34.8125 54.890625 23.390625 \r\nQ 54.890625 11.625 47.5625 5.09375 \r\nQ 40.234375 -1.421875 26.90625 -1.421875 \r\nQ 22.3125 -1.421875 17.546875 -0.640625 \r\nQ 12.796875 0.140625 7.71875 1.703125 \r\nL 7.71875 11.625 \r\nQ 12.109375 9.234375 16.796875 8.0625 \r\nQ 21.484375 6.890625 26.703125 6.890625 \r\nQ 35.15625 6.890625 40.078125 11.328125 \r\nQ 45.015625 15.765625 45.015625 23.390625 \r\nQ 45.015625 31 40.078125 35.4375 \r\nQ 35.15625 39.890625 26.703125 39.890625 \r\nQ 22.75 39.890625 18.8125 39.015625 \r\nQ 14.890625 38.140625 10.796875 36.28125 \r\nz\r\n\" id=\"DejaVuSans-53\"/>\r\n       </defs>\r\n       <use xlink:href=\"#DejaVuSans-53\"/>\r\n       <use x=\"63.623047\" xlink:href=\"#DejaVuSans-48\"/>\r\n      </g>\r\n     </g>\r\n    </g>\r\n   </g>\r\n   <g id=\"matplotlib.axis_2\">\r\n    <g id=\"ytick_1\">\r\n     <g id=\"line2d_7\">\r\n      <defs>\r\n       <path d=\"M 0 0 \r\nL -3.5 0 \r\n\" id=\"m4658335297\" style=\"stroke:#ffffff;stroke-width:0.8;\"/>\r\n      </defs>\r\n      <g>\r\n       <use style=\"fill:#ffffff;stroke:#ffffff;stroke-width:0.8;\" x=\"44.845313\" xlink:href=\"#m4658335297\" y=\"214.80717\"/>\r\n      </g>\r\n     </g>\r\n     <g id=\"text_7\">\r\n      <!-- −1.00 -->\r\n      <g style=\"fill:#ffffff;\" transform=\"translate(7.2 218.606389)scale(0.1 -0.1)\">\r\n       <defs>\r\n        <path d=\"M 10.59375 35.5 \r\nL 73.1875 35.5 \r\nL 73.1875 27.203125 \r\nL 10.59375 27.203125 \r\nz\r\n\" id=\"DejaVuSans-8722\"/>\r\n        <path d=\"M 10.6875 12.40625 \r\nL 21 12.40625 \r\nL 21 0 \r\nL 10.6875 0 \r\nz\r\n\" id=\"DejaVuSans-46\"/>\r\n       </defs>\r\n       <use xlink:href=\"#DejaVuSans-8722\"/>\r\n       <use x=\"83.789062\" xlink:href=\"#DejaVuSans-49\"/>\r\n       <use x=\"147.412109\" xlink:href=\"#DejaVuSans-46\"/>\r\n       <use x=\"179.199219\" xlink:href=\"#DejaVuSans-48\"/>\r\n       <use x=\"242.822266\" xlink:href=\"#DejaVuSans-48\"/>\r\n      </g>\r\n     </g>\r\n    </g>\r\n    <g id=\"ytick_2\">\r\n     <g id=\"line2d_8\">\r\n      <g>\r\n       <use style=\"fill:#ffffff;stroke:#ffffff;stroke-width:0.8;\" x=\"44.845313\" xlink:href=\"#m4658335297\" y=\"190.085378\"/>\r\n      </g>\r\n     </g>\r\n     <g id=\"text_8\">\r\n      <!-- −0.75 -->\r\n      <g style=\"fill:#ffffff;\" transform=\"translate(7.2 193.884596)scale(0.1 -0.1)\">\r\n       <defs>\r\n        <path d=\"M 8.203125 72.90625 \r\nL 55.078125 72.90625 \r\nL 55.078125 68.703125 \r\nL 28.609375 0 \r\nL 18.3125 0 \r\nL 43.21875 64.59375 \r\nL 8.203125 64.59375 \r\nz\r\n\" id=\"DejaVuSans-55\"/>\r\n       </defs>\r\n       <use xlink:href=\"#DejaVuSans-8722\"/>\r\n       <use x=\"83.789062\" xlink:href=\"#DejaVuSans-48\"/>\r\n       <use x=\"147.412109\" xlink:href=\"#DejaVuSans-46\"/>\r\n       <use x=\"179.199219\" xlink:href=\"#DejaVuSans-55\"/>\r\n       <use x=\"242.822266\" xlink:href=\"#DejaVuSans-53\"/>\r\n      </g>\r\n     </g>\r\n    </g>\r\n    <g id=\"ytick_3\">\r\n     <g id=\"line2d_9\">\r\n      <g>\r\n       <use style=\"fill:#ffffff;stroke:#ffffff;stroke-width:0.8;\" x=\"44.845313\" xlink:href=\"#m4658335297\" y=\"165.363585\"/>\r\n      </g>\r\n     </g>\r\n     <g id=\"text_9\">\r\n      <!-- −0.50 -->\r\n      <g style=\"fill:#ffffff;\" transform=\"translate(7.2 169.162804)scale(0.1 -0.1)\">\r\n       <use xlink:href=\"#DejaVuSans-8722\"/>\r\n       <use x=\"83.789062\" xlink:href=\"#DejaVuSans-48\"/>\r\n       <use x=\"147.412109\" xlink:href=\"#DejaVuSans-46\"/>\r\n       <use x=\"179.199219\" xlink:href=\"#DejaVuSans-53\"/>\r\n       <use x=\"242.822266\" xlink:href=\"#DejaVuSans-48\"/>\r\n      </g>\r\n     </g>\r\n    </g>\r\n    <g id=\"ytick_4\">\r\n     <g id=\"line2d_10\">\r\n      <g>\r\n       <use style=\"fill:#ffffff;stroke:#ffffff;stroke-width:0.8;\" x=\"44.845313\" xlink:href=\"#m4658335297\" y=\"140.641793\"/>\r\n      </g>\r\n     </g>\r\n     <g id=\"text_10\">\r\n      <!-- −0.25 -->\r\n      <g style=\"fill:#ffffff;\" transform=\"translate(7.2 144.441011)scale(0.1 -0.1)\">\r\n       <use xlink:href=\"#DejaVuSans-8722\"/>\r\n       <use x=\"83.789062\" xlink:href=\"#DejaVuSans-48\"/>\r\n       <use x=\"147.412109\" xlink:href=\"#DejaVuSans-46\"/>\r\n       <use x=\"179.199219\" xlink:href=\"#DejaVuSans-50\"/>\r\n       <use x=\"242.822266\" xlink:href=\"#DejaVuSans-53\"/>\r\n      </g>\r\n     </g>\r\n    </g>\r\n    <g id=\"ytick_5\">\r\n     <g id=\"line2d_11\">\r\n      <g>\r\n       <use style=\"fill:#ffffff;stroke:#ffffff;stroke-width:0.8;\" x=\"44.845313\" xlink:href=\"#m4658335297\" y=\"115.92\"/>\r\n      </g>\r\n     </g>\r\n     <g id=\"text_11\">\r\n      <!-- 0.00 -->\r\n      <g style=\"fill:#ffffff;\" transform=\"translate(15.579688 119.719219)scale(0.1 -0.1)\">\r\n       <use xlink:href=\"#DejaVuSans-48\"/>\r\n       <use x=\"63.623047\" xlink:href=\"#DejaVuSans-46\"/>\r\n       <use x=\"95.410156\" xlink:href=\"#DejaVuSans-48\"/>\r\n       <use x=\"159.033203\" xlink:href=\"#DejaVuSans-48\"/>\r\n      </g>\r\n     </g>\r\n    </g>\r\n    <g id=\"ytick_6\">\r\n     <g id=\"line2d_12\">\r\n      <g>\r\n       <use style=\"fill:#ffffff;stroke:#ffffff;stroke-width:0.8;\" x=\"44.845313\" xlink:href=\"#m4658335297\" y=\"91.198207\"/>\r\n      </g>\r\n     </g>\r\n     <g id=\"text_12\">\r\n      <!-- 0.25 -->\r\n      <g style=\"fill:#ffffff;\" transform=\"translate(15.579688 94.997426)scale(0.1 -0.1)\">\r\n       <use xlink:href=\"#DejaVuSans-48\"/>\r\n       <use x=\"63.623047\" xlink:href=\"#DejaVuSans-46\"/>\r\n       <use x=\"95.410156\" xlink:href=\"#DejaVuSans-50\"/>\r\n       <use x=\"159.033203\" xlink:href=\"#DejaVuSans-53\"/>\r\n      </g>\r\n     </g>\r\n    </g>\r\n    <g id=\"ytick_7\">\r\n     <g id=\"line2d_13\">\r\n      <g>\r\n       <use style=\"fill:#ffffff;stroke:#ffffff;stroke-width:0.8;\" x=\"44.845313\" xlink:href=\"#m4658335297\" y=\"66.476415\"/>\r\n      </g>\r\n     </g>\r\n     <g id=\"text_13\">\r\n      <!-- 0.50 -->\r\n      <g style=\"fill:#ffffff;\" transform=\"translate(15.579688 70.275634)scale(0.1 -0.1)\">\r\n       <use xlink:href=\"#DejaVuSans-48\"/>\r\n       <use x=\"63.623047\" xlink:href=\"#DejaVuSans-46\"/>\r\n       <use x=\"95.410156\" xlink:href=\"#DejaVuSans-53\"/>\r\n       <use x=\"159.033203\" xlink:href=\"#DejaVuSans-48\"/>\r\n      </g>\r\n     </g>\r\n    </g>\r\n    <g id=\"ytick_8\">\r\n     <g id=\"line2d_14\">\r\n      <g>\r\n       <use style=\"fill:#ffffff;stroke:#ffffff;stroke-width:0.8;\" x=\"44.845313\" xlink:href=\"#m4658335297\" y=\"41.754622\"/>\r\n      </g>\r\n     </g>\r\n     <g id=\"text_14\">\r\n      <!-- 0.75 -->\r\n      <g style=\"fill:#ffffff;\" transform=\"translate(15.579688 45.553841)scale(0.1 -0.1)\">\r\n       <use xlink:href=\"#DejaVuSans-48\"/>\r\n       <use x=\"63.623047\" xlink:href=\"#DejaVuSans-46\"/>\r\n       <use x=\"95.410156\" xlink:href=\"#DejaVuSans-55\"/>\r\n       <use x=\"159.033203\" xlink:href=\"#DejaVuSans-53\"/>\r\n      </g>\r\n     </g>\r\n    </g>\r\n    <g id=\"ytick_9\">\r\n     <g id=\"line2d_15\">\r\n      <g>\r\n       <use style=\"fill:#ffffff;stroke:#ffffff;stroke-width:0.8;\" x=\"44.845313\" xlink:href=\"#m4658335297\" y=\"17.03283\"/>\r\n      </g>\r\n     </g>\r\n     <g id=\"text_15\">\r\n      <!-- 1.00 -->\r\n      <g style=\"fill:#ffffff;\" transform=\"translate(15.579688 20.832048)scale(0.1 -0.1)\">\r\n       <use xlink:href=\"#DejaVuSans-49\"/>\r\n       <use x=\"63.623047\" xlink:href=\"#DejaVuSans-46\"/>\r\n       <use x=\"95.410156\" xlink:href=\"#DejaVuSans-48\"/>\r\n       <use x=\"159.033203\" xlink:href=\"#DejaVuSans-48\"/>\r\n      </g>\r\n     </g>\r\n    </g>\r\n   </g>\r\n   <g id=\"line2d_16\">\r\n    <path clip-path=\"url(#p8ff8fb6474)\" d=\"M 60.063494 115.92 \r\nL 66.274997 103.274589 \r\nL 72.4865 90.836816 \r\nL 78.698003 78.810908 \r\nL 84.909505 67.39433 \r\nL 91.121008 56.774542 \r\nL 97.332511 47.125921 \r\nL 103.544014 38.606897 \r\nL 109.755517 31.357352 \r\nL 115.967019 25.496323 \r\nL 122.178522 21.120049 \r\nL 128.390025 18.300387 \r\nL 134.601528 17.083636 \r\nL 140.81303 17.489776 \r\nL 147.024533 19.512138 \r\nL 153.236036 23.117513 \r\nL 159.447539 28.246703 \r\nL 165.659042 34.815487 \r\nL 171.870544 42.716004 \r\nL 178.082047 51.818528 \r\nL 184.29355 61.973597 \r\nL 190.505053 73.014465 \r\nL 196.716556 84.75984 \r\nL 202.928058 97.016864 \r\nL 209.139561 109.584277 \r\nL 215.351064 122.255723 \r\nL 221.562567 134.823136 \r\nL 227.774069 147.08016 \r\nL 233.985572 158.825535 \r\nL 240.197075 169.866403 \r\nL 246.408578 180.021472 \r\nL 252.620081 189.123996 \r\nL 258.831583 197.024513 \r\nL 265.043086 203.593297 \r\nL 271.254589 208.722487 \r\nL 277.466092 212.327862 \r\nL 283.677595 214.350224 \r\nL 289.889097 214.756364 \r\nL 296.1006 213.539613 \r\nL 302.312103 210.719951 \r\nL 308.523606 206.343677 \r\nL 314.735108 200.482648 \r\nL 320.946611 193.233103 \r\nL 327.158114 184.714079 \r\nL 333.369617 175.065458 \r\nL 339.58112 164.44567 \r\nL 345.792622 153.029092 \r\nL 352.004125 141.003184 \r\nL 358.215628 128.565411 \r\nL 364.427131 115.92 \r\n\" style=\"fill:none;stroke:#ff0000;stroke-linecap:square;stroke-width:1.5;\"/>\r\n    <defs>\r\n     <path d=\"M 0 3 \r\nC 0.795609 3 1.55874 2.683901 2.12132 2.12132 \r\nC 2.683901 1.55874 3 0.795609 3 0 \r\nC 3 -0.795609 2.683901 -1.55874 2.12132 -2.12132 \r\nC 1.55874 -2.683901 0.795609 -3 0 -3 \r\nC -0.795609 -3 -1.55874 -2.683901 -2.12132 -2.12132 \r\nC -2.683901 -1.55874 -3 -0.795609 -3 0 \r\nC -3 0.795609 -2.683901 1.55874 -2.12132 2.12132 \r\nC -1.55874 2.683901 -0.795609 3 0 3 \r\nz\r\n\" id=\"m146c2fd25d\" style=\"stroke:#ff0000;\"/>\r\n    </defs>\r\n    <g clip-path=\"url(#p8ff8fb6474)\">\r\n     <use style=\"fill:#ff0000;stroke:#ff0000;\" x=\"60.063494\" xlink:href=\"#m146c2fd25d\" y=\"115.92\"/>\r\n     <use style=\"fill:#ff0000;stroke:#ff0000;\" x=\"66.274997\" xlink:href=\"#m146c2fd25d\" y=\"103.274589\"/>\r\n     <use style=\"fill:#ff0000;stroke:#ff0000;\" x=\"72.4865\" xlink:href=\"#m146c2fd25d\" y=\"90.836816\"/>\r\n     <use style=\"fill:#ff0000;stroke:#ff0000;\" x=\"78.698003\" xlink:href=\"#m146c2fd25d\" y=\"78.810908\"/>\r\n     <use style=\"fill:#ff0000;stroke:#ff0000;\" x=\"84.909505\" xlink:href=\"#m146c2fd25d\" y=\"67.39433\"/>\r\n     <use style=\"fill:#ff0000;stroke:#ff0000;\" x=\"91.121008\" xlink:href=\"#m146c2fd25d\" y=\"56.774542\"/>\r\n     <use style=\"fill:#ff0000;stroke:#ff0000;\" x=\"97.332511\" xlink:href=\"#m146c2fd25d\" y=\"47.125921\"/>\r\n     <use style=\"fill:#ff0000;stroke:#ff0000;\" x=\"103.544014\" xlink:href=\"#m146c2fd25d\" y=\"38.606897\"/>\r\n     <use style=\"fill:#ff0000;stroke:#ff0000;\" x=\"109.755517\" xlink:href=\"#m146c2fd25d\" y=\"31.357352\"/>\r\n     <use style=\"fill:#ff0000;stroke:#ff0000;\" x=\"115.967019\" xlink:href=\"#m146c2fd25d\" y=\"25.496323\"/>\r\n     <use style=\"fill:#ff0000;stroke:#ff0000;\" x=\"122.178522\" xlink:href=\"#m146c2fd25d\" y=\"21.120049\"/>\r\n     <use style=\"fill:#ff0000;stroke:#ff0000;\" x=\"128.390025\" xlink:href=\"#m146c2fd25d\" y=\"18.300387\"/>\r\n     <use style=\"fill:#ff0000;stroke:#ff0000;\" x=\"134.601528\" xlink:href=\"#m146c2fd25d\" y=\"17.083636\"/>\r\n     <use style=\"fill:#ff0000;stroke:#ff0000;\" x=\"140.81303\" xlink:href=\"#m146c2fd25d\" y=\"17.489776\"/>\r\n     <use style=\"fill:#ff0000;stroke:#ff0000;\" x=\"147.024533\" xlink:href=\"#m146c2fd25d\" y=\"19.512138\"/>\r\n     <use style=\"fill:#ff0000;stroke:#ff0000;\" x=\"153.236036\" xlink:href=\"#m146c2fd25d\" y=\"23.117513\"/>\r\n     <use style=\"fill:#ff0000;stroke:#ff0000;\" x=\"159.447539\" xlink:href=\"#m146c2fd25d\" y=\"28.246703\"/>\r\n     <use style=\"fill:#ff0000;stroke:#ff0000;\" x=\"165.659042\" xlink:href=\"#m146c2fd25d\" y=\"34.815487\"/>\r\n     <use style=\"fill:#ff0000;stroke:#ff0000;\" x=\"171.870544\" xlink:href=\"#m146c2fd25d\" y=\"42.716004\"/>\r\n     <use style=\"fill:#ff0000;stroke:#ff0000;\" x=\"178.082047\" xlink:href=\"#m146c2fd25d\" y=\"51.818528\"/>\r\n     <use style=\"fill:#ff0000;stroke:#ff0000;\" x=\"184.29355\" xlink:href=\"#m146c2fd25d\" y=\"61.973597\"/>\r\n     <use style=\"fill:#ff0000;stroke:#ff0000;\" x=\"190.505053\" xlink:href=\"#m146c2fd25d\" y=\"73.014465\"/>\r\n     <use style=\"fill:#ff0000;stroke:#ff0000;\" x=\"196.716556\" xlink:href=\"#m146c2fd25d\" y=\"84.75984\"/>\r\n     <use style=\"fill:#ff0000;stroke:#ff0000;\" x=\"202.928058\" xlink:href=\"#m146c2fd25d\" y=\"97.016864\"/>\r\n     <use style=\"fill:#ff0000;stroke:#ff0000;\" x=\"209.139561\" xlink:href=\"#m146c2fd25d\" y=\"109.584277\"/>\r\n     <use style=\"fill:#ff0000;stroke:#ff0000;\" x=\"215.351064\" xlink:href=\"#m146c2fd25d\" y=\"122.255723\"/>\r\n     <use style=\"fill:#ff0000;stroke:#ff0000;\" x=\"221.562567\" xlink:href=\"#m146c2fd25d\" y=\"134.823136\"/>\r\n     <use style=\"fill:#ff0000;stroke:#ff0000;\" x=\"227.774069\" xlink:href=\"#m146c2fd25d\" y=\"147.08016\"/>\r\n     <use style=\"fill:#ff0000;stroke:#ff0000;\" x=\"233.985572\" xlink:href=\"#m146c2fd25d\" y=\"158.825535\"/>\r\n     <use style=\"fill:#ff0000;stroke:#ff0000;\" x=\"240.197075\" xlink:href=\"#m146c2fd25d\" y=\"169.866403\"/>\r\n     <use style=\"fill:#ff0000;stroke:#ff0000;\" x=\"246.408578\" xlink:href=\"#m146c2fd25d\" y=\"180.021472\"/>\r\n     <use style=\"fill:#ff0000;stroke:#ff0000;\" x=\"252.620081\" xlink:href=\"#m146c2fd25d\" y=\"189.123996\"/>\r\n     <use style=\"fill:#ff0000;stroke:#ff0000;\" x=\"258.831583\" xlink:href=\"#m146c2fd25d\" y=\"197.024513\"/>\r\n     <use style=\"fill:#ff0000;stroke:#ff0000;\" x=\"265.043086\" xlink:href=\"#m146c2fd25d\" y=\"203.593297\"/>\r\n     <use style=\"fill:#ff0000;stroke:#ff0000;\" x=\"271.254589\" xlink:href=\"#m146c2fd25d\" y=\"208.722487\"/>\r\n     <use style=\"fill:#ff0000;stroke:#ff0000;\" x=\"277.466092\" xlink:href=\"#m146c2fd25d\" y=\"212.327862\"/>\r\n     <use style=\"fill:#ff0000;stroke:#ff0000;\" x=\"283.677595\" xlink:href=\"#m146c2fd25d\" y=\"214.350224\"/>\r\n     <use style=\"fill:#ff0000;stroke:#ff0000;\" x=\"289.889097\" xlink:href=\"#m146c2fd25d\" y=\"214.756364\"/>\r\n     <use style=\"fill:#ff0000;stroke:#ff0000;\" x=\"296.1006\" xlink:href=\"#m146c2fd25d\" y=\"213.539613\"/>\r\n     <use style=\"fill:#ff0000;stroke:#ff0000;\" x=\"302.312103\" xlink:href=\"#m146c2fd25d\" y=\"210.719951\"/>\r\n     <use style=\"fill:#ff0000;stroke:#ff0000;\" x=\"308.523606\" xlink:href=\"#m146c2fd25d\" y=\"206.343677\"/>\r\n     <use style=\"fill:#ff0000;stroke:#ff0000;\" x=\"314.735108\" xlink:href=\"#m146c2fd25d\" y=\"200.482648\"/>\r\n     <use style=\"fill:#ff0000;stroke:#ff0000;\" x=\"320.946611\" xlink:href=\"#m146c2fd25d\" y=\"193.233103\"/>\r\n     <use style=\"fill:#ff0000;stroke:#ff0000;\" x=\"327.158114\" xlink:href=\"#m146c2fd25d\" y=\"184.714079\"/>\r\n     <use style=\"fill:#ff0000;stroke:#ff0000;\" x=\"333.369617\" xlink:href=\"#m146c2fd25d\" y=\"175.065458\"/>\r\n     <use style=\"fill:#ff0000;stroke:#ff0000;\" x=\"339.58112\" xlink:href=\"#m146c2fd25d\" y=\"164.44567\"/>\r\n     <use style=\"fill:#ff0000;stroke:#ff0000;\" x=\"345.792622\" xlink:href=\"#m146c2fd25d\" y=\"153.029092\"/>\r\n     <use style=\"fill:#ff0000;stroke:#ff0000;\" x=\"352.004125\" xlink:href=\"#m146c2fd25d\" y=\"141.003184\"/>\r\n     <use style=\"fill:#ff0000;stroke:#ff0000;\" x=\"358.215628\" xlink:href=\"#m146c2fd25d\" y=\"128.565411\"/>\r\n     <use style=\"fill:#ff0000;stroke:#ff0000;\" x=\"364.427131\" xlink:href=\"#m146c2fd25d\" y=\"115.92\"/>\r\n    </g>\r\n   </g>\r\n   <g id=\"patch_3\">\r\n    <path d=\"M 44.845313 224.64 \r\nL 44.845313 7.2 \r\n\" style=\"fill:none;stroke:#ffffff;stroke-linecap:square;stroke-linejoin:miter;stroke-width:0.8;\"/>\r\n   </g>\r\n   <g id=\"patch_4\">\r\n    <path d=\"M 379.645313 224.64 \r\nL 379.645313 7.2 \r\n\" style=\"fill:none;stroke:#ffffff;stroke-linecap:square;stroke-linejoin:miter;stroke-width:0.8;\"/>\r\n   </g>\r\n   <g id=\"patch_5\">\r\n    <path d=\"M 44.845313 224.64 \r\nL 379.645313 224.64 \r\n\" style=\"fill:none;stroke:#ffffff;stroke-linecap:square;stroke-linejoin:miter;stroke-width:0.8;\"/>\r\n   </g>\r\n   <g id=\"patch_6\">\r\n    <path d=\"M 44.845313 7.2 \r\nL 379.645313 7.2 \r\n\" style=\"fill:none;stroke:#ffffff;stroke-linecap:square;stroke-linejoin:miter;stroke-width:0.8;\"/>\r\n   </g>\r\n  </g>\r\n </g>\r\n <defs>\r\n  <clipPath id=\"p8ff8fb6474\">\r\n   <rect height=\"217.44\" width=\"334.8\" x=\"44.845313\" y=\"7.2\"/>\r\n  </clipPath>\r\n </defs>\r\n</svg>\r\n"
     },
     "metadata": {}
    }
   ],
   "source": [
    "%matplotlib inline\n",
    "%config InlineBackend.figure_format = 'svg'\n",
    "                                     # Above lines makes plots appear as inline svgs.\n",
    "mpl.rcParams['figure.dpi'] = 300     # Apply DPI to matplotlib inline plots.\n",
    "plt.style.use(['dark_background', 'seaborn-pastel'])     # Apply particular styles.\n",
    "plt.plot(np.sin(np.linspace(0, 2 * np.pi)), 'r-o')  # Make the plot.\n",
    "plt.show()  # Show the plot."
   ]
  },
  {
   "source": [
    "***\n",
    "\n",
    "<a id=\"helpers\"></a>\n",
    "\n",
    "## Helpers ##\n",
    "\n",
    "The following packages contain support functions unique to this particular report.\n",
    "\n",
    "The `analysis.analyser` package contains the `analyser` and `country` modules that do a bulk of the computational work. The `analysis.utils` package contains utility modules used to do repetitive tasks across the entire project."
   ],
   "cell_type": "markdown",
   "metadata": {}
  },
  {
   "cell_type": "code",
   "execution_count": 5,
   "metadata": {},
   "outputs": [],
   "source": [
    "from analysis.analyser import analyser\n",
    "from analysis.analyser.country import Country\n",
    "from analysis.utils import parser\n",
    "from analysis.utils import validate"
   ]
  },
  {
   "cell_type": "code",
   "execution_count": 6,
   "metadata": {},
   "outputs": [],
   "source": [
    "# Outputs a dataframe from a parsed data file.\n",
    "countries_df = parser.read_tsv(\"../data/country_codes.tsv\")"
   ]
  },
  {
   "cell_type": "code",
   "execution_count": 7,
   "metadata": {},
   "outputs": [
    {
     "output_type": "stream",
     "name": "stdout",
     "text": [
      "Found 17 result(s) for search terms: AUS, AUT, BEL, CAN, CHE, DEU, ESP, FRA, GBR, IRL, ITA, JPN, NLD, NOR, NZL, SWE, USA\n<[AUS 14]: \"Australia\">\n<[AUT 15]: \"Austria\">\n<[BEL 21]: \"Belgium\">\n<[CAN 38]: \"Canada\">\n<[CHE 199]: \"Switzerland\">\n<[DEU 75]: \"Germany\">\n<[ESP 185]: \"Spain\">\n<[FRA 69]: \"France\">\n<[GBR 603]: \"United Kingdom\">\n<[IRL 96]: \"Ireland\">\n<[ITA 98]: \"Italy\">\n<[JPN 101]: \"Japan\">\n<[NLD 142]: \"Netherlands\">\n<[NOR 151]: \"Norway\">\n<[NZL 144]: \"New Zealand\">\n<[SWE 198]: \"Sweden\">\n<[USA 217]: \"United States\">\n"
     ]
    }
   ],
   "source": [
    "# Get np.array of unique countries that appear in \n",
    "# the public education expenditure dataset.\n",
    "ped_countries_df = parser.read_tsv(\"../data/ped/ped_countries.tsv\")\n",
    "keys_ped = Country.from_frame(countries_df, search=list(ped_countries_df.iloc[:,0].unique()))\n",
    "print(Country.format(keys_ped, sep=\"\\n\"))\n",
    "#keys_ped = [Country.from_frame(countries_df, search=unique_code) for unique_code in list(ped_countries_df.iloc[:,0].unique())]"
   ]
  },
  {
   "cell_type": "code",
   "execution_count": 8,
   "metadata": {},
   "outputs": [
    {
     "output_type": "stream",
     "name": "stdout",
     "text": [
      "Found 161 result(s) for search terms: ABW, AFG, AGO, ALB, AND, ARE, ARG, ARM, ASM, ATG, AUS, AUT, AZE, BDI, BEL, BEN, BFA, BGD, BGR, BHR, BHS, BIH, BLR, BLZ, BMU, BOL, BRA, BRB, BRN, BTN, BWA, CAF, CAN, CHE, CHI, CHL, CHN, CIV, CMR, COD, COG, COL, COM, CPV, CRI, CUB, CUW, CYM, CYP, CZE, DEU, DJI, DMA, DNK, DOM, DZA, ECU, EGY, ERI, ESP, EST, ETH, FIN, FJI, FRA, FRO, FSM, GAB, GBR, GEO, GHA, GIB, GIN, GMB, GNB, GNQ, GRC, GRD, GRL, GTM, GUM, GUY, HKG, HND, HRV, HTI, HUN, IDN, IMN, IND, IRL, IRN, IRQ, ISL, ISR, ITA, JAM, JOR, JPN, KAZ, KEN, KGZ, KHM, KIR, KNA, KOR, KWT, LAO, LBN, LBR, LBY, LCA, LIE, LKA, LSO, LTU, LUX, LVA, MAC, MAF, MAR, MCO, MDA, MDG, MDV, MEX, MHL, MKD, MLI, MLT, MMR, MNE, MNG, MNP, MOZ, MRT, MUS, MWI, MYS, NAM, NCL, NER, NGA, NIC, NLD, NOR, NPL, NRU, NZL, OMN, PAK, PAN, PER, PHL, PLW, PNG, POL, PRI, PRK, PRT, PRY, PSE, PYF, QAT, ROU, RUS, RWA, SAU, SDN, SEN, SGP, SLB, SLE, SLV, SMR, SOM, SRB, SSD, STP, SUR, SVK, SVN, SWE, SWZ, SXM, SYC, SYR, TCA, TCD, TGO, THA, TJK, TKM, TLS, TON, TTO, TUN, TUR, TUV, TZA, UGA, UKR, URY, USA, UZB, VCT, VEN, VGB, VIR, VNM, VUT, WSM, XKX, YEM, ZAF, ZMB, ZWE\n<[AFG 4]: \"Afghanistan\">\n<[AGO 8]: \"Angola\">\n<[ALB 5]: \"Albania\">\n<[AND 7]: \"Andorra\">\n<[ARE 215]: \"United Arab Emirates\"> \n...\n <[VUT 220]: \"Vanuatu\">\n<[XKX 1003]: \"Kosovo\">\n<[ZAF 183]: \"South Africa\">\n<[ZMB 230]: \"Zambia\">\n<[ZWE 231]: \"Zimbabwe\">\n"
     ]
    }
   ],
   "source": [
    "# Get np.array of unique countries that appear in \n",
    "# the infant mortality, fertility, income per capita dataset.\n",
    "mfi_countries_df = parser.read_tsv(\"../data/mfi/mfi_countries.tsv\")\n",
    "keys_mfi = Country.from_frame(countries_df, search=mfi_countries_df.iloc[:,0].unique())\n",
    "print(Country.format(keys_mfi[:5], sep=\"\\n\"), \"\\n...\\n\", Country.format(keys_mfi[-5:], sep=\"\\n\"))"
   ]
  },
  {
   "cell_type": "code",
   "execution_count": 9,
   "metadata": {},
   "outputs": [
    {
     "output_type": "stream",
     "name": "stdout",
     "text": [
      "Found 161 result(s) for search terms: 4, 5, 6, 7, 8, 10, 11, 12, 14, 15, 16, 17, 18, 19, 20, 21, 22, 23, 25, 26, 28, 29, 30, 31, 32, 33, 34, 35, 36, 37, 38, 41, 42, 43, 44, 45, 46, 47, 49, 50, 51, 53, 54, 55, 56, 57, 58, 59, 60, 61, 62, 63, 64, 65, 66, 67, 68, 69, 70, 71, 72, 73, 74, 75, 76, 78, 80, 81, 83, 84, 85, 86, 87, 88, 89, 90, 91, 92, 93, 94, 95, 96, 97, 98, 99, 100, 101, 102, 103, 104, 106, 107, 108, 109, 110, 111, 112, 113, 115, 116, 117, 118, 119, 120, 121, 122, 123, 124, 127, 128, 129, 130, 132, 136, 137, 138, 139, 141, 142, 143, 144, 145, 146, 147, 149, 151, 153, 155, 156, 157, 158, 159, 160, 161, 162, 164, 166, 167, 168, 173, 174, 175, 176, 177, 178, 179, 180, 181, 182, 183, 184, 185, 186, 189, 190, 195, 196, 197, 198, 199, 200, 201, 202, 203, 204, 205, 207, 208, 209, 210, 213, 214, 215, 217, 218, 219, 220, 221, 222, 223, 226, 228, 229, 230, 231, 235, 236, 347, 349, 359, 362, 377, 403, 406, 422, 428, 499, 532, 603, 604, 605, 1001, 1002, 1003, 1004\n<[AFG 4]: \"Afghanistan\">\n<[ALB 5]: \"Albania\">\n<[DZA 6]: \"Algeria\">\n<[AND 7]: \"Andorra\">\n<[AGO 8]: \"Angola\"> \n...\n <[GBR 603]: \"United Kingdom\">\n<[SRB 1001]: \"Serbia\">\n<[MNE 1002]: \"Montenegro\">\n<[XKX 1003]: \"Kosovo\">\n<[SSD 1004]: \"South Sudan\">\n"
     ]
    }
   ],
   "source": [
    "# Get np.array of unique countries that appear in \n",
    "# the global terrorism database.\n",
    "gtd_countries_df = parser.read_tsv(\"../data/gtd/gtd_countries.tsv\")\n",
    "keys_gtd = Country.from_frame(countries_df, search=gtd_countries_df.iloc[:,0].unique())\n",
    "print(Country.format(keys_gtd[:5], sep=\"\\n\"), \"\\n...\\n\", Country.format(keys_gtd[-5:], sep=\"\\n\"))"
   ]
  },
  {
   "cell_type": "code",
   "execution_count": 10,
   "metadata": {},
   "outputs": [
    {
     "output_type": "execute_result",
     "data": {
      "text/plain": [
       "      ID Code         Country\n",
       "8     14  AUS       Australia\n",
       "9     15  AUT         Austria\n",
       "14    21  BEL         Belgium\n",
       "27    38  CAN          Canada\n",
       "51    69  FRA          France\n",
       "55    75  DEU         Germany\n",
       "70    96  IRL         Ireland\n",
       "72    98  ITA           Italy\n",
       "74   101  JPN           Japan\n",
       "101  142  NLD     Netherlands\n",
       "103  144  NZL     New Zealand\n",
       "107  151  NOR          Norway\n",
       "129  185  ESP           Spain\n",
       "136  198  SWE          Sweden\n",
       "137  199  CHE     Switzerland\n",
       "149  217  USA   United States\n",
       "156  603  GBR  United Kingdom"
      ],
      "text/html": "<div>\n<style scoped>\n    .dataframe tbody tr th:only-of-type {\n        vertical-align: middle;\n    }\n\n    .dataframe tbody tr th {\n        vertical-align: top;\n    }\n\n    .dataframe thead th {\n        text-align: right;\n    }\n</style>\n<table border=\"1\" class=\"dataframe\">\n  <thead>\n    <tr style=\"text-align: right;\">\n      <th></th>\n      <th>ID</th>\n      <th>Code</th>\n      <th>Country</th>\n    </tr>\n  </thead>\n  <tbody>\n    <tr>\n      <th>8</th>\n      <td>14</td>\n      <td>AUS</td>\n      <td>Australia</td>\n    </tr>\n    <tr>\n      <th>9</th>\n      <td>15</td>\n      <td>AUT</td>\n      <td>Austria</td>\n    </tr>\n    <tr>\n      <th>14</th>\n      <td>21</td>\n      <td>BEL</td>\n      <td>Belgium</td>\n    </tr>\n    <tr>\n      <th>27</th>\n      <td>38</td>\n      <td>CAN</td>\n      <td>Canada</td>\n    </tr>\n    <tr>\n      <th>51</th>\n      <td>69</td>\n      <td>FRA</td>\n      <td>France</td>\n    </tr>\n    <tr>\n      <th>55</th>\n      <td>75</td>\n      <td>DEU</td>\n      <td>Germany</td>\n    </tr>\n    <tr>\n      <th>70</th>\n      <td>96</td>\n      <td>IRL</td>\n      <td>Ireland</td>\n    </tr>\n    <tr>\n      <th>72</th>\n      <td>98</td>\n      <td>ITA</td>\n      <td>Italy</td>\n    </tr>\n    <tr>\n      <th>74</th>\n      <td>101</td>\n      <td>JPN</td>\n      <td>Japan</td>\n    </tr>\n    <tr>\n      <th>101</th>\n      <td>142</td>\n      <td>NLD</td>\n      <td>Netherlands</td>\n    </tr>\n    <tr>\n      <th>103</th>\n      <td>144</td>\n      <td>NZL</td>\n      <td>New Zealand</td>\n    </tr>\n    <tr>\n      <th>107</th>\n      <td>151</td>\n      <td>NOR</td>\n      <td>Norway</td>\n    </tr>\n    <tr>\n      <th>129</th>\n      <td>185</td>\n      <td>ESP</td>\n      <td>Spain</td>\n    </tr>\n    <tr>\n      <th>136</th>\n      <td>198</td>\n      <td>SWE</td>\n      <td>Sweden</td>\n    </tr>\n    <tr>\n      <th>137</th>\n      <td>199</td>\n      <td>CHE</td>\n      <td>Switzerland</td>\n    </tr>\n    <tr>\n      <th>149</th>\n      <td>217</td>\n      <td>USA</td>\n      <td>United States</td>\n    </tr>\n    <tr>\n      <th>156</th>\n      <td>603</td>\n      <td>GBR</td>\n      <td>United Kingdom</td>\n    </tr>\n  </tbody>\n</table>\n</div>"
     },
     "metadata": {},
     "execution_count": 10
    }
   ],
   "source": [
    "# Compute the unique available countries among the datasets.\n",
    "country_codes = {\n",
    "    \"ped\": list(map(lambda country: country.code, keys_ped)),\n",
    "    \"mfi\": list(map(lambda country: country.code, keys_mfi)),\n",
    "    \"gtd\": list(map(lambda country: country.code, keys_gtd))\n",
    "}\n",
    "\n",
    "# Find the available countries.\n",
    "unique_codes = analyser.find_intersection(*country_codes.values())\n",
    "available_countries = countries_df[countries_df[\"Code\"].isin(unique_codes)]\n",
    "available_countries\n",
    "\n",
    "# print(available_countries, sep=\"\\n\")"
   ]
  },
  {
   "cell_type": "code",
   "execution_count": 11,
   "metadata": {},
   "outputs": [],
   "source": [
    "# Clear unused variables in IPython.\n",
    "%reset_selective -f \"^id$\"\n",
    "%reset_selective -f \"^code$\"\n",
    "%reset_selective -f \"^name$\"\n",
    "\n",
    "# Equivalent: del keys_ped\n",
    "# Equivalent: del keys_mfi\n",
    "# Equivalent: del keys_gtd\n",
    "%reset_selective -f \"_ped$\"\n",
    "%reset_selective -f \"_mfi$\"\n",
    "%reset_selective -f \"_gtd$\"\n",
    "\n",
    "# Equivalent: del ped_countries_df\n",
    "# Equivalent: del mfi_countries_df\n",
    "# Equivalent: del gtd_countries_df\n",
    "%reset_selective -f \"_countries_df$\"\n",
    "\n",
    "# Equivalent: del country_codes\n",
    "# Equivalent: del unique_codes\n",
    "%reset_selective -f \"_codes$\""
   ]
  },
  {
   "source": [
    "***\n",
    "\n",
    "<a id=\"queries\" />\n",
    "\n",
    "## Queries ##\n",
    "\n",
    "The objective of the research project is to evaluate key indicators of stability and growth across several countries in order to estimate Ryder's potential for success in these new markets.\n",
    "\n",
    "This sample report evaluates the trends in three (3) separate countries as a sampling of what the broader international research has to offer. **The United Kingdom** (GBR), **Japan** (JPN), and **Sweden** (SWE).\n",
    "\n",
    "The **United States of America** (USA) is included in order to use our current operation region for context."
   ],
   "cell_type": "markdown",
   "metadata": {}
  },
  {
   "cell_type": "code",
   "execution_count": 12,
   "metadata": {},
   "outputs": [
    {
     "output_type": "stream",
     "name": "stdout",
     "text": [
      "['GBR', 'JPN', 'SWE', 'USA']\n"
     ]
    }
   ],
   "source": [
    "# The countries we want to evaluate.\n",
    "codes = [\n",
    "    \"GBR\",  # United Kingdom,\n",
    "    \"JPN\",  # Japan,\n",
    "    \"SWE\",  # Sweden,\n",
    "    \"USA\"   # United States\n",
    "    ]\n",
    "print(codes, sep=\"\\n\")"
   ]
  },
  {
   "cell_type": "code",
   "execution_count": 13,
   "metadata": {},
   "outputs": [
    {
     "output_type": "execute_result",
     "data": {
      "text/plain": [
       "       ID Code         Country\n",
       "Code                          \n",
       "JPN   101  JPN           Japan\n",
       "SWE   198  SWE          Sweden\n",
       "USA   217  USA   United States\n",
       "GBR   603  GBR  United Kingdom"
      ],
      "text/html": "<div>\n<style scoped>\n    .dataframe tbody tr th:only-of-type {\n        vertical-align: middle;\n    }\n\n    .dataframe tbody tr th {\n        vertical-align: top;\n    }\n\n    .dataframe thead th {\n        text-align: right;\n    }\n</style>\n<table border=\"1\" class=\"dataframe\">\n  <thead>\n    <tr style=\"text-align: right;\">\n      <th></th>\n      <th>ID</th>\n      <th>Code</th>\n      <th>Country</th>\n    </tr>\n    <tr>\n      <th>Code</th>\n      <th></th>\n      <th></th>\n      <th></th>\n    </tr>\n  </thead>\n  <tbody>\n    <tr>\n      <th>JPN</th>\n      <td>101</td>\n      <td>JPN</td>\n      <td>Japan</td>\n    </tr>\n    <tr>\n      <th>SWE</th>\n      <td>198</td>\n      <td>SWE</td>\n      <td>Sweden</td>\n    </tr>\n    <tr>\n      <th>USA</th>\n      <td>217</td>\n      <td>USA</td>\n      <td>United States</td>\n    </tr>\n    <tr>\n      <th>GBR</th>\n      <td>603</td>\n      <td>GBR</td>\n      <td>United Kingdom</td>\n    </tr>\n  </tbody>\n</table>\n</div>"
     },
     "metadata": {},
     "execution_count": 13
    }
   ],
   "source": [
    "# Select these countries from the set of available countries.\n",
    "selected_df = available_countries[available_countries[\"Code\"].isin(codes)]\n",
    "selected_df.set_index(\"Code\", drop=False, inplace=True)\n",
    "selected_df"
   ]
  },
  {
   "cell_type": "code",
   "execution_count": 14,
   "metadata": {},
   "outputs": [
    {
     "output_type": "stream",
     "name": "stdout",
     "text": [
      "<[JPN 101]: \"Japan\">\n<[SWE 198]: \"Sweden\">\n<[USA 217]: \"United States\">\n<[GBR 603]: \"United Kingdom\">\n"
     ]
    }
   ],
   "source": [
    "# Convert selected countries into Country representations for use across all datasets.\n",
    "selected_countries = Country.get_countries(selected_df)\n",
    "print(Country.format(selected_countries, sep=\"\\n\"))"
   ]
  },
  {
   "source": [
    "In order to query the data, we need to form our `pandas.DataFrame` representations.\n",
    "\n",
    "For the infant mortality, fertility, and income per capita datasets, we need to assign a MultiIndex using the country code and the year."
   ],
   "cell_type": "markdown",
   "metadata": {}
  },
  {
   "cell_type": "code",
   "execution_count": 15,
   "metadata": {},
   "outputs": [
    {
     "output_type": "execute_result",
     "data": {
      "text/plain": [
       "                        Country  Mortality Rate\n",
       "Code Year                                      \n",
       "GBR  1970-01-01  United Kingdom            18.0\n",
       "     1971-01-01  United Kingdom            17.7\n",
       "     1972-01-01  United Kingdom            17.1\n",
       "     1973-01-01  United Kingdom            16.6\n",
       "     1974-01-01  United Kingdom            16.0\n",
       "...                         ...             ...\n",
       "USA  2012-01-01   United States             6.0\n",
       "     2013-01-01   United States             5.9\n",
       "     2014-01-01   United States             5.8\n",
       "     2015-01-01   United States             5.7\n",
       "     2016-01-01   United States             5.6\n",
       "\n",
       "[188 rows x 2 columns]"
      ],
      "text/html": "<div>\n<style scoped>\n    .dataframe tbody tr th:only-of-type {\n        vertical-align: middle;\n    }\n\n    .dataframe tbody tr th {\n        vertical-align: top;\n    }\n\n    .dataframe thead th {\n        text-align: right;\n    }\n</style>\n<table border=\"1\" class=\"dataframe\">\n  <thead>\n    <tr style=\"text-align: right;\">\n      <th></th>\n      <th></th>\n      <th>Country</th>\n      <th>Mortality Rate</th>\n    </tr>\n    <tr>\n      <th>Code</th>\n      <th>Year</th>\n      <th></th>\n      <th></th>\n    </tr>\n  </thead>\n  <tbody>\n    <tr>\n      <th rowspan=\"5\" valign=\"top\">GBR</th>\n      <th>1970-01-01</th>\n      <td>United Kingdom</td>\n      <td>18.0</td>\n    </tr>\n    <tr>\n      <th>1971-01-01</th>\n      <td>United Kingdom</td>\n      <td>17.7</td>\n    </tr>\n    <tr>\n      <th>1972-01-01</th>\n      <td>United Kingdom</td>\n      <td>17.1</td>\n    </tr>\n    <tr>\n      <th>1973-01-01</th>\n      <td>United Kingdom</td>\n      <td>16.6</td>\n    </tr>\n    <tr>\n      <th>1974-01-01</th>\n      <td>United Kingdom</td>\n      <td>16.0</td>\n    </tr>\n    <tr>\n      <th>...</th>\n      <th>...</th>\n      <td>...</td>\n      <td>...</td>\n    </tr>\n    <tr>\n      <th rowspan=\"5\" valign=\"top\">USA</th>\n      <th>2012-01-01</th>\n      <td>United States</td>\n      <td>6.0</td>\n    </tr>\n    <tr>\n      <th>2013-01-01</th>\n      <td>United States</td>\n      <td>5.9</td>\n    </tr>\n    <tr>\n      <th>2014-01-01</th>\n      <td>United States</td>\n      <td>5.8</td>\n    </tr>\n    <tr>\n      <th>2015-01-01</th>\n      <td>United States</td>\n      <td>5.7</td>\n    </tr>\n    <tr>\n      <th>2016-01-01</th>\n      <td>United States</td>\n      <td>5.6</td>\n    </tr>\n  </tbody>\n</table>\n<p>188 rows × 2 columns</p>\n</div>"
     },
     "metadata": {},
     "execution_count": 15
    }
   ],
   "source": [
    "# Get the mortality table using the parser.read_mfi helper function.\n",
    "mortality_df = parser.read_mfi(\n",
    "    '../data/mfi/mortality/mortality_long.tsv', \n",
    "    title=\"Mortality Rate\",\n",
    "    countries=selected_df.index)    \n",
    "mortality_df"
   ]
  },
  {
   "cell_type": "code",
   "execution_count": 16,
   "metadata": {},
   "outputs": [
    {
     "output_type": "execute_result",
     "data": {
      "text/plain": [
       "                        Country  Income\n",
       "Code Year                              \n",
       "GBR  1970-01-01  United Kingdom     2.4\n",
       "     1971-01-01  United Kingdom     2.4\n",
       "     1972-01-01  United Kingdom     2.2\n",
       "     1973-01-01  United Kingdom     2.0\n",
       "     1974-01-01  United Kingdom     1.9\n",
       "...                         ...     ...\n",
       "USA  2012-01-01   United States     1.9\n",
       "     2013-01-01   United States     1.9\n",
       "     2014-01-01   United States     1.9\n",
       "     2015-01-01   United States     1.8\n",
       "     2016-01-01   United States     1.8\n",
       "\n",
       "[188 rows x 2 columns]"
      ],
      "text/html": "<div>\n<style scoped>\n    .dataframe tbody tr th:only-of-type {\n        vertical-align: middle;\n    }\n\n    .dataframe tbody tr th {\n        vertical-align: top;\n    }\n\n    .dataframe thead th {\n        text-align: right;\n    }\n</style>\n<table border=\"1\" class=\"dataframe\">\n  <thead>\n    <tr style=\"text-align: right;\">\n      <th></th>\n      <th></th>\n      <th>Country</th>\n      <th>Income</th>\n    </tr>\n    <tr>\n      <th>Code</th>\n      <th>Year</th>\n      <th></th>\n      <th></th>\n    </tr>\n  </thead>\n  <tbody>\n    <tr>\n      <th rowspan=\"5\" valign=\"top\">GBR</th>\n      <th>1970-01-01</th>\n      <td>United Kingdom</td>\n      <td>2.4</td>\n    </tr>\n    <tr>\n      <th>1971-01-01</th>\n      <td>United Kingdom</td>\n      <td>2.4</td>\n    </tr>\n    <tr>\n      <th>1972-01-01</th>\n      <td>United Kingdom</td>\n      <td>2.2</td>\n    </tr>\n    <tr>\n      <th>1973-01-01</th>\n      <td>United Kingdom</td>\n      <td>2.0</td>\n    </tr>\n    <tr>\n      <th>1974-01-01</th>\n      <td>United Kingdom</td>\n      <td>1.9</td>\n    </tr>\n    <tr>\n      <th>...</th>\n      <th>...</th>\n      <td>...</td>\n      <td>...</td>\n    </tr>\n    <tr>\n      <th rowspan=\"5\" valign=\"top\">USA</th>\n      <th>2012-01-01</th>\n      <td>United States</td>\n      <td>1.9</td>\n    </tr>\n    <tr>\n      <th>2013-01-01</th>\n      <td>United States</td>\n      <td>1.9</td>\n    </tr>\n    <tr>\n      <th>2014-01-01</th>\n      <td>United States</td>\n      <td>1.9</td>\n    </tr>\n    <tr>\n      <th>2015-01-01</th>\n      <td>United States</td>\n      <td>1.8</td>\n    </tr>\n    <tr>\n      <th>2016-01-01</th>\n      <td>United States</td>\n      <td>1.8</td>\n    </tr>\n  </tbody>\n</table>\n<p>188 rows × 2 columns</p>\n</div>"
     },
     "metadata": {},
     "execution_count": 16
    }
   ],
   "source": [
    "# Get the fertility table using the parser.read_mfi helper function.\n",
    "fertility_df = parser.read_mfi(\n",
    "    '../data/mfi/fertility/fertility_long.tsv', \n",
    "    title=\"Income\",\n",
    "    countries=selected_df.index)    \n",
    "fertility_df"
   ]
  },
  {
   "cell_type": "code",
   "execution_count": 17,
   "metadata": {},
   "outputs": [
    {
     "output_type": "execute_result",
     "data": {
      "text/plain": [
       "                        Country        Income\n",
       "Code Year                                    \n",
       "GBR  1970-01-01  United Kingdom   2220.021490\n",
       "     1971-01-01  United Kingdom   2484.150369\n",
       "     1972-01-01  United Kingdom   2823.686879\n",
       "     1973-01-01  United Kingdom   3192.310330\n",
       "     1974-01-01  United Kingdom   3393.134062\n",
       "...                         ...           ...\n",
       "USA  2012-01-01   United States  44582.333450\n",
       "     2013-01-01   United States  45548.288240\n",
       "     2014-01-01   United States  47344.285540\n",
       "     2015-01-01   United States  49058.089400\n",
       "     2016-01-01   United States  49725.780530\n",
       "\n",
       "[188 rows x 2 columns]"
      ],
      "text/html": "<div>\n<style scoped>\n    .dataframe tbody tr th:only-of-type {\n        vertical-align: middle;\n    }\n\n    .dataframe tbody tr th {\n        vertical-align: top;\n    }\n\n    .dataframe thead th {\n        text-align: right;\n    }\n</style>\n<table border=\"1\" class=\"dataframe\">\n  <thead>\n    <tr style=\"text-align: right;\">\n      <th></th>\n      <th></th>\n      <th>Country</th>\n      <th>Income</th>\n    </tr>\n    <tr>\n      <th>Code</th>\n      <th>Year</th>\n      <th></th>\n      <th></th>\n    </tr>\n  </thead>\n  <tbody>\n    <tr>\n      <th rowspan=\"5\" valign=\"top\">GBR</th>\n      <th>1970-01-01</th>\n      <td>United Kingdom</td>\n      <td>2220.021490</td>\n    </tr>\n    <tr>\n      <th>1971-01-01</th>\n      <td>United Kingdom</td>\n      <td>2484.150369</td>\n    </tr>\n    <tr>\n      <th>1972-01-01</th>\n      <td>United Kingdom</td>\n      <td>2823.686879</td>\n    </tr>\n    <tr>\n      <th>1973-01-01</th>\n      <td>United Kingdom</td>\n      <td>3192.310330</td>\n    </tr>\n    <tr>\n      <th>1974-01-01</th>\n      <td>United Kingdom</td>\n      <td>3393.134062</td>\n    </tr>\n    <tr>\n      <th>...</th>\n      <th>...</th>\n      <td>...</td>\n      <td>...</td>\n    </tr>\n    <tr>\n      <th rowspan=\"5\" valign=\"top\">USA</th>\n      <th>2012-01-01</th>\n      <td>United States</td>\n      <td>44582.333450</td>\n    </tr>\n    <tr>\n      <th>2013-01-01</th>\n      <td>United States</td>\n      <td>45548.288240</td>\n    </tr>\n    <tr>\n      <th>2014-01-01</th>\n      <td>United States</td>\n      <td>47344.285540</td>\n    </tr>\n    <tr>\n      <th>2015-01-01</th>\n      <td>United States</td>\n      <td>49058.089400</td>\n    </tr>\n    <tr>\n      <th>2016-01-01</th>\n      <td>United States</td>\n      <td>49725.780530</td>\n    </tr>\n  </tbody>\n</table>\n<p>188 rows × 2 columns</p>\n</div>"
     },
     "metadata": {},
     "execution_count": 17
    }
   ],
   "source": [
    "# Get the income table using the parser.read_mfi helper function.\n",
    "income_df = parser.read_mfi(\n",
    "    '../data/mfi/income/income_long.tsv', \n",
    "    title=\"Income\",\n",
    "    countries=selected_df.index)    \n",
    "income_df"
   ]
  },
  {
   "source": [
    "For each of these countries, we want to answer the following questions:\n",
    "\n",
    "    1. Is infant mortality improving, stable, or getting worse?\n",
    "    2. Is income rising, stagnant, or falling?\n",
    "    3. Does one country or another seem more or less stable than the others, and why do you say this?\n",
    "    4. What changes do you predict for these countries, and why?"
   ],
   "cell_type": "markdown",
   "metadata": {}
  },
  {
   "source": [
    "### Infant Mortality ###\n",
    "\n",
    "For **each country** in `selected_countries`, observations regarding infant mortality per 1,000 live births can be determined with the following steps:\n",
    "\n",
    "- Summraize rates of infant mortality per 1,000 live births per year, for each country.\n",
    "\n",
    "- Plot a time-series showing infant mortality trends in each country."
   ],
   "cell_type": "markdown",
   "metadata": {}
  },
  {
   "cell_type": "code",
   "execution_count": 18,
   "metadata": {},
   "outputs": [],
   "source": [
    "describe_numeric = analyser.describe_numeric"
   ]
  },
  {
   "cell_type": "code",
   "execution_count": 19,
   "metadata": {},
   "outputs": [
    {
     "output_type": "stream",
     "name": "stdout",
     "text": [
      "{'all':      Country                                                            ...  \\\n       count unique             top freq mean  std  min  25%  50%  75%  ...   \nCode                                                                    ...   \nGBR       47      1  United Kingdom   47  NaN  NaN  NaN  NaN  NaN  NaN  ...   \nJPN       47      1           Japan   47  NaN  NaN  NaN  NaN  NaN  NaN  ...   \nSWE       47      1          Sweden   47  NaN  NaN  NaN  NaN  NaN  NaN  ...   \nUSA       47      1   United States   47  NaN  NaN  NaN  NaN  NaN  NaN  ...   \n\n     Mortality Rate                                                            \n             unique top freq      mean       std  min   25%  50%    75%   max  \nCode                                                                           \nGBR             NaN NaN  NaN  8.502128  4.344836  3.7  5.20  6.5  11.10  18.0  \nJPN             NaN NaN  NaN  5.242553  3.132560  2.0  2.80  4.3   6.70  13.4  \nSWE             NaN NaN  NaN  5.276596  2.581895  2.4  3.05  4.8   6.85  11.3  \nUSA             NaN NaN  NaN  9.878723  3.999779  5.6  6.85  8.5  11.90  19.9  \n\n[4 rows x 22 columns], 'numeric':      Mortality Rate                                    \\\n                min                      idxmin   max   \nCode                                                    \nGBR             3.7  (GBR, 2015-01-01 00:00:00)  18.0   \nJPN             2.0  (JPN, 2014-01-01 00:00:00)  13.4   \nSWE             2.4  (SWE, 2013-01-01 00:00:00)  11.3   \nUSA             5.6  (USA, 2016-01-01 00:00:00)  19.9   \n\n                                                                           \n                          idxmax range   0%   25%  50%    75%  100%   IQR  \nCode                                                                       \nGBR   (GBR, 1970-01-01 00:00:00)  14.3  3.7  5.20  6.5  11.10  18.0  5.90  \nJPN   (JPN, 1970-01-01 00:00:00)  11.4  2.0  2.80  4.3   6.70  13.4  3.90  \nSWE   (SWE, 1970-01-01 00:00:00)   8.9  2.4  3.05  4.8   6.85  11.3  3.80  \nUSA   (USA, 1970-01-01 00:00:00)  14.3  5.6  6.85  8.5  11.90  19.9  5.05  }\n"
     ]
    }
   ],
   "source": [
    "# Query 1a. Average infant mortality per 1,000 live births per year, by country.\n",
    "# print(describe_numeric(mortality_df.groupby(['Code']), 'Mortality Rate'))\n",
    "mortality_stats = {\n",
    "    \"all\": mortality_df.groupby(['Code']).describe(include=\"all\"),\n",
    "    \"numeric\": mortality_df.groupby(['Code']).agg({\n",
    "                    'Mortality Rate': [\n",
    "                        'min', \n",
    "                        'idxmin',\n",
    "                        'max',\n",
    "                        'idxmax',\n",
    "                        analyser.spread(),\n",
    "                        analyser.percentile(0),\n",
    "                        analyser.percentile(0.25),\n",
    "                        analyser.percentile(0.5),\n",
    "                        analyser.percentile(0.75),\n",
    "                        analyser.percentile(1),\n",
    "                        analyser.IQR()\n",
    "                        ] \n",
    "                    })\n",
    "}\n",
    "\n",
    "print(mortality_stats)"
   ]
  },
  {
   "cell_type": "code",
   "execution_count": 78,
   "metadata": {},
   "outputs": [
    {
     "output_type": "stream",
     "name": "stdout",
     "text": [
      "Plotting data for each 4 country(ies) across 47 year(s)...\n"
     ]
    },
    {
     "output_type": "display_data",
     "data": {
      "text/plain": "<Figure size 1800x1200 with 1 Axes>",
      "image/svg+xml": "<?xml version=\"1.0\" encoding=\"utf-8\" standalone=\"no\"?>\r\n<!DOCTYPE svg PUBLIC \"-//W3C//DTD SVG 1.1//EN\"\r\n  \"http://www.w3.org/Graphics/SVG/1.1/DTD/svg11.dtd\">\r\n<!-- Created with matplotlib (https://matplotlib.org/) -->\r\n<svg height=\"277.314375pt\" version=\"1.1\" viewBox=\"0 0 420.124969 277.314375\" width=\"420.124969pt\" xmlns=\"http://www.w3.org/2000/svg\" xmlns:xlink=\"http://www.w3.org/1999/xlink\">\r\n <metadata>\r\n  <rdf:RDF xmlns:cc=\"http://creativecommons.org/ns#\" xmlns:dc=\"http://purl.org/dc/elements/1.1/\" xmlns:rdf=\"http://www.w3.org/1999/02/22-rdf-syntax-ns#\">\r\n   <cc:Work>\r\n    <dc:type rdf:resource=\"http://purl.org/dc/dcmitype/StillImage\"/>\r\n    <dc:date>2021-03-19T17:06:34.587353</dc:date>\r\n    <dc:format>image/svg+xml</dc:format>\r\n    <dc:creator>\r\n     <cc:Agent>\r\n      <dc:title>Matplotlib v3.3.4, https://matplotlib.org/</dc:title>\r\n     </cc:Agent>\r\n    </dc:creator>\r\n   </cc:Work>\r\n  </rdf:RDF>\r\n </metadata>\r\n <defs>\r\n  <style type=\"text/css\">*{stroke-linecap:butt;stroke-linejoin:round;}</style>\r\n </defs>\r\n <g id=\"figure_1\">\r\n  <g id=\"patch_1\">\r\n   <path d=\"M 0 277.314375 \r\nL 420.124969 277.314375 \r\nL 420.124969 0 \r\nL 0 0 \r\nz\r\n\"/>\r\n  </g>\r\n  <g id=\"axes_1\">\r\n   <g id=\"patch_2\">\r\n    <path d=\"M 62.512287 239.758125 \r\nL 397.312287 239.758125 \r\nL 397.312287 22.318125 \r\nL 62.512287 22.318125 \r\nz\r\n\"/>\r\n   </g>\r\n   <g id=\"matplotlib.axis_1\">\r\n    <g id=\"xtick_1\">\r\n     <g id=\"line2d_1\">\r\n      <defs>\r\n       <path d=\"M 0 0 \r\nL 0 3.5 \r\n\" id=\"m2dc3a93b7a\" style=\"stroke:#ffffff;stroke-width:0.8;\"/>\r\n      </defs>\r\n      <g>\r\n       <use style=\"fill:#ffffff;stroke:#ffffff;stroke-width:0.8;\" x=\"77.730469\" xlink:href=\"#m2dc3a93b7a\" y=\"239.758125\"/>\r\n      </g>\r\n     </g>\r\n     <g id=\"text_1\">\r\n      <!-- (USA, 1970-01-01 00:00:00) -->\r\n      <g style=\"fill:#ffffff;\" transform=\"translate(7.2 254.356562)scale(0.1 -0.1)\">\r\n       <defs>\r\n        <path d=\"M 31 75.875 \r\nQ 24.46875 64.65625 21.28125 53.65625 \r\nQ 18.109375 42.671875 18.109375 31.390625 \r\nQ 18.109375 20.125 21.3125 9.0625 \r\nQ 24.515625 -2 31 -13.1875 \r\nL 23.1875 -13.1875 \r\nQ 15.875 -1.703125 12.234375 9.375 \r\nQ 8.59375 20.453125 8.59375 31.390625 \r\nQ 8.59375 42.28125 12.203125 53.3125 \r\nQ 15.828125 64.359375 23.1875 75.875 \r\nz\r\n\" id=\"DejaVuSans-40\"/>\r\n        <path d=\"M 8.6875 72.90625 \r\nL 18.609375 72.90625 \r\nL 18.609375 28.609375 \r\nQ 18.609375 16.890625 22.84375 11.734375 \r\nQ 27.09375 6.59375 36.625 6.59375 \r\nQ 46.09375 6.59375 50.34375 11.734375 \r\nQ 54.59375 16.890625 54.59375 28.609375 \r\nL 54.59375 72.90625 \r\nL 64.5 72.90625 \r\nL 64.5 27.390625 \r\nQ 64.5 13.140625 57.4375 5.859375 \r\nQ 50.390625 -1.421875 36.625 -1.421875 \r\nQ 22.796875 -1.421875 15.734375 5.859375 \r\nQ 8.6875 13.140625 8.6875 27.390625 \r\nz\r\n\" id=\"DejaVuSans-85\"/>\r\n        <path d=\"M 53.515625 70.515625 \r\nL 53.515625 60.890625 \r\nQ 47.90625 63.578125 42.921875 64.890625 \r\nQ 37.9375 66.21875 33.296875 66.21875 \r\nQ 25.25 66.21875 20.875 63.09375 \r\nQ 16.5 59.96875 16.5 54.203125 \r\nQ 16.5 49.359375 19.40625 46.890625 \r\nQ 22.3125 44.4375 30.421875 42.921875 \r\nL 36.375 41.703125 \r\nQ 47.40625 39.59375 52.65625 34.296875 \r\nQ 57.90625 29 57.90625 20.125 \r\nQ 57.90625 9.515625 50.796875 4.046875 \r\nQ 43.703125 -1.421875 29.984375 -1.421875 \r\nQ 24.8125 -1.421875 18.96875 -0.25 \r\nQ 13.140625 0.921875 6.890625 3.21875 \r\nL 6.890625 13.375 \r\nQ 12.890625 10.015625 18.65625 8.296875 \r\nQ 24.421875 6.59375 29.984375 6.59375 \r\nQ 38.421875 6.59375 43.015625 9.90625 \r\nQ 47.609375 13.234375 47.609375 19.390625 \r\nQ 47.609375 24.75 44.3125 27.78125 \r\nQ 41.015625 30.8125 33.5 32.328125 \r\nL 27.484375 33.5 \r\nQ 16.453125 35.6875 11.515625 40.375 \r\nQ 6.59375 45.0625 6.59375 53.421875 \r\nQ 6.59375 63.09375 13.40625 68.65625 \r\nQ 20.21875 74.21875 32.171875 74.21875 \r\nQ 37.3125 74.21875 42.625 73.28125 \r\nQ 47.953125 72.359375 53.515625 70.515625 \r\nz\r\n\" id=\"DejaVuSans-83\"/>\r\n        <path d=\"M 34.1875 63.1875 \r\nL 20.796875 26.90625 \r\nL 47.609375 26.90625 \r\nz\r\nM 28.609375 72.90625 \r\nL 39.796875 72.90625 \r\nL 67.578125 0 \r\nL 57.328125 0 \r\nL 50.6875 18.703125 \r\nL 17.828125 18.703125 \r\nL 11.1875 0 \r\nL 0.78125 0 \r\nz\r\n\" id=\"DejaVuSans-65\"/>\r\n        <path d=\"M 11.71875 12.40625 \r\nL 22.015625 12.40625 \r\nL 22.015625 4 \r\nL 14.015625 -11.625 \r\nL 7.71875 -11.625 \r\nL 11.71875 4 \r\nz\r\n\" id=\"DejaVuSans-44\"/>\r\n        <path id=\"DejaVuSans-32\"/>\r\n        <path d=\"M 12.40625 8.296875 \r\nL 28.515625 8.296875 \r\nL 28.515625 63.921875 \r\nL 10.984375 60.40625 \r\nL 10.984375 69.390625 \r\nL 28.421875 72.90625 \r\nL 38.28125 72.90625 \r\nL 38.28125 8.296875 \r\nL 54.390625 8.296875 \r\nL 54.390625 0 \r\nL 12.40625 0 \r\nz\r\n\" id=\"DejaVuSans-49\"/>\r\n        <path d=\"M 10.984375 1.515625 \r\nL 10.984375 10.5 \r\nQ 14.703125 8.734375 18.5 7.8125 \r\nQ 22.3125 6.890625 25.984375 6.890625 \r\nQ 35.75 6.890625 40.890625 13.453125 \r\nQ 46.046875 20.015625 46.78125 33.40625 \r\nQ 43.953125 29.203125 39.59375 26.953125 \r\nQ 35.25 24.703125 29.984375 24.703125 \r\nQ 19.046875 24.703125 12.671875 31.3125 \r\nQ 6.296875 37.9375 6.296875 49.421875 \r\nQ 6.296875 60.640625 12.9375 67.421875 \r\nQ 19.578125 74.21875 30.609375 74.21875 \r\nQ 43.265625 74.21875 49.921875 64.515625 \r\nQ 56.59375 54.828125 56.59375 36.375 \r\nQ 56.59375 19.140625 48.40625 8.859375 \r\nQ 40.234375 -1.421875 26.421875 -1.421875 \r\nQ 22.703125 -1.421875 18.890625 -0.6875 \r\nQ 15.09375 0.046875 10.984375 1.515625 \r\nz\r\nM 30.609375 32.421875 \r\nQ 37.25 32.421875 41.125 36.953125 \r\nQ 45.015625 41.5 45.015625 49.421875 \r\nQ 45.015625 57.28125 41.125 61.84375 \r\nQ 37.25 66.40625 30.609375 66.40625 \r\nQ 23.96875 66.40625 20.09375 61.84375 \r\nQ 16.21875 57.28125 16.21875 49.421875 \r\nQ 16.21875 41.5 20.09375 36.953125 \r\nQ 23.96875 32.421875 30.609375 32.421875 \r\nz\r\n\" id=\"DejaVuSans-57\"/>\r\n        <path d=\"M 8.203125 72.90625 \r\nL 55.078125 72.90625 \r\nL 55.078125 68.703125 \r\nL 28.609375 0 \r\nL 18.3125 0 \r\nL 43.21875 64.59375 \r\nL 8.203125 64.59375 \r\nz\r\n\" id=\"DejaVuSans-55\"/>\r\n        <path d=\"M 31.78125 66.40625 \r\nQ 24.171875 66.40625 20.328125 58.90625 \r\nQ 16.5 51.421875 16.5 36.375 \r\nQ 16.5 21.390625 20.328125 13.890625 \r\nQ 24.171875 6.390625 31.78125 6.390625 \r\nQ 39.453125 6.390625 43.28125 13.890625 \r\nQ 47.125 21.390625 47.125 36.375 \r\nQ 47.125 51.421875 43.28125 58.90625 \r\nQ 39.453125 66.40625 31.78125 66.40625 \r\nz\r\nM 31.78125 74.21875 \r\nQ 44.046875 74.21875 50.515625 64.515625 \r\nQ 56.984375 54.828125 56.984375 36.375 \r\nQ 56.984375 17.96875 50.515625 8.265625 \r\nQ 44.046875 -1.421875 31.78125 -1.421875 \r\nQ 19.53125 -1.421875 13.0625 8.265625 \r\nQ 6.59375 17.96875 6.59375 36.375 \r\nQ 6.59375 54.828125 13.0625 64.515625 \r\nQ 19.53125 74.21875 31.78125 74.21875 \r\nz\r\n\" id=\"DejaVuSans-48\"/>\r\n        <path d=\"M 4.890625 31.390625 \r\nL 31.203125 31.390625 \r\nL 31.203125 23.390625 \r\nL 4.890625 23.390625 \r\nz\r\n\" id=\"DejaVuSans-45\"/>\r\n        <path d=\"M 11.71875 12.40625 \r\nL 22.015625 12.40625 \r\nL 22.015625 0 \r\nL 11.71875 0 \r\nz\r\nM 11.71875 51.703125 \r\nL 22.015625 51.703125 \r\nL 22.015625 39.3125 \r\nL 11.71875 39.3125 \r\nz\r\n\" id=\"DejaVuSans-58\"/>\r\n        <path d=\"M 8.015625 75.875 \r\nL 15.828125 75.875 \r\nQ 23.140625 64.359375 26.78125 53.3125 \r\nQ 30.421875 42.28125 30.421875 31.390625 \r\nQ 30.421875 20.453125 26.78125 9.375 \r\nQ 23.140625 -1.703125 15.828125 -13.1875 \r\nL 8.015625 -13.1875 \r\nQ 14.5 -2 17.703125 9.0625 \r\nQ 20.90625 20.125 20.90625 31.390625 \r\nQ 20.90625 42.671875 17.703125 53.65625 \r\nQ 14.5 64.65625 8.015625 75.875 \r\nz\r\n\" id=\"DejaVuSans-41\"/>\r\n       </defs>\r\n       <use xlink:href=\"#DejaVuSans-40\"/>\r\n       <use x=\"39.013672\" xlink:href=\"#DejaVuSans-85\"/>\r\n       <use x=\"112.207031\" xlink:href=\"#DejaVuSans-83\"/>\r\n       <use x=\"177.558594\" xlink:href=\"#DejaVuSans-65\"/>\r\n       <use x=\"245.966797\" xlink:href=\"#DejaVuSans-44\"/>\r\n       <use x=\"277.753906\" xlink:href=\"#DejaVuSans-32\"/>\r\n       <use x=\"309.541016\" xlink:href=\"#DejaVuSans-49\"/>\r\n       <use x=\"373.164062\" xlink:href=\"#DejaVuSans-57\"/>\r\n       <use x=\"436.787109\" xlink:href=\"#DejaVuSans-55\"/>\r\n       <use x=\"500.410156\" xlink:href=\"#DejaVuSans-48\"/>\r\n       <use x=\"564.033203\" xlink:href=\"#DejaVuSans-45\"/>\r\n       <use x=\"600.117188\" xlink:href=\"#DejaVuSans-48\"/>\r\n       <use x=\"663.740234\" xlink:href=\"#DejaVuSans-49\"/>\r\n       <use x=\"727.363281\" xlink:href=\"#DejaVuSans-45\"/>\r\n       <use x=\"763.447266\" xlink:href=\"#DejaVuSans-48\"/>\r\n       <use x=\"827.070312\" xlink:href=\"#DejaVuSans-49\"/>\r\n       <use x=\"890.693359\" xlink:href=\"#DejaVuSans-32\"/>\r\n       <use x=\"922.480469\" xlink:href=\"#DejaVuSans-48\"/>\r\n       <use x=\"986.103516\" xlink:href=\"#DejaVuSans-48\"/>\r\n       <use x=\"1049.726562\" xlink:href=\"#DejaVuSans-58\"/>\r\n       <use x=\"1083.417969\" xlink:href=\"#DejaVuSans-48\"/>\r\n       <use x=\"1147.041016\" xlink:href=\"#DejaVuSans-48\"/>\r\n       <use x=\"1210.664062\" xlink:href=\"#DejaVuSans-58\"/>\r\n       <use x=\"1244.355469\" xlink:href=\"#DejaVuSans-48\"/>\r\n       <use x=\"1307.978516\" xlink:href=\"#DejaVuSans-48\"/>\r\n       <use x=\"1371.601562\" xlink:href=\"#DejaVuSans-41\"/>\r\n      </g>\r\n     </g>\r\n    </g>\r\n    <g id=\"xtick_2\">\r\n     <g id=\"line2d_2\">\r\n      <g>\r\n       <use style=\"fill:#ffffff;stroke:#ffffff;stroke-width:0.8;\" x=\"143.896477\" xlink:href=\"#m2dc3a93b7a\" y=\"239.758125\"/>\r\n      </g>\r\n     </g>\r\n     <g id=\"text_2\">\r\n      <!-- (USA, 1980-01-01 00:00:00) -->\r\n      <g style=\"fill:#ffffff;\" transform=\"translate(73.366008 254.356562)scale(0.1 -0.1)\">\r\n       <defs>\r\n        <path d=\"M 31.78125 34.625 \r\nQ 24.75 34.625 20.71875 30.859375 \r\nQ 16.703125 27.09375 16.703125 20.515625 \r\nQ 16.703125 13.921875 20.71875 10.15625 \r\nQ 24.75 6.390625 31.78125 6.390625 \r\nQ 38.8125 6.390625 42.859375 10.171875 \r\nQ 46.921875 13.96875 46.921875 20.515625 \r\nQ 46.921875 27.09375 42.890625 30.859375 \r\nQ 38.875 34.625 31.78125 34.625 \r\nz\r\nM 21.921875 38.8125 \r\nQ 15.578125 40.375 12.03125 44.71875 \r\nQ 8.5 49.078125 8.5 55.328125 \r\nQ 8.5 64.0625 14.71875 69.140625 \r\nQ 20.953125 74.21875 31.78125 74.21875 \r\nQ 42.671875 74.21875 48.875 69.140625 \r\nQ 55.078125 64.0625 55.078125 55.328125 \r\nQ 55.078125 49.078125 51.53125 44.71875 \r\nQ 48 40.375 41.703125 38.8125 \r\nQ 48.828125 37.15625 52.796875 32.3125 \r\nQ 56.78125 27.484375 56.78125 20.515625 \r\nQ 56.78125 9.90625 50.3125 4.234375 \r\nQ 43.84375 -1.421875 31.78125 -1.421875 \r\nQ 19.734375 -1.421875 13.25 4.234375 \r\nQ 6.78125 9.90625 6.78125 20.515625 \r\nQ 6.78125 27.484375 10.78125 32.3125 \r\nQ 14.796875 37.15625 21.921875 38.8125 \r\nz\r\nM 18.3125 54.390625 \r\nQ 18.3125 48.734375 21.84375 45.5625 \r\nQ 25.390625 42.390625 31.78125 42.390625 \r\nQ 38.140625 42.390625 41.71875 45.5625 \r\nQ 45.3125 48.734375 45.3125 54.390625 \r\nQ 45.3125 60.0625 41.71875 63.234375 \r\nQ 38.140625 66.40625 31.78125 66.40625 \r\nQ 25.390625 66.40625 21.84375 63.234375 \r\nQ 18.3125 60.0625 18.3125 54.390625 \r\nz\r\n\" id=\"DejaVuSans-56\"/>\r\n       </defs>\r\n       <use xlink:href=\"#DejaVuSans-40\"/>\r\n       <use x=\"39.013672\" xlink:href=\"#DejaVuSans-85\"/>\r\n       <use x=\"112.207031\" xlink:href=\"#DejaVuSans-83\"/>\r\n       <use x=\"177.558594\" xlink:href=\"#DejaVuSans-65\"/>\r\n       <use x=\"245.966797\" xlink:href=\"#DejaVuSans-44\"/>\r\n       <use x=\"277.753906\" xlink:href=\"#DejaVuSans-32\"/>\r\n       <use x=\"309.541016\" xlink:href=\"#DejaVuSans-49\"/>\r\n       <use x=\"373.164062\" xlink:href=\"#DejaVuSans-57\"/>\r\n       <use x=\"436.787109\" xlink:href=\"#DejaVuSans-56\"/>\r\n       <use x=\"500.410156\" xlink:href=\"#DejaVuSans-48\"/>\r\n       <use x=\"564.033203\" xlink:href=\"#DejaVuSans-45\"/>\r\n       <use x=\"600.117188\" xlink:href=\"#DejaVuSans-48\"/>\r\n       <use x=\"663.740234\" xlink:href=\"#DejaVuSans-49\"/>\r\n       <use x=\"727.363281\" xlink:href=\"#DejaVuSans-45\"/>\r\n       <use x=\"763.447266\" xlink:href=\"#DejaVuSans-48\"/>\r\n       <use x=\"827.070312\" xlink:href=\"#DejaVuSans-49\"/>\r\n       <use x=\"890.693359\" xlink:href=\"#DejaVuSans-32\"/>\r\n       <use x=\"922.480469\" xlink:href=\"#DejaVuSans-48\"/>\r\n       <use x=\"986.103516\" xlink:href=\"#DejaVuSans-48\"/>\r\n       <use x=\"1049.726562\" xlink:href=\"#DejaVuSans-58\"/>\r\n       <use x=\"1083.417969\" xlink:href=\"#DejaVuSans-48\"/>\r\n       <use x=\"1147.041016\" xlink:href=\"#DejaVuSans-48\"/>\r\n       <use x=\"1210.664062\" xlink:href=\"#DejaVuSans-58\"/>\r\n       <use x=\"1244.355469\" xlink:href=\"#DejaVuSans-48\"/>\r\n       <use x=\"1307.978516\" xlink:href=\"#DejaVuSans-48\"/>\r\n       <use x=\"1371.601562\" xlink:href=\"#DejaVuSans-41\"/>\r\n      </g>\r\n     </g>\r\n    </g>\r\n    <g id=\"xtick_3\">\r\n     <g id=\"line2d_3\">\r\n      <g>\r\n       <use style=\"fill:#ffffff;stroke:#ffffff;stroke-width:0.8;\" x=\"210.062485\" xlink:href=\"#m2dc3a93b7a\" y=\"239.758125\"/>\r\n      </g>\r\n     </g>\r\n     <g id=\"text_3\">\r\n      <!-- (USA, 1990-01-01 00:00:00) -->\r\n      <g style=\"fill:#ffffff;\" transform=\"translate(139.532016 254.356562)scale(0.1 -0.1)\">\r\n       <use xlink:href=\"#DejaVuSans-40\"/>\r\n       <use x=\"39.013672\" xlink:href=\"#DejaVuSans-85\"/>\r\n       <use x=\"112.207031\" xlink:href=\"#DejaVuSans-83\"/>\r\n       <use x=\"177.558594\" xlink:href=\"#DejaVuSans-65\"/>\r\n       <use x=\"245.966797\" xlink:href=\"#DejaVuSans-44\"/>\r\n       <use x=\"277.753906\" xlink:href=\"#DejaVuSans-32\"/>\r\n       <use x=\"309.541016\" xlink:href=\"#DejaVuSans-49\"/>\r\n       <use x=\"373.164062\" xlink:href=\"#DejaVuSans-57\"/>\r\n       <use x=\"436.787109\" xlink:href=\"#DejaVuSans-57\"/>\r\n       <use x=\"500.410156\" xlink:href=\"#DejaVuSans-48\"/>\r\n       <use x=\"564.033203\" xlink:href=\"#DejaVuSans-45\"/>\r\n       <use x=\"600.117188\" xlink:href=\"#DejaVuSans-48\"/>\r\n       <use x=\"663.740234\" xlink:href=\"#DejaVuSans-49\"/>\r\n       <use x=\"727.363281\" xlink:href=\"#DejaVuSans-45\"/>\r\n       <use x=\"763.447266\" xlink:href=\"#DejaVuSans-48\"/>\r\n       <use x=\"827.070312\" xlink:href=\"#DejaVuSans-49\"/>\r\n       <use x=\"890.693359\" xlink:href=\"#DejaVuSans-32\"/>\r\n       <use x=\"922.480469\" xlink:href=\"#DejaVuSans-48\"/>\r\n       <use x=\"986.103516\" xlink:href=\"#DejaVuSans-48\"/>\r\n       <use x=\"1049.726562\" xlink:href=\"#DejaVuSans-58\"/>\r\n       <use x=\"1083.417969\" xlink:href=\"#DejaVuSans-48\"/>\r\n       <use x=\"1147.041016\" xlink:href=\"#DejaVuSans-48\"/>\r\n       <use x=\"1210.664062\" xlink:href=\"#DejaVuSans-58\"/>\r\n       <use x=\"1244.355469\" xlink:href=\"#DejaVuSans-48\"/>\r\n       <use x=\"1307.978516\" xlink:href=\"#DejaVuSans-48\"/>\r\n       <use x=\"1371.601562\" xlink:href=\"#DejaVuSans-41\"/>\r\n      </g>\r\n     </g>\r\n    </g>\r\n    <g id=\"xtick_4\">\r\n     <g id=\"line2d_4\">\r\n      <g>\r\n       <use style=\"fill:#ffffff;stroke:#ffffff;stroke-width:0.8;\" x=\"276.228492\" xlink:href=\"#m2dc3a93b7a\" y=\"239.758125\"/>\r\n      </g>\r\n     </g>\r\n     <g id=\"text_4\">\r\n      <!-- (USA, 2000-01-01 00:00:00) -->\r\n      <g style=\"fill:#ffffff;\" transform=\"translate(205.698024 254.356562)scale(0.1 -0.1)\">\r\n       <defs>\r\n        <path d=\"M 19.1875 8.296875 \r\nL 53.609375 8.296875 \r\nL 53.609375 0 \r\nL 7.328125 0 \r\nL 7.328125 8.296875 \r\nQ 12.9375 14.109375 22.625 23.890625 \r\nQ 32.328125 33.6875 34.8125 36.53125 \r\nQ 39.546875 41.84375 41.421875 45.53125 \r\nQ 43.3125 49.21875 43.3125 52.78125 \r\nQ 43.3125 58.59375 39.234375 62.25 \r\nQ 35.15625 65.921875 28.609375 65.921875 \r\nQ 23.96875 65.921875 18.8125 64.3125 \r\nQ 13.671875 62.703125 7.8125 59.421875 \r\nL 7.8125 69.390625 \r\nQ 13.765625 71.78125 18.9375 73 \r\nQ 24.125 74.21875 28.421875 74.21875 \r\nQ 39.75 74.21875 46.484375 68.546875 \r\nQ 53.21875 62.890625 53.21875 53.421875 \r\nQ 53.21875 48.921875 51.53125 44.890625 \r\nQ 49.859375 40.875 45.40625 35.40625 \r\nQ 44.1875 33.984375 37.640625 27.21875 \r\nQ 31.109375 20.453125 19.1875 8.296875 \r\nz\r\n\" id=\"DejaVuSans-50\"/>\r\n       </defs>\r\n       <use xlink:href=\"#DejaVuSans-40\"/>\r\n       <use x=\"39.013672\" xlink:href=\"#DejaVuSans-85\"/>\r\n       <use x=\"112.207031\" xlink:href=\"#DejaVuSans-83\"/>\r\n       <use x=\"177.558594\" xlink:href=\"#DejaVuSans-65\"/>\r\n       <use x=\"245.966797\" xlink:href=\"#DejaVuSans-44\"/>\r\n       <use x=\"277.753906\" xlink:href=\"#DejaVuSans-32\"/>\r\n       <use x=\"309.541016\" xlink:href=\"#DejaVuSans-50\"/>\r\n       <use x=\"373.164062\" xlink:href=\"#DejaVuSans-48\"/>\r\n       <use x=\"436.787109\" xlink:href=\"#DejaVuSans-48\"/>\r\n       <use x=\"500.410156\" xlink:href=\"#DejaVuSans-48\"/>\r\n       <use x=\"564.033203\" xlink:href=\"#DejaVuSans-45\"/>\r\n       <use x=\"600.117188\" xlink:href=\"#DejaVuSans-48\"/>\r\n       <use x=\"663.740234\" xlink:href=\"#DejaVuSans-49\"/>\r\n       <use x=\"727.363281\" xlink:href=\"#DejaVuSans-45\"/>\r\n       <use x=\"763.447266\" xlink:href=\"#DejaVuSans-48\"/>\r\n       <use x=\"827.070312\" xlink:href=\"#DejaVuSans-49\"/>\r\n       <use x=\"890.693359\" xlink:href=\"#DejaVuSans-32\"/>\r\n       <use x=\"922.480469\" xlink:href=\"#DejaVuSans-48\"/>\r\n       <use x=\"986.103516\" xlink:href=\"#DejaVuSans-48\"/>\r\n       <use x=\"1049.726562\" xlink:href=\"#DejaVuSans-58\"/>\r\n       <use x=\"1083.417969\" xlink:href=\"#DejaVuSans-48\"/>\r\n       <use x=\"1147.041016\" xlink:href=\"#DejaVuSans-48\"/>\r\n       <use x=\"1210.664062\" xlink:href=\"#DejaVuSans-58\"/>\r\n       <use x=\"1244.355469\" xlink:href=\"#DejaVuSans-48\"/>\r\n       <use x=\"1307.978516\" xlink:href=\"#DejaVuSans-48\"/>\r\n       <use x=\"1371.601562\" xlink:href=\"#DejaVuSans-41\"/>\r\n      </g>\r\n     </g>\r\n    </g>\r\n    <g id=\"xtick_5\">\r\n     <g id=\"line2d_5\">\r\n      <g>\r\n       <use style=\"fill:#ffffff;stroke:#ffffff;stroke-width:0.8;\" x=\"342.3945\" xlink:href=\"#m2dc3a93b7a\" y=\"239.758125\"/>\r\n      </g>\r\n     </g>\r\n     <g id=\"text_5\">\r\n      <!-- (USA, 2010-01-01 00:00:00) -->\r\n      <g style=\"fill:#ffffff;\" transform=\"translate(271.864032 254.356562)scale(0.1 -0.1)\">\r\n       <use xlink:href=\"#DejaVuSans-40\"/>\r\n       <use x=\"39.013672\" xlink:href=\"#DejaVuSans-85\"/>\r\n       <use x=\"112.207031\" xlink:href=\"#DejaVuSans-83\"/>\r\n       <use x=\"177.558594\" xlink:href=\"#DejaVuSans-65\"/>\r\n       <use x=\"245.966797\" xlink:href=\"#DejaVuSans-44\"/>\r\n       <use x=\"277.753906\" xlink:href=\"#DejaVuSans-32\"/>\r\n       <use x=\"309.541016\" xlink:href=\"#DejaVuSans-50\"/>\r\n       <use x=\"373.164062\" xlink:href=\"#DejaVuSans-48\"/>\r\n       <use x=\"436.787109\" xlink:href=\"#DejaVuSans-49\"/>\r\n       <use x=\"500.410156\" xlink:href=\"#DejaVuSans-48\"/>\r\n       <use x=\"564.033203\" xlink:href=\"#DejaVuSans-45\"/>\r\n       <use x=\"600.117188\" xlink:href=\"#DejaVuSans-48\"/>\r\n       <use x=\"663.740234\" xlink:href=\"#DejaVuSans-49\"/>\r\n       <use x=\"727.363281\" xlink:href=\"#DejaVuSans-45\"/>\r\n       <use x=\"763.447266\" xlink:href=\"#DejaVuSans-48\"/>\r\n       <use x=\"827.070312\" xlink:href=\"#DejaVuSans-49\"/>\r\n       <use x=\"890.693359\" xlink:href=\"#DejaVuSans-32\"/>\r\n       <use x=\"922.480469\" xlink:href=\"#DejaVuSans-48\"/>\r\n       <use x=\"986.103516\" xlink:href=\"#DejaVuSans-48\"/>\r\n       <use x=\"1049.726562\" xlink:href=\"#DejaVuSans-58\"/>\r\n       <use x=\"1083.417969\" xlink:href=\"#DejaVuSans-48\"/>\r\n       <use x=\"1147.041016\" xlink:href=\"#DejaVuSans-48\"/>\r\n       <use x=\"1210.664062\" xlink:href=\"#DejaVuSans-58\"/>\r\n       <use x=\"1244.355469\" xlink:href=\"#DejaVuSans-48\"/>\r\n       <use x=\"1307.978516\" xlink:href=\"#DejaVuSans-48\"/>\r\n       <use x=\"1371.601562\" xlink:href=\"#DejaVuSans-41\"/>\r\n      </g>\r\n     </g>\r\n    </g>\r\n    <g id=\"text_6\">\r\n     <!-- Code,Year -->\r\n     <g style=\"fill:#ffffff;\" transform=\"translate(204.934162 268.034687)scale(0.1 -0.1)\">\r\n      <defs>\r\n       <path d=\"M 64.40625 67.28125 \r\nL 64.40625 56.890625 \r\nQ 59.421875 61.53125 53.78125 63.8125 \r\nQ 48.140625 66.109375 41.796875 66.109375 \r\nQ 29.296875 66.109375 22.65625 58.46875 \r\nQ 16.015625 50.828125 16.015625 36.375 \r\nQ 16.015625 21.96875 22.65625 14.328125 \r\nQ 29.296875 6.6875 41.796875 6.6875 \r\nQ 48.140625 6.6875 53.78125 8.984375 \r\nQ 59.421875 11.28125 64.40625 15.921875 \r\nL 64.40625 5.609375 \r\nQ 59.234375 2.09375 53.4375 0.328125 \r\nQ 47.65625 -1.421875 41.21875 -1.421875 \r\nQ 24.65625 -1.421875 15.125 8.703125 \r\nQ 5.609375 18.84375 5.609375 36.375 \r\nQ 5.609375 53.953125 15.125 64.078125 \r\nQ 24.65625 74.21875 41.21875 74.21875 \r\nQ 47.75 74.21875 53.53125 72.484375 \r\nQ 59.328125 70.75 64.40625 67.28125 \r\nz\r\n\" id=\"DejaVuSans-67\"/>\r\n       <path d=\"M 30.609375 48.390625 \r\nQ 23.390625 48.390625 19.1875 42.75 \r\nQ 14.984375 37.109375 14.984375 27.296875 \r\nQ 14.984375 17.484375 19.15625 11.84375 \r\nQ 23.34375 6.203125 30.609375 6.203125 \r\nQ 37.796875 6.203125 41.984375 11.859375 \r\nQ 46.1875 17.53125 46.1875 27.296875 \r\nQ 46.1875 37.015625 41.984375 42.703125 \r\nQ 37.796875 48.390625 30.609375 48.390625 \r\nz\r\nM 30.609375 56 \r\nQ 42.328125 56 49.015625 48.375 \r\nQ 55.71875 40.765625 55.71875 27.296875 \r\nQ 55.71875 13.875 49.015625 6.21875 \r\nQ 42.328125 -1.421875 30.609375 -1.421875 \r\nQ 18.84375 -1.421875 12.171875 6.21875 \r\nQ 5.515625 13.875 5.515625 27.296875 \r\nQ 5.515625 40.765625 12.171875 48.375 \r\nQ 18.84375 56 30.609375 56 \r\nz\r\n\" id=\"DejaVuSans-111\"/>\r\n       <path d=\"M 45.40625 46.390625 \r\nL 45.40625 75.984375 \r\nL 54.390625 75.984375 \r\nL 54.390625 0 \r\nL 45.40625 0 \r\nL 45.40625 8.203125 \r\nQ 42.578125 3.328125 38.25 0.953125 \r\nQ 33.9375 -1.421875 27.875 -1.421875 \r\nQ 17.96875 -1.421875 11.734375 6.484375 \r\nQ 5.515625 14.40625 5.515625 27.296875 \r\nQ 5.515625 40.1875 11.734375 48.09375 \r\nQ 17.96875 56 27.875 56 \r\nQ 33.9375 56 38.25 53.625 \r\nQ 42.578125 51.265625 45.40625 46.390625 \r\nz\r\nM 14.796875 27.296875 \r\nQ 14.796875 17.390625 18.875 11.75 \r\nQ 22.953125 6.109375 30.078125 6.109375 \r\nQ 37.203125 6.109375 41.296875 11.75 \r\nQ 45.40625 17.390625 45.40625 27.296875 \r\nQ 45.40625 37.203125 41.296875 42.84375 \r\nQ 37.203125 48.484375 30.078125 48.484375 \r\nQ 22.953125 48.484375 18.875 42.84375 \r\nQ 14.796875 37.203125 14.796875 27.296875 \r\nz\r\n\" id=\"DejaVuSans-100\"/>\r\n       <path d=\"M 56.203125 29.59375 \r\nL 56.203125 25.203125 \r\nL 14.890625 25.203125 \r\nQ 15.484375 15.921875 20.484375 11.0625 \r\nQ 25.484375 6.203125 34.421875 6.203125 \r\nQ 39.59375 6.203125 44.453125 7.46875 \r\nQ 49.3125 8.734375 54.109375 11.28125 \r\nL 54.109375 2.78125 \r\nQ 49.265625 0.734375 44.1875 -0.34375 \r\nQ 39.109375 -1.421875 33.890625 -1.421875 \r\nQ 20.796875 -1.421875 13.15625 6.1875 \r\nQ 5.515625 13.8125 5.515625 26.8125 \r\nQ 5.515625 40.234375 12.765625 48.109375 \r\nQ 20.015625 56 32.328125 56 \r\nQ 43.359375 56 49.78125 48.890625 \r\nQ 56.203125 41.796875 56.203125 29.59375 \r\nz\r\nM 47.21875 32.234375 \r\nQ 47.125 39.59375 43.09375 43.984375 \r\nQ 39.0625 48.390625 32.421875 48.390625 \r\nQ 24.90625 48.390625 20.390625 44.140625 \r\nQ 15.875 39.890625 15.1875 32.171875 \r\nz\r\n\" id=\"DejaVuSans-101\"/>\r\n       <path d=\"M -0.203125 72.90625 \r\nL 10.40625 72.90625 \r\nL 30.609375 42.921875 \r\nL 50.6875 72.90625 \r\nL 61.28125 72.90625 \r\nL 35.5 34.71875 \r\nL 35.5 0 \r\nL 25.59375 0 \r\nL 25.59375 34.71875 \r\nz\r\n\" id=\"DejaVuSans-89\"/>\r\n       <path d=\"M 34.28125 27.484375 \r\nQ 23.390625 27.484375 19.1875 25 \r\nQ 14.984375 22.515625 14.984375 16.5 \r\nQ 14.984375 11.71875 18.140625 8.90625 \r\nQ 21.296875 6.109375 26.703125 6.109375 \r\nQ 34.1875 6.109375 38.703125 11.40625 \r\nQ 43.21875 16.703125 43.21875 25.484375 \r\nL 43.21875 27.484375 \r\nz\r\nM 52.203125 31.203125 \r\nL 52.203125 0 \r\nL 43.21875 0 \r\nL 43.21875 8.296875 \r\nQ 40.140625 3.328125 35.546875 0.953125 \r\nQ 30.953125 -1.421875 24.3125 -1.421875 \r\nQ 15.921875 -1.421875 10.953125 3.296875 \r\nQ 6 8.015625 6 15.921875 \r\nQ 6 25.140625 12.171875 29.828125 \r\nQ 18.359375 34.515625 30.609375 34.515625 \r\nL 43.21875 34.515625 \r\nL 43.21875 35.40625 \r\nQ 43.21875 41.609375 39.140625 45 \r\nQ 35.0625 48.390625 27.6875 48.390625 \r\nQ 23 48.390625 18.546875 47.265625 \r\nQ 14.109375 46.140625 10.015625 43.890625 \r\nL 10.015625 52.203125 \r\nQ 14.9375 54.109375 19.578125 55.046875 \r\nQ 24.21875 56 28.609375 56 \r\nQ 40.484375 56 46.34375 49.84375 \r\nQ 52.203125 43.703125 52.203125 31.203125 \r\nz\r\n\" id=\"DejaVuSans-97\"/>\r\n       <path d=\"M 41.109375 46.296875 \r\nQ 39.59375 47.171875 37.8125 47.578125 \r\nQ 36.03125 48 33.890625 48 \r\nQ 26.265625 48 22.1875 43.046875 \r\nQ 18.109375 38.09375 18.109375 28.8125 \r\nL 18.109375 0 \r\nL 9.078125 0 \r\nL 9.078125 54.6875 \r\nL 18.109375 54.6875 \r\nL 18.109375 46.1875 \r\nQ 20.953125 51.171875 25.484375 53.578125 \r\nQ 30.03125 56 36.53125 56 \r\nQ 37.453125 56 38.578125 55.875 \r\nQ 39.703125 55.765625 41.0625 55.515625 \r\nz\r\n\" id=\"DejaVuSans-114\"/>\r\n      </defs>\r\n      <use xlink:href=\"#DejaVuSans-67\"/>\r\n      <use x=\"69.824219\" xlink:href=\"#DejaVuSans-111\"/>\r\n      <use x=\"131.005859\" xlink:href=\"#DejaVuSans-100\"/>\r\n      <use x=\"194.482422\" xlink:href=\"#DejaVuSans-101\"/>\r\n      <use x=\"256.005859\" xlink:href=\"#DejaVuSans-44\"/>\r\n      <use x=\"287.792969\" xlink:href=\"#DejaVuSans-89\"/>\r\n      <use x=\"335.626953\" xlink:href=\"#DejaVuSans-101\"/>\r\n      <use x=\"397.150391\" xlink:href=\"#DejaVuSans-97\"/>\r\n      <use x=\"458.429688\" xlink:href=\"#DejaVuSans-114\"/>\r\n     </g>\r\n    </g>\r\n   </g>\r\n   <g id=\"matplotlib.axis_2\">\r\n    <g id=\"ytick_1\">\r\n     <g id=\"line2d_6\">\r\n      <defs>\r\n       <path d=\"M 0 0 \r\nL -3.5 0 \r\n\" id=\"m5eee7403f6\" style=\"stroke:#ffffff;stroke-width:0.8;\"/>\r\n      </defs>\r\n      <g>\r\n       <use style=\"fill:#ffffff;stroke:#ffffff;stroke-width:0.8;\" x=\"62.512287\" xlink:href=\"#m5eee7403f6\" y=\"224.352904\"/>\r\n      </g>\r\n     </g>\r\n     <g id=\"text_7\">\r\n      <!-- 2.5 -->\r\n      <g style=\"fill:#ffffff;\" transform=\"translate(39.609162 228.152123)scale(0.1 -0.1)\">\r\n       <defs>\r\n        <path d=\"M 10.6875 12.40625 \r\nL 21 12.40625 \r\nL 21 0 \r\nL 10.6875 0 \r\nz\r\n\" id=\"DejaVuSans-46\"/>\r\n        <path d=\"M 10.796875 72.90625 \r\nL 49.515625 72.90625 \r\nL 49.515625 64.59375 \r\nL 19.828125 64.59375 \r\nL 19.828125 46.734375 \r\nQ 21.96875 47.46875 24.109375 47.828125 \r\nQ 26.265625 48.1875 28.421875 48.1875 \r\nQ 40.625 48.1875 47.75 41.5 \r\nQ 54.890625 34.8125 54.890625 23.390625 \r\nQ 54.890625 11.625 47.5625 5.09375 \r\nQ 40.234375 -1.421875 26.90625 -1.421875 \r\nQ 22.3125 -1.421875 17.546875 -0.640625 \r\nQ 12.796875 0.140625 7.71875 1.703125 \r\nL 7.71875 11.625 \r\nQ 12.109375 9.234375 16.796875 8.0625 \r\nQ 21.484375 6.890625 26.703125 6.890625 \r\nQ 35.15625 6.890625 40.078125 11.328125 \r\nQ 45.015625 15.765625 45.015625 23.390625 \r\nQ 45.015625 31 40.078125 35.4375 \r\nQ 35.15625 39.890625 26.703125 39.890625 \r\nQ 22.75 39.890625 18.8125 39.015625 \r\nQ 14.890625 38.140625 10.796875 36.28125 \r\nz\r\n\" id=\"DejaVuSans-53\"/>\r\n       </defs>\r\n       <use xlink:href=\"#DejaVuSans-50\"/>\r\n       <use x=\"63.623047\" xlink:href=\"#DejaVuSans-46\"/>\r\n       <use x=\"95.410156\" xlink:href=\"#DejaVuSans-53\"/>\r\n      </g>\r\n     </g>\r\n    </g>\r\n    <g id=\"ytick_2\">\r\n     <g id=\"line2d_7\">\r\n      <g>\r\n       <use style=\"fill:#ffffff;stroke:#ffffff;stroke-width:0.8;\" x=\"62.512287\" xlink:href=\"#m5eee7403f6\" y=\"196.744981\"/>\r\n      </g>\r\n     </g>\r\n     <g id=\"text_8\">\r\n      <!-- 5.0 -->\r\n      <g style=\"fill:#ffffff;\" transform=\"translate(39.609162 200.5442)scale(0.1 -0.1)\">\r\n       <use xlink:href=\"#DejaVuSans-53\"/>\r\n       <use x=\"63.623047\" xlink:href=\"#DejaVuSans-46\"/>\r\n       <use x=\"95.410156\" xlink:href=\"#DejaVuSans-48\"/>\r\n      </g>\r\n     </g>\r\n    </g>\r\n    <g id=\"ytick_3\">\r\n     <g id=\"line2d_8\">\r\n      <g>\r\n       <use style=\"fill:#ffffff;stroke:#ffffff;stroke-width:0.8;\" x=\"62.512287\" xlink:href=\"#m5eee7403f6\" y=\"169.137058\"/>\r\n      </g>\r\n     </g>\r\n     <g id=\"text_9\">\r\n      <!-- 7.5 -->\r\n      <g style=\"fill:#ffffff;\" transform=\"translate(39.609162 172.936277)scale(0.1 -0.1)\">\r\n       <use xlink:href=\"#DejaVuSans-55\"/>\r\n       <use x=\"63.623047\" xlink:href=\"#DejaVuSans-46\"/>\r\n       <use x=\"95.410156\" xlink:href=\"#DejaVuSans-53\"/>\r\n      </g>\r\n     </g>\r\n    </g>\r\n    <g id=\"ytick_4\">\r\n     <g id=\"line2d_9\">\r\n      <g>\r\n       <use style=\"fill:#ffffff;stroke:#ffffff;stroke-width:0.8;\" x=\"62.512287\" xlink:href=\"#m5eee7403f6\" y=\"141.529136\"/>\r\n      </g>\r\n     </g>\r\n     <g id=\"text_10\">\r\n      <!-- 10.0 -->\r\n      <g style=\"fill:#ffffff;\" transform=\"translate(33.246662 145.328354)scale(0.1 -0.1)\">\r\n       <use xlink:href=\"#DejaVuSans-49\"/>\r\n       <use x=\"63.623047\" xlink:href=\"#DejaVuSans-48\"/>\r\n       <use x=\"127.246094\" xlink:href=\"#DejaVuSans-46\"/>\r\n       <use x=\"159.033203\" xlink:href=\"#DejaVuSans-48\"/>\r\n      </g>\r\n     </g>\r\n    </g>\r\n    <g id=\"ytick_5\">\r\n     <g id=\"line2d_10\">\r\n      <g>\r\n       <use style=\"fill:#ffffff;stroke:#ffffff;stroke-width:0.8;\" x=\"62.512287\" xlink:href=\"#m5eee7403f6\" y=\"113.921213\"/>\r\n      </g>\r\n     </g>\r\n     <g id=\"text_11\">\r\n      <!-- 12.5 -->\r\n      <g style=\"fill:#ffffff;\" transform=\"translate(33.246662 117.720432)scale(0.1 -0.1)\">\r\n       <use xlink:href=\"#DejaVuSans-49\"/>\r\n       <use x=\"63.623047\" xlink:href=\"#DejaVuSans-50\"/>\r\n       <use x=\"127.246094\" xlink:href=\"#DejaVuSans-46\"/>\r\n       <use x=\"159.033203\" xlink:href=\"#DejaVuSans-53\"/>\r\n      </g>\r\n     </g>\r\n    </g>\r\n    <g id=\"ytick_6\">\r\n     <g id=\"line2d_11\">\r\n      <g>\r\n       <use style=\"fill:#ffffff;stroke:#ffffff;stroke-width:0.8;\" x=\"62.512287\" xlink:href=\"#m5eee7403f6\" y=\"86.31329\"/>\r\n      </g>\r\n     </g>\r\n     <g id=\"text_12\">\r\n      <!-- 15.0 -->\r\n      <g style=\"fill:#ffffff;\" transform=\"translate(33.246662 90.112509)scale(0.1 -0.1)\">\r\n       <use xlink:href=\"#DejaVuSans-49\"/>\r\n       <use x=\"63.623047\" xlink:href=\"#DejaVuSans-53\"/>\r\n       <use x=\"127.246094\" xlink:href=\"#DejaVuSans-46\"/>\r\n       <use x=\"159.033203\" xlink:href=\"#DejaVuSans-48\"/>\r\n      </g>\r\n     </g>\r\n    </g>\r\n    <g id=\"ytick_7\">\r\n     <g id=\"line2d_12\">\r\n      <g>\r\n       <use style=\"fill:#ffffff;stroke:#ffffff;stroke-width:0.8;\" x=\"62.512287\" xlink:href=\"#m5eee7403f6\" y=\"58.705367\"/>\r\n      </g>\r\n     </g>\r\n     <g id=\"text_13\">\r\n      <!-- 17.5 -->\r\n      <g style=\"fill:#ffffff;\" transform=\"translate(33.246662 62.504586)scale(0.1 -0.1)\">\r\n       <use xlink:href=\"#DejaVuSans-49\"/>\r\n       <use x=\"63.623047\" xlink:href=\"#DejaVuSans-55\"/>\r\n       <use x=\"127.246094\" xlink:href=\"#DejaVuSans-46\"/>\r\n       <use x=\"159.033203\" xlink:href=\"#DejaVuSans-53\"/>\r\n      </g>\r\n     </g>\r\n    </g>\r\n    <g id=\"ytick_8\">\r\n     <g id=\"line2d_13\">\r\n      <g>\r\n       <use style=\"fill:#ffffff;stroke:#ffffff;stroke-width:0.8;\" x=\"62.512287\" xlink:href=\"#m5eee7403f6\" y=\"31.097444\"/>\r\n      </g>\r\n     </g>\r\n     <g id=\"text_14\">\r\n      <!-- 20.0 -->\r\n      <g style=\"fill:#ffffff;\" transform=\"translate(33.246662 34.896663)scale(0.1 -0.1)\">\r\n       <use xlink:href=\"#DejaVuSans-50\"/>\r\n       <use x=\"63.623047\" xlink:href=\"#DejaVuSans-48\"/>\r\n       <use x=\"127.246094\" xlink:href=\"#DejaVuSans-46\"/>\r\n       <use x=\"159.033203\" xlink:href=\"#DejaVuSans-48\"/>\r\n      </g>\r\n     </g>\r\n    </g>\r\n   </g>\r\n   <g id=\"line2d_14\">\r\n    <path clip-path=\"url(#pa316dee44b)\" d=\"M 77.730469 53.183783 \r\nL 84.34707 56.496733 \r\nL 90.96367 63.122635 \r\nL 97.580271 68.644219 \r\nL 104.196872 75.270121 \r\nL 110.813473 81.896022 \r\nL 117.430073 89.626241 \r\nL 124.046674 97.356459 \r\nL 130.663275 103.982361 \r\nL 137.279876 111.712579 \r\nL 143.896477 119.442797 \r\nL 150.513077 126.068699 \r\nL 157.129678 132.6946 \r\nL 163.746279 137.111868 \r\nL 170.36288 141.529136 \r\nL 176.979481 144.842086 \r\nL 183.596081 147.05072 \r\nL 190.212682 150.363671 \r\nL 196.829283 153.676622 \r\nL 203.445884 159.198206 \r\nL 210.062485 164.719791 \r\nL 216.679085 170.241375 \r\nL 223.295686 174.658643 \r\nL 229.912287 180.180228 \r\nL 236.528888 182.388861 \r\nL 243.145489 184.597495 \r\nL 249.762089 186.806129 \r\nL 256.37869 186.806129 \r\nL 262.995291 187.910446 \r\nL 269.611892 189.014763 \r\nL 276.228492 191.223397 \r\nL 282.845093 192.327714 \r\nL 289.461694 192.327714 \r\nL 296.078295 192.327714 \r\nL 302.694896 193.432031 \r\nL 309.311496 195.640664 \r\nL 315.928097 196.744981 \r\nL 322.544698 197.849298 \r\nL 329.161299 198.953615 \r\nL 335.7779 201.162249 \r\nL 342.3945 203.370883 \r\nL 349.011101 205.579517 \r\nL 355.627702 206.683833 \r\nL 362.244303 208.892467 \r\nL 368.860904 209.996784 \r\nL 375.477504 211.101101 \r\nL 382.094105 211.101101 \r\n\" style=\"fill:none;stroke:#92c6ff;stroke-linecap:square;stroke-width:1.5;\"/>\r\n   </g>\r\n   <g id=\"line2d_15\">\r\n    <path clip-path=\"url(#pa316dee44b)\" d=\"M 77.730469 103.982361 \r\nL 84.34707 112.816896 \r\nL 90.96367 120.547114 \r\nL 97.580271 127.173016 \r\nL 104.196872 134.903234 \r\nL 110.813473 141.529136 \r\nL 117.430073 148.155037 \r\nL 124.046674 154.780939 \r\nL 130.663275 160.302523 \r\nL 137.279876 164.719791 \r\nL 143.896477 170.241375 \r\nL 150.513077 175.76296 \r\nL 157.129678 180.180228 \r\nL 163.746279 183.493178 \r\nL 170.36288 187.910446 \r\nL 176.979481 191.223397 \r\nL 183.596081 194.536347 \r\nL 190.212682 196.744981 \r\nL 196.829283 198.953615 \r\nL 203.445884 200.057932 \r\nL 210.062485 201.162249 \r\nL 216.679085 202.266566 \r\nL 223.295686 203.370883 \r\nL 229.912287 204.4752 \r\nL 236.528888 204.4752 \r\nL 243.145489 206.683833 \r\nL 249.762089 207.78815 \r\nL 256.37869 209.996784 \r\nL 262.995291 212.205418 \r\nL 269.611892 214.414052 \r\nL 276.228492 215.518369 \r\nL 282.845093 217.727003 \r\nL 289.461694 218.83132 \r\nL 296.078295 219.935636 \r\nL 302.694896 219.935636 \r\nL 309.311496 222.14427 \r\nL 315.928097 222.14427 \r\nL 322.544698 223.248587 \r\nL 329.161299 224.352904 \r\nL 335.7779 225.457221 \r\nL 342.3945 225.457221 \r\nL 349.011101 225.457221 \r\nL 355.627702 227.665855 \r\nL 362.244303 228.770172 \r\nL 368.860904 229.874489 \r\nL 375.477504 229.874489 \r\nL 382.094105 229.874489 \r\n\" style=\"fill:none;stroke:#97f0aa;stroke-linecap:square;stroke-width:1.5;\"/>\r\n   </g>\r\n   <g id=\"line2d_16\">\r\n    <path clip-path=\"url(#pa316dee44b)\" d=\"M 77.730469 127.173016 \r\nL 84.34707 131.590283 \r\nL 90.96367 137.111868 \r\nL 97.580271 143.737769 \r\nL 104.196872 150.363671 \r\nL 110.813473 155.885256 \r\nL 117.430073 160.302523 \r\nL 124.046674 164.719791 \r\nL 130.663275 168.032742 \r\nL 137.279876 170.241375 \r\nL 143.896477 173.554326 \r\nL 150.513077 175.76296 \r\nL 157.129678 176.867277 \r\nL 163.746279 179.075911 \r\nL 170.36288 180.180228 \r\nL 176.979481 181.284545 \r\nL 183.596081 182.388861 \r\nL 190.212682 183.493178 \r\nL 196.829283 183.493178 \r\nL 203.445884 184.597495 \r\nL 210.062485 186.806129 \r\nL 216.679085 191.223397 \r\nL 223.295686 194.536347 \r\nL 229.912287 198.953615 \r\nL 236.528888 203.370883 \r\nL 243.145489 207.78815 \r\nL 249.762089 209.996784 \r\nL 256.37869 212.205418 \r\nL 262.995291 213.309735 \r\nL 269.611892 214.414052 \r\nL 276.228492 214.414052 \r\nL 282.845093 214.414052 \r\nL 289.461694 215.518369 \r\nL 296.078295 216.622686 \r\nL 302.694896 217.727003 \r\nL 309.311496 218.83132 \r\nL 315.928097 219.935636 \r\nL 322.544698 222.14427 \r\nL 329.161299 223.248587 \r\nL 335.7779 223.248587 \r\nL 342.3945 224.352904 \r\nL 349.011101 224.352904 \r\nL 355.627702 224.352904 \r\nL 362.244303 225.457221 \r\nL 368.860904 225.457221 \r\nL 375.477504 225.457221 \r\nL 382.094105 225.457221 \r\n\" style=\"fill:none;stroke:#ff9f9a;stroke-linecap:square;stroke-width:1.5;\"/>\r\n   </g>\r\n   <g id=\"line2d_17\">\r\n    <path clip-path=\"url(#pa316dee44b)\" d=\"M 77.730469 32.201761 \r\nL 84.34707 41.036297 \r\nL 90.96367 49.870832 \r\nL 97.580271 58.705367 \r\nL 104.196872 67.539903 \r\nL 110.813473 75.270121 \r\nL 117.430073 84.104656 \r\nL 124.046674 91.834875 \r\nL 130.663275 99.565093 \r\nL 137.279876 106.190994 \r\nL 143.896477 112.816896 \r\nL 150.513077 118.338481 \r\nL 157.129678 122.755748 \r\nL 163.746279 128.277333 \r\nL 170.36288 131.590283 \r\nL 176.979481 134.903234 \r\nL 183.596081 137.111868 \r\nL 190.212682 140.424819 \r\nL 196.829283 141.529136 \r\nL 203.445884 144.842086 \r\nL 210.062485 148.155037 \r\nL 216.679085 151.467988 \r\nL 223.295686 154.780939 \r\nL 229.912287 158.093889 \r\nL 236.528888 161.40684 \r\nL 243.145489 163.615474 \r\nL 249.762089 166.928425 \r\nL 256.37869 169.137058 \r\nL 262.995291 171.345692 \r\nL 269.611892 172.450009 \r\nL 276.228492 173.554326 \r\nL 282.845093 174.658643 \r\nL 289.461694 175.76296 \r\nL 296.078295 175.76296 \r\nL 302.694896 175.76296 \r\nL 309.311496 176.867277 \r\nL 315.928097 177.971594 \r\nL 322.544698 179.075911 \r\nL 329.161299 180.180228 \r\nL 335.7779 181.284545 \r\nL 342.3945 183.493178 \r\nL 349.011101 184.597495 \r\nL 355.627702 185.701812 \r\nL 362.244303 186.806129 \r\nL 368.860904 187.910446 \r\nL 375.477504 189.014763 \r\nL 382.094105 190.11908 \r\n\" style=\"fill:none;stroke:#d0bbff;stroke-linecap:square;stroke-width:1.5;\"/>\r\n   </g>\r\n   <g id=\"patch_3\">\r\n    <path d=\"M 62.512287 239.758125 \r\nL 62.512287 22.318125 \r\n\" style=\"fill:none;stroke:#ffffff;stroke-linecap:square;stroke-linejoin:miter;stroke-width:0.8;\"/>\r\n   </g>\r\n   <g id=\"patch_4\">\r\n    <path d=\"M 397.312287 239.758125 \r\nL 397.312287 22.318125 \r\n\" style=\"fill:none;stroke:#ffffff;stroke-linecap:square;stroke-linejoin:miter;stroke-width:0.8;\"/>\r\n   </g>\r\n   <g id=\"patch_5\">\r\n    <path d=\"M 62.512287 239.758125 \r\nL 397.312287 239.758125 \r\n\" style=\"fill:none;stroke:#ffffff;stroke-linecap:square;stroke-linejoin:miter;stroke-width:0.8;\"/>\r\n   </g>\r\n   <g id=\"patch_6\">\r\n    <path d=\"M 62.512287 22.318125 \r\nL 397.312287 22.318125 \r\n\" style=\"fill:none;stroke:#ffffff;stroke-linecap:square;stroke-linejoin:miter;stroke-width:0.8;\"/>\r\n   </g>\r\n   <g id=\"text_15\">\r\n    <!-- Infant mortality rate (per 1,000 live births) by country -->\r\n    <g style=\"fill:#ffffff;\" transform=\"translate(67.773537 16.318125)scale(0.12 -0.12)\">\r\n     <defs>\r\n      <path d=\"M 9.8125 72.90625 \r\nL 19.671875 72.90625 \r\nL 19.671875 0 \r\nL 9.8125 0 \r\nz\r\n\" id=\"DejaVuSans-73\"/>\r\n      <path d=\"M 54.890625 33.015625 \r\nL 54.890625 0 \r\nL 45.90625 0 \r\nL 45.90625 32.71875 \r\nQ 45.90625 40.484375 42.875 44.328125 \r\nQ 39.84375 48.1875 33.796875 48.1875 \r\nQ 26.515625 48.1875 22.3125 43.546875 \r\nQ 18.109375 38.921875 18.109375 30.90625 \r\nL 18.109375 0 \r\nL 9.078125 0 \r\nL 9.078125 54.6875 \r\nL 18.109375 54.6875 \r\nL 18.109375 46.1875 \r\nQ 21.34375 51.125 25.703125 53.5625 \r\nQ 30.078125 56 35.796875 56 \r\nQ 45.21875 56 50.046875 50.171875 \r\nQ 54.890625 44.34375 54.890625 33.015625 \r\nz\r\n\" id=\"DejaVuSans-110\"/>\r\n      <path d=\"M 37.109375 75.984375 \r\nL 37.109375 68.5 \r\nL 28.515625 68.5 \r\nQ 23.6875 68.5 21.796875 66.546875 \r\nQ 19.921875 64.59375 19.921875 59.515625 \r\nL 19.921875 54.6875 \r\nL 34.71875 54.6875 \r\nL 34.71875 47.703125 \r\nL 19.921875 47.703125 \r\nL 19.921875 0 \r\nL 10.890625 0 \r\nL 10.890625 47.703125 \r\nL 2.296875 47.703125 \r\nL 2.296875 54.6875 \r\nL 10.890625 54.6875 \r\nL 10.890625 58.5 \r\nQ 10.890625 67.625 15.140625 71.796875 \r\nQ 19.390625 75.984375 28.609375 75.984375 \r\nz\r\n\" id=\"DejaVuSans-102\"/>\r\n      <path d=\"M 18.3125 70.21875 \r\nL 18.3125 54.6875 \r\nL 36.8125 54.6875 \r\nL 36.8125 47.703125 \r\nL 18.3125 47.703125 \r\nL 18.3125 18.015625 \r\nQ 18.3125 11.328125 20.140625 9.421875 \r\nQ 21.96875 7.515625 27.59375 7.515625 \r\nL 36.8125 7.515625 \r\nL 36.8125 0 \r\nL 27.59375 0 \r\nQ 17.1875 0 13.234375 3.875 \r\nQ 9.28125 7.765625 9.28125 18.015625 \r\nL 9.28125 47.703125 \r\nL 2.6875 47.703125 \r\nL 2.6875 54.6875 \r\nL 9.28125 54.6875 \r\nL 9.28125 70.21875 \r\nz\r\n\" id=\"DejaVuSans-116\"/>\r\n      <path d=\"M 52 44.1875 \r\nQ 55.375 50.25 60.0625 53.125 \r\nQ 64.75 56 71.09375 56 \r\nQ 79.640625 56 84.28125 50.015625 \r\nQ 88.921875 44.046875 88.921875 33.015625 \r\nL 88.921875 0 \r\nL 79.890625 0 \r\nL 79.890625 32.71875 \r\nQ 79.890625 40.578125 77.09375 44.375 \r\nQ 74.3125 48.1875 68.609375 48.1875 \r\nQ 61.625 48.1875 57.5625 43.546875 \r\nQ 53.515625 38.921875 53.515625 30.90625 \r\nL 53.515625 0 \r\nL 44.484375 0 \r\nL 44.484375 32.71875 \r\nQ 44.484375 40.625 41.703125 44.40625 \r\nQ 38.921875 48.1875 33.109375 48.1875 \r\nQ 26.21875 48.1875 22.15625 43.53125 \r\nQ 18.109375 38.875 18.109375 30.90625 \r\nL 18.109375 0 \r\nL 9.078125 0 \r\nL 9.078125 54.6875 \r\nL 18.109375 54.6875 \r\nL 18.109375 46.1875 \r\nQ 21.1875 51.21875 25.484375 53.609375 \r\nQ 29.78125 56 35.6875 56 \r\nQ 41.65625 56 45.828125 52.96875 \r\nQ 50 49.953125 52 44.1875 \r\nz\r\n\" id=\"DejaVuSans-109\"/>\r\n      <path d=\"M 9.421875 75.984375 \r\nL 18.40625 75.984375 \r\nL 18.40625 0 \r\nL 9.421875 0 \r\nz\r\n\" id=\"DejaVuSans-108\"/>\r\n      <path d=\"M 9.421875 54.6875 \r\nL 18.40625 54.6875 \r\nL 18.40625 0 \r\nL 9.421875 0 \r\nz\r\nM 9.421875 75.984375 \r\nL 18.40625 75.984375 \r\nL 18.40625 64.59375 \r\nL 9.421875 64.59375 \r\nz\r\n\" id=\"DejaVuSans-105\"/>\r\n      <path d=\"M 32.171875 -5.078125 \r\nQ 28.375 -14.84375 24.75 -17.8125 \r\nQ 21.140625 -20.796875 15.09375 -20.796875 \r\nL 7.90625 -20.796875 \r\nL 7.90625 -13.28125 \r\nL 13.1875 -13.28125 \r\nQ 16.890625 -13.28125 18.9375 -11.515625 \r\nQ 21 -9.765625 23.484375 -3.21875 \r\nL 25.09375 0.875 \r\nL 2.984375 54.6875 \r\nL 12.5 54.6875 \r\nL 29.59375 11.921875 \r\nL 46.6875 54.6875 \r\nL 56.203125 54.6875 \r\nz\r\n\" id=\"DejaVuSans-121\"/>\r\n      <path d=\"M 18.109375 8.203125 \r\nL 18.109375 -20.796875 \r\nL 9.078125 -20.796875 \r\nL 9.078125 54.6875 \r\nL 18.109375 54.6875 \r\nL 18.109375 46.390625 \r\nQ 20.953125 51.265625 25.265625 53.625 \r\nQ 29.59375 56 35.59375 56 \r\nQ 45.5625 56 51.78125 48.09375 \r\nQ 58.015625 40.1875 58.015625 27.296875 \r\nQ 58.015625 14.40625 51.78125 6.484375 \r\nQ 45.5625 -1.421875 35.59375 -1.421875 \r\nQ 29.59375 -1.421875 25.265625 0.953125 \r\nQ 20.953125 3.328125 18.109375 8.203125 \r\nz\r\nM 48.6875 27.296875 \r\nQ 48.6875 37.203125 44.609375 42.84375 \r\nQ 40.53125 48.484375 33.40625 48.484375 \r\nQ 26.265625 48.484375 22.1875 42.84375 \r\nQ 18.109375 37.203125 18.109375 27.296875 \r\nQ 18.109375 17.390625 22.1875 11.75 \r\nQ 26.265625 6.109375 33.40625 6.109375 \r\nQ 40.53125 6.109375 44.609375 11.75 \r\nQ 48.6875 17.390625 48.6875 27.296875 \r\nz\r\n\" id=\"DejaVuSans-112\"/>\r\n      <path d=\"M 2.984375 54.6875 \r\nL 12.5 54.6875 \r\nL 29.59375 8.796875 \r\nL 46.6875 54.6875 \r\nL 56.203125 54.6875 \r\nL 35.6875 0 \r\nL 23.484375 0 \r\nz\r\n\" id=\"DejaVuSans-118\"/>\r\n      <path d=\"M 48.6875 27.296875 \r\nQ 48.6875 37.203125 44.609375 42.84375 \r\nQ 40.53125 48.484375 33.40625 48.484375 \r\nQ 26.265625 48.484375 22.1875 42.84375 \r\nQ 18.109375 37.203125 18.109375 27.296875 \r\nQ 18.109375 17.390625 22.1875 11.75 \r\nQ 26.265625 6.109375 33.40625 6.109375 \r\nQ 40.53125 6.109375 44.609375 11.75 \r\nQ 48.6875 17.390625 48.6875 27.296875 \r\nz\r\nM 18.109375 46.390625 \r\nQ 20.953125 51.265625 25.265625 53.625 \r\nQ 29.59375 56 35.59375 56 \r\nQ 45.5625 56 51.78125 48.09375 \r\nQ 58.015625 40.1875 58.015625 27.296875 \r\nQ 58.015625 14.40625 51.78125 6.484375 \r\nQ 45.5625 -1.421875 35.59375 -1.421875 \r\nQ 29.59375 -1.421875 25.265625 0.953125 \r\nQ 20.953125 3.328125 18.109375 8.203125 \r\nL 18.109375 0 \r\nL 9.078125 0 \r\nL 9.078125 75.984375 \r\nL 18.109375 75.984375 \r\nz\r\n\" id=\"DejaVuSans-98\"/>\r\n      <path d=\"M 54.890625 33.015625 \r\nL 54.890625 0 \r\nL 45.90625 0 \r\nL 45.90625 32.71875 \r\nQ 45.90625 40.484375 42.875 44.328125 \r\nQ 39.84375 48.1875 33.796875 48.1875 \r\nQ 26.515625 48.1875 22.3125 43.546875 \r\nQ 18.109375 38.921875 18.109375 30.90625 \r\nL 18.109375 0 \r\nL 9.078125 0 \r\nL 9.078125 75.984375 \r\nL 18.109375 75.984375 \r\nL 18.109375 46.1875 \r\nQ 21.34375 51.125 25.703125 53.5625 \r\nQ 30.078125 56 35.796875 56 \r\nQ 45.21875 56 50.046875 50.171875 \r\nQ 54.890625 44.34375 54.890625 33.015625 \r\nz\r\n\" id=\"DejaVuSans-104\"/>\r\n      <path d=\"M 44.28125 53.078125 \r\nL 44.28125 44.578125 \r\nQ 40.484375 46.53125 36.375 47.5 \r\nQ 32.28125 48.484375 27.875 48.484375 \r\nQ 21.1875 48.484375 17.84375 46.4375 \r\nQ 14.5 44.390625 14.5 40.28125 \r\nQ 14.5 37.15625 16.890625 35.375 \r\nQ 19.28125 33.59375 26.515625 31.984375 \r\nL 29.59375 31.296875 \r\nQ 39.15625 29.25 43.1875 25.515625 \r\nQ 47.21875 21.78125 47.21875 15.09375 \r\nQ 47.21875 7.46875 41.1875 3.015625 \r\nQ 35.15625 -1.421875 24.609375 -1.421875 \r\nQ 20.21875 -1.421875 15.453125 -0.5625 \r\nQ 10.6875 0.296875 5.421875 2 \r\nL 5.421875 11.28125 \r\nQ 10.40625 8.6875 15.234375 7.390625 \r\nQ 20.0625 6.109375 24.8125 6.109375 \r\nQ 31.15625 6.109375 34.5625 8.28125 \r\nQ 37.984375 10.453125 37.984375 14.40625 \r\nQ 37.984375 18.0625 35.515625 20.015625 \r\nQ 33.0625 21.96875 24.703125 23.78125 \r\nL 21.578125 24.515625 \r\nQ 13.234375 26.265625 9.515625 29.90625 \r\nQ 5.8125 33.546875 5.8125 39.890625 \r\nQ 5.8125 47.609375 11.28125 51.796875 \r\nQ 16.75 56 26.8125 56 \r\nQ 31.78125 56 36.171875 55.265625 \r\nQ 40.578125 54.546875 44.28125 53.078125 \r\nz\r\n\" id=\"DejaVuSans-115\"/>\r\n      <path d=\"M 48.78125 52.59375 \r\nL 48.78125 44.1875 \r\nQ 44.96875 46.296875 41.140625 47.34375 \r\nQ 37.3125 48.390625 33.40625 48.390625 \r\nQ 24.65625 48.390625 19.8125 42.84375 \r\nQ 14.984375 37.3125 14.984375 27.296875 \r\nQ 14.984375 17.28125 19.8125 11.734375 \r\nQ 24.65625 6.203125 33.40625 6.203125 \r\nQ 37.3125 6.203125 41.140625 7.25 \r\nQ 44.96875 8.296875 48.78125 10.40625 \r\nL 48.78125 2.09375 \r\nQ 45.015625 0.34375 40.984375 -0.53125 \r\nQ 36.96875 -1.421875 32.421875 -1.421875 \r\nQ 20.0625 -1.421875 12.78125 6.34375 \r\nQ 5.515625 14.109375 5.515625 27.296875 \r\nQ 5.515625 40.671875 12.859375 48.328125 \r\nQ 20.21875 56 33.015625 56 \r\nQ 37.15625 56 41.109375 55.140625 \r\nQ 45.0625 54.296875 48.78125 52.59375 \r\nz\r\n\" id=\"DejaVuSans-99\"/>\r\n      <path d=\"M 8.5 21.578125 \r\nL 8.5 54.6875 \r\nL 17.484375 54.6875 \r\nL 17.484375 21.921875 \r\nQ 17.484375 14.15625 20.5 10.265625 \r\nQ 23.53125 6.390625 29.59375 6.390625 \r\nQ 36.859375 6.390625 41.078125 11.03125 \r\nQ 45.3125 15.671875 45.3125 23.6875 \r\nL 45.3125 54.6875 \r\nL 54.296875 54.6875 \r\nL 54.296875 0 \r\nL 45.3125 0 \r\nL 45.3125 8.40625 \r\nQ 42.046875 3.421875 37.71875 1 \r\nQ 33.40625 -1.421875 27.6875 -1.421875 \r\nQ 18.265625 -1.421875 13.375 4.4375 \r\nQ 8.5 10.296875 8.5 21.578125 \r\nz\r\nM 31.109375 56 \r\nz\r\n\" id=\"DejaVuSans-117\"/>\r\n     </defs>\r\n     <use xlink:href=\"#DejaVuSans-73\"/>\r\n     <use x=\"29.492188\" xlink:href=\"#DejaVuSans-110\"/>\r\n     <use x=\"92.871094\" xlink:href=\"#DejaVuSans-102\"/>\r\n     <use x=\"128.076172\" xlink:href=\"#DejaVuSans-97\"/>\r\n     <use x=\"189.355469\" xlink:href=\"#DejaVuSans-110\"/>\r\n     <use x=\"252.734375\" xlink:href=\"#DejaVuSans-116\"/>\r\n     <use x=\"291.943359\" xlink:href=\"#DejaVuSans-32\"/>\r\n     <use x=\"323.730469\" xlink:href=\"#DejaVuSans-109\"/>\r\n     <use x=\"421.142578\" xlink:href=\"#DejaVuSans-111\"/>\r\n     <use x=\"482.324219\" xlink:href=\"#DejaVuSans-114\"/>\r\n     <use x=\"523.4375\" xlink:href=\"#DejaVuSans-116\"/>\r\n     <use x=\"562.646484\" xlink:href=\"#DejaVuSans-97\"/>\r\n     <use x=\"623.925781\" xlink:href=\"#DejaVuSans-108\"/>\r\n     <use x=\"651.708984\" xlink:href=\"#DejaVuSans-105\"/>\r\n     <use x=\"679.492188\" xlink:href=\"#DejaVuSans-116\"/>\r\n     <use x=\"718.701172\" xlink:href=\"#DejaVuSans-121\"/>\r\n     <use x=\"777.880859\" xlink:href=\"#DejaVuSans-32\"/>\r\n     <use x=\"809.667969\" xlink:href=\"#DejaVuSans-114\"/>\r\n     <use x=\"850.78125\" xlink:href=\"#DejaVuSans-97\"/>\r\n     <use x=\"912.060547\" xlink:href=\"#DejaVuSans-116\"/>\r\n     <use x=\"951.269531\" xlink:href=\"#DejaVuSans-101\"/>\r\n     <use x=\"1012.792969\" xlink:href=\"#DejaVuSans-32\"/>\r\n     <use x=\"1044.580078\" xlink:href=\"#DejaVuSans-40\"/>\r\n     <use x=\"1083.59375\" xlink:href=\"#DejaVuSans-112\"/>\r\n     <use x=\"1147.070312\" xlink:href=\"#DejaVuSans-101\"/>\r\n     <use x=\"1208.59375\" xlink:href=\"#DejaVuSans-114\"/>\r\n     <use x=\"1249.707031\" xlink:href=\"#DejaVuSans-32\"/>\r\n     <use x=\"1281.494141\" xlink:href=\"#DejaVuSans-49\"/>\r\n     <use x=\"1345.117188\" xlink:href=\"#DejaVuSans-44\"/>\r\n     <use x=\"1376.904297\" xlink:href=\"#DejaVuSans-48\"/>\r\n     <use x=\"1440.527344\" xlink:href=\"#DejaVuSans-48\"/>\r\n     <use x=\"1504.150391\" xlink:href=\"#DejaVuSans-48\"/>\r\n     <use x=\"1567.773438\" xlink:href=\"#DejaVuSans-32\"/>\r\n     <use x=\"1599.560547\" xlink:href=\"#DejaVuSans-108\"/>\r\n     <use x=\"1627.34375\" xlink:href=\"#DejaVuSans-105\"/>\r\n     <use x=\"1655.126953\" xlink:href=\"#DejaVuSans-118\"/>\r\n     <use x=\"1714.306641\" xlink:href=\"#DejaVuSans-101\"/>\r\n     <use x=\"1775.830078\" xlink:href=\"#DejaVuSans-32\"/>\r\n     <use x=\"1807.617188\" xlink:href=\"#DejaVuSans-98\"/>\r\n     <use x=\"1871.09375\" xlink:href=\"#DejaVuSans-105\"/>\r\n     <use x=\"1898.876953\" xlink:href=\"#DejaVuSans-114\"/>\r\n     <use x=\"1939.990234\" xlink:href=\"#DejaVuSans-116\"/>\r\n     <use x=\"1979.199219\" xlink:href=\"#DejaVuSans-104\"/>\r\n     <use x=\"2042.578125\" xlink:href=\"#DejaVuSans-115\"/>\r\n     <use x=\"2094.677734\" xlink:href=\"#DejaVuSans-41\"/>\r\n     <use x=\"2133.691406\" xlink:href=\"#DejaVuSans-32\"/>\r\n     <use x=\"2165.478516\" xlink:href=\"#DejaVuSans-98\"/>\r\n     <use x=\"2228.955078\" xlink:href=\"#DejaVuSans-121\"/>\r\n     <use x=\"2288.134766\" xlink:href=\"#DejaVuSans-32\"/>\r\n     <use x=\"2319.921875\" xlink:href=\"#DejaVuSans-99\"/>\r\n     <use x=\"2374.902344\" xlink:href=\"#DejaVuSans-111\"/>\r\n     <use x=\"2436.083984\" xlink:href=\"#DejaVuSans-117\"/>\r\n     <use x=\"2499.462891\" xlink:href=\"#DejaVuSans-110\"/>\r\n     <use x=\"2562.841797\" xlink:href=\"#DejaVuSans-116\"/>\r\n     <use x=\"2602.050781\" xlink:href=\"#DejaVuSans-114\"/>\r\n     <use x=\"2643.164062\" xlink:href=\"#DejaVuSans-121\"/>\r\n    </g>\r\n   </g>\r\n   <g id=\"legend_1\">\r\n    <g id=\"patch_7\">\r\n     <path d=\"M 335.757599 89.030625 \r\nL 390.312287 89.030625 \r\nQ 392.312287 89.030625 392.312287 87.030625 \r\nL 392.312287 29.318125 \r\nQ 392.312287 27.318125 390.312287 27.318125 \r\nL 335.757599 27.318125 \r\nQ 333.757599 27.318125 333.757599 29.318125 \r\nL 333.757599 87.030625 \r\nQ 333.757599 89.030625 335.757599 89.030625 \r\nz\r\n\" style=\"opacity:0.8;stroke:#cccccc;stroke-linejoin:miter;\"/>\r\n    </g>\r\n    <g id=\"line2d_18\">\r\n     <path d=\"M 337.757599 35.416562 \r\nL 357.757599 35.416562 \r\n\" style=\"fill:none;stroke:#92c6ff;stroke-linecap:square;stroke-width:1.5;\"/>\r\n    </g>\r\n    <g id=\"line2d_19\"/>\r\n    <g id=\"text_16\">\r\n     <!-- GBR -->\r\n     <g style=\"fill:#ffffff;\" transform=\"translate(365.757599 38.916562)scale(0.1 -0.1)\">\r\n      <defs>\r\n       <path d=\"M 59.515625 10.40625 \r\nL 59.515625 29.984375 \r\nL 43.40625 29.984375 \r\nL 43.40625 38.09375 \r\nL 69.28125 38.09375 \r\nL 69.28125 6.78125 \r\nQ 63.578125 2.734375 56.6875 0.65625 \r\nQ 49.8125 -1.421875 42 -1.421875 \r\nQ 24.90625 -1.421875 15.25 8.5625 \r\nQ 5.609375 18.5625 5.609375 36.375 \r\nQ 5.609375 54.25 15.25 64.234375 \r\nQ 24.90625 74.21875 42 74.21875 \r\nQ 49.125 74.21875 55.546875 72.453125 \r\nQ 61.96875 70.703125 67.390625 67.28125 \r\nL 67.390625 56.78125 \r\nQ 61.921875 61.421875 55.765625 63.765625 \r\nQ 49.609375 66.109375 42.828125 66.109375 \r\nQ 29.4375 66.109375 22.71875 58.640625 \r\nQ 16.015625 51.171875 16.015625 36.375 \r\nQ 16.015625 21.625 22.71875 14.15625 \r\nQ 29.4375 6.6875 42.828125 6.6875 \r\nQ 48.046875 6.6875 52.140625 7.59375 \r\nQ 56.25 8.5 59.515625 10.40625 \r\nz\r\n\" id=\"DejaVuSans-71\"/>\r\n       <path d=\"M 19.671875 34.8125 \r\nL 19.671875 8.109375 \r\nL 35.5 8.109375 \r\nQ 43.453125 8.109375 47.28125 11.40625 \r\nQ 51.125 14.703125 51.125 21.484375 \r\nQ 51.125 28.328125 47.28125 31.5625 \r\nQ 43.453125 34.8125 35.5 34.8125 \r\nz\r\nM 19.671875 64.796875 \r\nL 19.671875 42.828125 \r\nL 34.28125 42.828125 \r\nQ 41.5 42.828125 45.03125 45.53125 \r\nQ 48.578125 48.25 48.578125 53.8125 \r\nQ 48.578125 59.328125 45.03125 62.0625 \r\nQ 41.5 64.796875 34.28125 64.796875 \r\nz\r\nM 9.8125 72.90625 \r\nL 35.015625 72.90625 \r\nQ 46.296875 72.90625 52.390625 68.21875 \r\nQ 58.5 63.53125 58.5 54.890625 \r\nQ 58.5 48.1875 55.375 44.234375 \r\nQ 52.25 40.28125 46.1875 39.3125 \r\nQ 53.46875 37.75 57.5 32.78125 \r\nQ 61.53125 27.828125 61.53125 20.40625 \r\nQ 61.53125 10.640625 54.890625 5.3125 \r\nQ 48.25 0 35.984375 0 \r\nL 9.8125 0 \r\nz\r\n\" id=\"DejaVuSans-66\"/>\r\n       <path d=\"M 44.390625 34.1875 \r\nQ 47.5625 33.109375 50.5625 29.59375 \r\nQ 53.5625 26.078125 56.59375 19.921875 \r\nL 66.609375 0 \r\nL 56 0 \r\nL 46.6875 18.703125 \r\nQ 43.0625 26.03125 39.671875 28.421875 \r\nQ 36.28125 30.8125 30.421875 30.8125 \r\nL 19.671875 30.8125 \r\nL 19.671875 0 \r\nL 9.8125 0 \r\nL 9.8125 72.90625 \r\nL 32.078125 72.90625 \r\nQ 44.578125 72.90625 50.734375 67.671875 \r\nQ 56.890625 62.453125 56.890625 51.90625 \r\nQ 56.890625 45.015625 53.6875 40.46875 \r\nQ 50.484375 35.9375 44.390625 34.1875 \r\nz\r\nM 19.671875 64.796875 \r\nL 19.671875 38.921875 \r\nL 32.078125 38.921875 \r\nQ 39.203125 38.921875 42.84375 42.21875 \r\nQ 46.484375 45.515625 46.484375 51.90625 \r\nQ 46.484375 58.296875 42.84375 61.546875 \r\nQ 39.203125 64.796875 32.078125 64.796875 \r\nz\r\n\" id=\"DejaVuSans-82\"/>\r\n      </defs>\r\n      <use xlink:href=\"#DejaVuSans-71\"/>\r\n      <use x=\"77.490234\" xlink:href=\"#DejaVuSans-66\"/>\r\n      <use x=\"146.09375\" xlink:href=\"#DejaVuSans-82\"/>\r\n     </g>\r\n    </g>\r\n    <g id=\"line2d_20\">\r\n     <path d=\"M 337.757599 50.094687 \r\nL 357.757599 50.094687 \r\n\" style=\"fill:none;stroke:#97f0aa;stroke-linecap:square;stroke-width:1.5;\"/>\r\n    </g>\r\n    <g id=\"line2d_21\"/>\r\n    <g id=\"text_17\">\r\n     <!-- JPN -->\r\n     <g style=\"fill:#ffffff;\" transform=\"translate(365.757599 53.594687)scale(0.1 -0.1)\">\r\n      <defs>\r\n       <path d=\"M 9.8125 72.90625 \r\nL 19.671875 72.90625 \r\nL 19.671875 5.078125 \r\nQ 19.671875 -8.109375 14.671875 -14.0625 \r\nQ 9.671875 -20.015625 -1.421875 -20.015625 \r\nL -5.171875 -20.015625 \r\nL -5.171875 -11.71875 \r\nL -2.09375 -11.71875 \r\nQ 4.4375 -11.71875 7.125 -8.046875 \r\nQ 9.8125 -4.390625 9.8125 5.078125 \r\nz\r\n\" id=\"DejaVuSans-74\"/>\r\n       <path d=\"M 19.671875 64.796875 \r\nL 19.671875 37.40625 \r\nL 32.078125 37.40625 \r\nQ 38.96875 37.40625 42.71875 40.96875 \r\nQ 46.484375 44.53125 46.484375 51.125 \r\nQ 46.484375 57.671875 42.71875 61.234375 \r\nQ 38.96875 64.796875 32.078125 64.796875 \r\nz\r\nM 9.8125 72.90625 \r\nL 32.078125 72.90625 \r\nQ 44.34375 72.90625 50.609375 67.359375 \r\nQ 56.890625 61.8125 56.890625 51.125 \r\nQ 56.890625 40.328125 50.609375 34.8125 \r\nQ 44.34375 29.296875 32.078125 29.296875 \r\nL 19.671875 29.296875 \r\nL 19.671875 0 \r\nL 9.8125 0 \r\nz\r\n\" id=\"DejaVuSans-80\"/>\r\n       <path d=\"M 9.8125 72.90625 \r\nL 23.09375 72.90625 \r\nL 55.421875 11.921875 \r\nL 55.421875 72.90625 \r\nL 64.984375 72.90625 \r\nL 64.984375 0 \r\nL 51.703125 0 \r\nL 19.390625 60.984375 \r\nL 19.390625 0 \r\nL 9.8125 0 \r\nz\r\n\" id=\"DejaVuSans-78\"/>\r\n      </defs>\r\n      <use xlink:href=\"#DejaVuSans-74\"/>\r\n      <use x=\"29.492188\" xlink:href=\"#DejaVuSans-80\"/>\r\n      <use x=\"89.794922\" xlink:href=\"#DejaVuSans-78\"/>\r\n     </g>\r\n    </g>\r\n    <g id=\"line2d_22\">\r\n     <path d=\"M 337.757599 64.772812 \r\nL 357.757599 64.772812 \r\n\" style=\"fill:none;stroke:#ff9f9a;stroke-linecap:square;stroke-width:1.5;\"/>\r\n    </g>\r\n    <g id=\"line2d_23\"/>\r\n    <g id=\"text_18\">\r\n     <!-- SWE -->\r\n     <g style=\"fill:#ffffff;\" transform=\"translate(365.757599 68.272812)scale(0.1 -0.1)\">\r\n      <defs>\r\n       <path d=\"M 3.328125 72.90625 \r\nL 13.28125 72.90625 \r\nL 28.609375 11.28125 \r\nL 43.890625 72.90625 \r\nL 54.984375 72.90625 \r\nL 70.3125 11.28125 \r\nL 85.59375 72.90625 \r\nL 95.609375 72.90625 \r\nL 77.296875 0 \r\nL 64.890625 0 \r\nL 49.515625 63.28125 \r\nL 33.984375 0 \r\nL 21.578125 0 \r\nz\r\n\" id=\"DejaVuSans-87\"/>\r\n       <path d=\"M 9.8125 72.90625 \r\nL 55.90625 72.90625 \r\nL 55.90625 64.59375 \r\nL 19.671875 64.59375 \r\nL 19.671875 43.015625 \r\nL 54.390625 43.015625 \r\nL 54.390625 34.71875 \r\nL 19.671875 34.71875 \r\nL 19.671875 8.296875 \r\nL 56.78125 8.296875 \r\nL 56.78125 0 \r\nL 9.8125 0 \r\nz\r\n\" id=\"DejaVuSans-69\"/>\r\n      </defs>\r\n      <use xlink:href=\"#DejaVuSans-83\"/>\r\n      <use x=\"63.476562\" xlink:href=\"#DejaVuSans-87\"/>\r\n      <use x=\"162.353516\" xlink:href=\"#DejaVuSans-69\"/>\r\n     </g>\r\n    </g>\r\n    <g id=\"line2d_24\">\r\n     <path d=\"M 337.757599 79.450938 \r\nL 357.757599 79.450938 \r\n\" style=\"fill:none;stroke:#d0bbff;stroke-linecap:square;stroke-width:1.5;\"/>\r\n    </g>\r\n    <g id=\"line2d_25\"/>\r\n    <g id=\"text_19\">\r\n     <!-- USA -->\r\n     <g style=\"fill:#ffffff;\" transform=\"translate(365.757599 82.950938)scale(0.1 -0.1)\">\r\n      <use xlink:href=\"#DejaVuSans-85\"/>\r\n      <use x=\"73.193359\" xlink:href=\"#DejaVuSans-83\"/>\r\n      <use x=\"138.544922\" xlink:href=\"#DejaVuSans-65\"/>\r\n     </g>\r\n    </g>\r\n   </g>\r\n  </g>\r\n </g>\r\n <defs>\r\n  <clipPath id=\"pa316dee44b\">\r\n   <rect height=\"217.44\" width=\"334.8\" x=\"62.512287\" y=\"22.318125\"/>\r\n  </clipPath>\r\n </defs>\r\n</svg>\r\n"
     },
     "metadata": {}
    }
   ],
   "source": [
    "# Query 1b. Time-series plot showing infant mortality trends, by country.\n",
    "\n",
    "num_countries = len(selected_countries)\n",
    "num_years = len(mortality_df.index.get_level_values('Year').map(lambda t: t.year).unique())\n",
    "\n",
    "print(f'Plotting data for each {num_countries} country(ies) across {num_years} year(s)...')\n",
    "\n",
    "fig, ax = plt.subplots()\n",
    "\n",
    "years = set(mortality_df.groupby(['Code']).obj.index.get_level_values('Year'))\n",
    "\n",
    "for key, grp in mortality_df.groupby(['Code']):\n",
    "    ax = grp.plot(ax=ax, kind='line', y='Mortality Rate', label=key, title=\"Infant mortality rate (per 1,000 live births) by country\")\n",
    "\n",
    "plt.legend(loc='best')\n",
    "plt.show()\n",
    "\n",
    "# mortality_df.plot(y=['Mortality Rate'], figsize=(num_years, num_countries), use_index=True)"
   ]
  },
  {
   "source": [
    "### National Net Income per Capita ###\n",
    "\n",
    "For **each country** in `selected_countries`, observations regarding NNI per Capita (in 2018 $USD) can be determined with the following steps:\n",
    "\n",
    "- Summarize the NNI per Capita per year, for each country.\n",
    "\n",
    "- Plot a time-series showing NNI per Capita trends in each country."
   ],
   "cell_type": "markdown",
   "metadata": {}
  },
  {
   "cell_type": "code",
   "execution_count": null,
   "metadata": {},
   "outputs": [],
   "source": [
    "# Query 2a. Summarize the NNI per Capita per year, for each country.\n",
    "\n",
    "\n"
   ]
  },
  {
   "cell_type": "code",
   "execution_count": null,
   "metadata": {},
   "outputs": [],
   "source": [
    "# Query 2b. Plot a time-series showing NNI per Capita trends in each country."
   ]
  },
  {
   "source": [
    "### Crime & Stability ###\n",
    "\n",
    "For **each country** in `selected_countries`, observations regarding terrorist incidents can be determined with the following steps:\n",
    "\n",
    "- Summarize the terrorism incidents per year, for each country.\n",
    "\n",
    "- Plot a time-series showing crime and stability in each country."
   ],
   "cell_type": "markdown",
   "metadata": {}
  },
  {
   "cell_type": "code",
   "execution_count": null,
   "metadata": {},
   "outputs": [],
   "source": [
    "# Query 3a. Summarize the terrorism incidents per year, for each country."
   ]
  },
  {
   "cell_type": "code",
   "execution_count": null,
   "metadata": {},
   "outputs": [],
   "source": [
    "# Query 3b. Plot a time-series showing crime and stability in each country."
   ]
  },
  {
   "source": [
    "### Predictions ###\n",
    "\n",
    "Predictions "
   ],
   "cell_type": "markdown",
   "metadata": {}
  },
  {
   "source": [
    "#### The United States ####\n",
    "\n",
    "Is it stable?\n",
    "Is it a good fit?\n",
    "\n",
    "This serves as a baseline to compare to other countries."
   ],
   "cell_type": "markdown",
   "metadata": {}
  },
  {
   "source": [
    "#### The United Kingdom ####\n",
    "\n",
    "Is it stable?\n",
    "Is it a good fit?\n",
    "How does it compare to the USA?"
   ],
   "cell_type": "markdown",
   "metadata": {}
  },
  {
   "source": [
    "#### Sweden ####\n",
    "\n",
    "Is it stable?\n",
    "Is it a good fit?\n",
    "How does it compare to the USA?\n",
    "\n",
    "Other considerations: Language. Would need to hire new staff."
   ],
   "cell_type": "markdown",
   "metadata": {}
  },
  {
   "source": [
    "#### Japan ####\n",
    "\n",
    "Is it stable?\n",
    "Is it a good fit?\n",
    "How does it compare to the USA?\n",
    "\n",
    "Other considerations: Language. Would need to hire new staff."
   ],
   "cell_type": "markdown",
   "metadata": {}
  }
 ],
 "metadata": {
  "kernelspec": {
   "display_name": "Python 3",
   "language": "python",
   "name": "python3"
  },
  "language_info": {
   "codemirror_mode": {
    "name": "ipython",
    "version": 3
   },
   "file_extension": ".py",
   "mimetype": "text/x-python",
   "name": "python",
   "nbconvert_exporter": "python",
   "pygments_lexer": "ipython3",
   "version": "3.8.8-final"
  }
 },
 "nbformat": 4,
 "nbformat_minor": 2
}