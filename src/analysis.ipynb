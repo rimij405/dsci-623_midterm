{
 "cells": [
  {
   "source": [
    "# Ryder: Global Expansion Research #\n",
    "<a id=\"top\" />\n",
    "\n",
    "This Jupyter notebook contains the summaries and visualizations that should accompany the report on Ryder's company expansion into other countries, based on key indicators derived from a country's level of crime and stability, basic measures of health and wealth, and ratios of public education spending.\n",
    "\n",
    "***\n",
    "\n",
    "## Table of Contents ##\n",
    "\n",
    "1. [Title](#top)\n",
    "2. [Introduction](#introduction)\n",
    "3. [Dependencies](#dependencies)\n",
    "4. [Helpers](#helpers)\n",
    "5. [Queries](#queries)\n",
    "\n",
    "***\n",
    "\n",
    "<a id=\"introduction\" />\n",
    "\n",
    "## Introduction ##\n",
    "\n",
    "This notebook contains queries made against cleansed versions of the following Kaggle datasets:\n",
    "\n",
    "- [Global Terrorism Database](https://www.kaggle.com/START-UMD/gtd) (2018)\n",
    "- [Infant Mortality, Fertility, Income per Capita](https://www.kaggle.com/burhanykiyakoglu/infant-mortality-fertility-income) (2018)\n",
    "- [Public Education Expenditure as share of GDP](https://www.kaggle.com/ibrahimmukherjee/gdp-world-bank-data#public-education-expenditure-as-share-of-gdp.csv) (2018)\n",
    "\n",
    "Datasets were prepared using a combination of different commandline tools, including `bash`, `awk`, `sed`, and `python`. The original wide datasets were broken up to better facilitate querying. Details on that process are included in the accompanying documentation.\n",
    "\n",
    "***\n",
    "\n",
    "<a id=\"dependencies\" />\n",
    "\n",
    "## Dependencies ##\n",
    "\n",
    "This notebook requires the following packages:\n",
    "\n",
    "    - numpy\n",
    "    - pandas \n",
    "    - matplotlib\n",
    "\n",
    "Before we can plot information and fiddle with the data, we need to import these modules.\n"
   ],
   "cell_type": "markdown",
   "metadata": {}
  },
  {
   "cell_type": "code",
   "execution_count": null,
   "metadata": {},
   "outputs": [],
   "source": [
    "import numpy as np         # numpy library for vectorized computations.\n",
    "import pandas as pd        # pandas library for manipulating dataframes."
   ]
  },
  {
   "source": [
    "### pandas & numpy ###\n",
    "\n",
    "Pandas allows us to manipulate dataframes.\n",
    "\n",
    "We can create these dataframes by reading in our data. `*.tsv` files can be imported using the `read_csv()` function. Note the custom `\\t` separator used with tab-separated-value files.\n",
    "\n",
    "```python\n",
    "# Outputs a dataframe from a parsed data file.\n",
    "dataframe = pd.read_csv(\"<filename>.tsv\", sep=\"\\t\")\n",
    "```\n",
    "\n",
    "### matplotlib ###\n",
    "\n",
    "We can also import matplotlib and the pylot modules for configuration and later use."
   ],
   "cell_type": "markdown",
   "metadata": {}
  },
  {
   "cell_type": "code",
   "execution_count": null,
   "metadata": {},
   "outputs": [],
   "source": [
    "import matplotlib as mpl   # matplotlib library for global settings.\n",
    "import matplotlib.pyplot as plt  # Our plotting functions from matplotlib."
   ]
  },
  {
   "cell_type": "code",
   "execution_count": null,
   "metadata": {},
   "outputs": [],
   "source": [
    "print(plt.style.available)  # Display what styles are available."
   ]
  },
  {
   "cell_type": "code",
   "execution_count": null,
   "metadata": {},
   "outputs": [],
   "source": [
    "%matplotlib inline\n",
    "%config InlineBackend.figure_format = 'svg'\n",
    "                                     # Above lines makes plots appear as inline svgs.\n",
    "mpl.rcParams['figure.dpi'] = 300     # Apply DPI to matplotlib inline plots.\n",
    "plt.style.use(['dark_background', 'seaborn-pastel'])     # Apply particular styles.\n",
    "plt.plot(np.sin(np.linspace(0, 2 * np.pi)), 'r-o')  # Make the plot.\n",
    "plt.show()  # Show the plot."
   ]
  },
  {
   "source": [
    "***\n",
    "\n",
    "<a id=\"helpers\"></a>\n",
    "\n",
    "## Helpers ##\n",
    "\n",
    "The following are a set of useful helper functions, included as a way to simplify the more complex queries."
   ],
   "cell_type": "markdown",
   "metadata": {}
  },
  {
   "cell_type": "code",
   "execution_count": 10,
   "metadata": {},
   "outputs": [],
   "source": [
    "from analysis.analyser import analyser\n",
    "from analysis.analyser import country\n",
    "from analysis.analyser.country import Country"
   ]
  },
  {
   "cell_type": "code",
   "execution_count": 11,
   "metadata": {},
   "outputs": [
    {
     "output_type": "error",
     "ename": "AttributeError",
     "evalue": "module 'analysis.analyser.analyser' has no attribute 'Country'",
     "traceback": [
      "\u001b[1;31m---------------------------------------------------------------------------\u001b[0m",
      "\u001b[1;31mAttributeError\u001b[0m                            Traceback (most recent call last)",
      "\u001b[1;32m<ipython-input-11-e19b64ac9cef>\u001b[0m in \u001b[0;36m<module>\u001b[1;34m\u001b[0m\n\u001b[0;32m      3\u001b[0m \u001b[1;31m#    return pd.read_csv(path, sep=\"\\t\")\u001b[0m\u001b[1;33m\u001b[0m\u001b[1;33m\u001b[0m\u001b[1;33m\u001b[0m\u001b[0m\n\u001b[0;32m      4\u001b[0m \u001b[1;33m\u001b[0m\u001b[0m\n\u001b[1;32m----> 5\u001b[1;33m \u001b[0mprint\u001b[0m\u001b[1;33m(\u001b[0m\u001b[0manalyser\u001b[0m\u001b[1;33m.\u001b[0m\u001b[0mCountry\u001b[0m\u001b[1;33m)\u001b[0m\u001b[1;33m\u001b[0m\u001b[1;33m\u001b[0m\u001b[0m\n\u001b[0m\u001b[0;32m      6\u001b[0m \u001b[1;33m\u001b[0m\u001b[0m\n\u001b[0;32m      7\u001b[0m \u001b[0mprint\u001b[0m\u001b[1;33m(\u001b[0m\u001b[0mcountry\u001b[0m\u001b[1;33m.\u001b[0m\u001b[0mCountry\u001b[0m\u001b[1;33m(\u001b[0m\u001b[0mid_\u001b[0m\u001b[1;33m=\u001b[0m\u001b[1;36m4\u001b[0m\u001b[1;33m,\u001b[0m \u001b[0mcode\u001b[0m\u001b[1;33m=\u001b[0m\u001b[1;34m\"AFG\"\u001b[0m\u001b[1;33m,\u001b[0m \u001b[0mlabel\u001b[0m\u001b[1;33m=\u001b[0m\u001b[1;34m\"Afghanistan\"\u001b[0m\u001b[1;33m)\u001b[0m\u001b[1;33m)\u001b[0m\u001b[1;33m\u001b[0m\u001b[1;33m\u001b[0m\u001b[0m\n",
      "\u001b[1;31mAttributeError\u001b[0m: module 'analysis.analyser.analyser' has no attribute 'Country'"
     ]
    }
   ],
   "source": [
    "# Helper function for reading a *.tsv file into a dataframe.\n",
    "# def read_tsv(path):\n",
    "#    return pd.read_csv(path, sep=\"\\t\")\n",
    "\n",
    "print(Country)\n",
    "print(country.Country(id_=4, code=\"AFG\", label=\"Afghanistan\"))\n",
    "print(parser.read_tsv(\"../data/country_codes.tsv\"))\n",
    "\n",
    "countries_df = parser.read_tsv(\"../data/country_codes.tsv\")\n",
    "\n",
    "country_afg = Country.from_frame(countries_df, 0)\n",
    "country_srb = Country.from_frame(countries_df, 157)\n",
    "country_ago = Country.from_frame(countries_df, 0, search=\"8\")\n",
    "country_jpn = Country.from_frame(countries_df, 0, search=\"JPN\")\n",
    "country_gbr = Country.from_frame(countries_df, 0, search=\"United Kingdom\")\n",
    "\n",
    "print(country_afg, country_srb, country_ago, country_jpn, country_gbr, sep=\"\\n\")\n",
    "\n",
    "\n"
   ]
  },
  {
   "cell_type": "code",
   "execution_count": null,
   "metadata": {},
   "outputs": [],
   "source": [
    "# Outputs a dataframe from a parsed data file.\n",
    "countries_df = utils.read_tsv(\"../data/country_codes.tsv\")\n",
    "analyser.set_countries(countries_df)\n",
    "\n",
    "# Example of querying information for 1 country.\n",
    "print(utils.format_key(analyser.get_country_key('AFG')))\n",
    "print(utils.format_keys(analyser.get_country_keys(['AFG', 'JPN', 'USA', 'BEL'])))\n",
    "\n",
    "# Clear the namespace of temporary variables.\n",
    "%reset_selective -f \"^keys$\""
   ]
  },
  {
   "cell_type": "code",
   "execution_count": null,
   "metadata": {},
   "outputs": [],
   "source": [
    "# Get np.array of unique countries that appear in \n",
    "# the public education expenditure dataset.\n",
    "ped_countries_df = read_tsv(\"../data/ped/ped_countries.tsv\")\n",
    "unique_ped = np.array(ped_countries_df.iloc[:,0].unique())\n",
    "keys_ped = { code: (id, name) for id, code, name in get_country_keys(unique_ped)}\n",
    "# print(f'Countries in the public education expenditure dataset: {keys_ped}')"
   ]
  },
  {
   "cell_type": "code",
   "execution_count": null,
   "metadata": {},
   "outputs": [],
   "source": [
    "# Get np.array of unique countries that appear in \n",
    "# the infant mortality, fertility, income per capita dataset.\n",
    "mfi_countries_df = read_tsv(\"../data/mfi/mfi_countries.tsv\")\n",
    "unique_mfi = np.array(mfi_countries_df.iloc[:,0].unique())\n",
    "keys_mfi = { code: (id, name) for id, code, name in get_country_keys(unique_mfi)}\n",
    "# print(f'Countries in the MFI datasets: {keys_mfi}')"
   ]
  },
  {
   "cell_type": "code",
   "execution_count": null,
   "metadata": {},
   "outputs": [],
   "source": [
    "# Get np.array of unique countries that appear in \n",
    "# the global terrorism database.\n",
    "gtd_countries_df = read_tsv(\"../data/gtd/gtd_countries.tsv\")\n",
    "unique_gtd = np.array(gtd_countries_df.iloc[:,1].unique())\n",
    "keys_gtd = { code: (id, name) for id, code, name in get_country_keys(unique_gtd)}\n",
    "# print(f'Countries in the Global Terrorism Database: {keys_gtd}')"
   ]
  },
  {
   "cell_type": "code",
   "execution_count": null,
   "metadata": {},
   "outputs": [],
   "source": [
    "# Get a final unique list of the countries that appear in the intersection between all sources.\n",
    "codes_ped = np.array(list(keys_ped.keys()))\n",
    "codes_gtd = np.array(list(keys_gtd.keys()))\n",
    "codes_mfi = np.array(list(keys_mfi.keys()))\n",
    "\n",
    "# Unqiue codes.\n",
    "unique_codes = np.unique([np.intersect1d(codes_ped, codes) for codes in [codes_mfi, codes_gtd]])\n",
    "available_countries = pd.Series(get_country_keys(unique_codes), index=unique_codes)\n",
    "available_countries"
   ]
  },
  {
   "cell_type": "code",
   "execution_count": null,
   "metadata": {},
   "outputs": [],
   "source": [
    "# Clear unused variables in IPython.\n",
    "%reset_selective -f \"^id$\"\n",
    "%reset_selective -f \"^code$\"\n",
    "%reset_selective -f \"^name$\"\n",
    "%reset_selective -f \"_ped$\"\n",
    "%reset_selective -f \"_mfi$\"\n",
    "%reset_selective -f \"_gtd$\"\n",
    "%reset_selective -f \"_countries_df$\"\n",
    "%reset_selective -f \"_countries_df$\"\n",
    "%reset_selective -f \"_countries_df$\""
   ]
  },
  {
   "source": [
    "***\n",
    "\n",
    "<a id=\"queries\" />\n",
    "\n",
    "## Queries ##\n",
    "\n",
    "The objective of the research project is to evaluate key indicators of stability and growth across several countries in order to estimate Ryder's potential for success in these new markets.\n",
    "\n",
    "This sample report evaluates the trends in three (3) separate countries as a sampling of what the broader international research has to offer. **The United Kingdom** (GBR), **Japan** (JPN), and **Sweden** (SWE).\n",
    "\n",
    "The **United States of America** (USA) is included in order to use our current operation region for context."
   ],
   "cell_type": "markdown",
   "metadata": {}
  },
  {
   "cell_type": "code",
   "execution_count": null,
   "metadata": {},
   "outputs": [],
   "source": [
    "# The countries we want to evaluate.\n",
    "codes = [\n",
    "    \"GBR\",  # United Kingdom\n",
    "    \"JPN\",  # Japan\n",
    "    \"SWE\",   # Sweden,\n",
    "    \"USA\"\n",
    "    ]\n",
    "\n",
    "# Are the countries available across all datasets?\n",
    "# print([country in available_countries for country in codes])\n",
    "\n",
    "# Get the country keys.\n",
    "selected_countries = pd.DataFrame(get_country_keys(codes), columns=[\"ID\", \"Code\", \"Country\"])\n",
    "selected_countries = selected_countries.set_index(\"Code\")\n",
    "selected_countries"
   ]
  },
  {
   "source": [
    "In order to query the data, we need to form our `pandas.DataFrame` representations.\n",
    "\n",
    "For the infant mortality, fertility, and income per capita datasets, we need to assign a MultiIndex using the country code and the year."
   ],
   "cell_type": "markdown",
   "metadata": {}
  },
  {
   "cell_type": "code",
   "execution_count": null,
   "metadata": {},
   "outputs": [],
   "source": [
    "# Parse the infant mortality dataset.\n",
    "df = read_tsv('../data/mfi/mortality/mortality_long.tsv')\n",
    "\n",
    "# Rename columns.\n",
    "df.rename(columns={\n",
    "    \"Country Code\": \"Code\",\n",
    "    \"Country Name\": \"Country\", \n",
    "    \"Mortality Rate\": \"Mortality\"\n",
    "    }, inplace=True)\n",
    "\n",
    "# Select only the entries that have matching country codes.\n",
    "df = df.loc[df['Code'].isin(selected_countries.index)]\n",
    "\n",
    "# Create a MultiIndex using the country code and year.\n",
    "df.set_index(['Code', 'Year'], inplace=True)\n",
    "\n",
    "# Sort by country and year.\n",
    "df.sort_index(ascending=True, inplace=True)\n",
    "\n",
    "# Assign to mortality_df.\n",
    "mortality_df = df\n",
    "mortality_df"
   ]
  },
  {
   "cell_type": "code",
   "execution_count": null,
   "metadata": {},
   "outputs": [],
   "source": [
    "# Parse the NNI per Capita dataset.\n",
    "df = read_tsv('../data/mfi/income/income_long.tsv')\n",
    "\n",
    "# Rename columns.\n",
    "df.rename(columns={\n",
    "    \"Country Code\": \"Code\",\n",
    "    \"Country Name\": \"Country\", \n",
    "    \"Income per Capita\": \"Income\"\n",
    "    }, inplace=True)\n",
    "\n",
    "# Select only the entries that have matching country codes.\n",
    "df = df.loc[df['Code'].isin(selected_countries.index)]\n",
    "\n",
    "# Create a MultiIndex using the country code and year.\n",
    "df.set_index(['Code', 'Year'], inplace=True)\n",
    "\n",
    "# Sort by country and year.\n",
    "df.sort_index(ascending=True, inplace=True)\n",
    "\n",
    "# Assign to income_df.\n",
    "income_df = df\n",
    "income_df"
   ]
  },
  {
   "cell_type": "code",
   "execution_count": null,
   "metadata": {},
   "outputs": [],
   "source": [
    "# Parse the fertility dataset.\n",
    "df = read_tsv('../data/mfi/fertility/fertility_long.tsv')\n",
    "\n",
    "# Rename columns.\n",
    "df.rename(columns={\n",
    "    \"Country Code\": \"Code\",\n",
    "    \"Country Name\": \"Country\", \n",
    "    \"Fertility Rate\": \"Fertility\"\n",
    "    }, inplace=True)\n",
    "\n",
    "# Select only the entries that have matching country codes.\n",
    "df = df.loc[df['Code'].isin(selected_countries.index)]\n",
    "\n",
    "# Create a MultiIndex using the country code and year.\n",
    "df.set_index(['Code', 'Year'], inplace=True)\n",
    "\n",
    "# Sort by country and year.\n",
    "df.sort_index(ascending=True, inplace=True)\n",
    "\n",
    "# Assign to income_df.\n",
    "fertility_df = df\n",
    "fertility_df"
   ]
  },
  {
   "source": [
    "For each of these countries, we want to answer the following questions:\n",
    "\n",
    "    1. Is infant mortality improving, stable, or getting worse?\n",
    "    2. Is income rising, stagnant, or falling?\n",
    "    3. Does one country or another seem more or less stable than the others, and why do you say this?\n",
    "    4. What changes do you predict for these countries, and why?"
   ],
   "cell_type": "markdown",
   "metadata": {}
  },
  {
   "cell_type": "code",
   "execution_count": null,
   "metadata": {},
   "outputs": [],
   "source": [
    "# For each country, \n",
    "\n",
    "# 1. Define query functions for summ\n",
    "\n",
    "# 1. Determine summary statistics regarding infant mortality for comparison.\n",
    "def summarize_mortality(country):\n",
    "    keys = get_country_key(country)\n",
    "    \n",
    "\n",
    "\n",
    "\n",
    "\n",
    "# 2. Plot time-series of infant mortality rates for each country.\n",
    "# 3. Make analysis."
   ]
  },
  {
   "cell_type": "code",
   "execution_count": null,
   "metadata": {},
   "outputs": [],
   "source": [
    "# For each country,\n",
    "# 1. Determine summary statistics regarding income rates for comparison.\n",
    "# 2. Is income rising, stagnant, or falling? Plot time-series answering this query.\n",
    "# 3. Make analysis."
   ]
  },
  {
   "cell_type": "code",
   "execution_count": null,
   "metadata": {},
   "outputs": [],
   "source": [
    "# For each country,\n",
    "# 1. Determine summary statistics regarding terrorism.\n",
    "# 2. Does one country or another seem more or less stable than the others?\n",
    "# 3. What trends do you see?"
   ]
  },
  {
   "cell_type": "code",
   "execution_count": null,
   "metadata": {},
   "outputs": [],
   "source": [
    "# For each country,\n",
    "# 1. Extrapolate information given the previous trends."
   ]
  }
 ],
 "metadata": {
  "kernelspec": {
   "display_name": "Python 3",
   "language": "python",
   "name": "python3"
  },
  "language_info": {
   "codemirror_mode": {
    "name": "ipython",
    "version": 3
   },
   "file_extension": ".py",
   "mimetype": "text/x-python",
   "name": "python",
   "nbconvert_exporter": "python",
   "pygments_lexer": "ipython3",
   "version": "3.8.8-final"
  }
 },
 "nbformat": 4,
 "nbformat_minor": 2
}