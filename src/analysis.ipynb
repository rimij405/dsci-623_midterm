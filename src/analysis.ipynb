{
 "cells": [
  {
   "source": [
    "# Ryder: Global Expansion Research #\n",
    "<a id=\"top\" />\n",
    "\n",
    "This Jupyter notebook contains the summaries and visualizations that should accompany the report on Ryder's company expansion into other countries, based on key indicators derived from a country's level of crime and stability, basic measures of health and wealth, and ratios of public education spending.\n",
    "\n",
    "***\n",
    "\n",
    "## Table of Contents ##\n",
    "\n",
    "1. [Title](#top)\n",
    "2. [Introduction](#introduction)\n",
    "3. [Dependencies](#dependencies)\n",
    "4. [Prepare for Analysis](#prepare)<br/>\n",
    "    a. [Import Countries](#import_countries)<br/>\n",
    "    b. [Selecting Countries](#select_countries)\n",
    "    c. [Import Data](#import_data)\n",
    "        i. [Import MFI](#import_data_mfi)\n",
    "        ii. [Import GTD](#import_data_gtd)\n",
    "        iii. [Import PED](#import_data_ped)\n",
    "5. [Queries](#queries)\n",
    "\n",
    "***\n",
    "\n",
    "<a id=\"introduction\" />\n",
    "\n",
    "## Introduction ##\n",
    "\n",
    "This notebook contains queries made against cleansed versions of the following Kaggle datasets:\n",
    "\n",
    "- [Global Terrorism Database](https://www.kaggle.com/START-UMD/gtd) (2018)\n",
    "- [Infant Mortality, Fertility, Income per Capita](https://www.kaggle.com/burhanykiyakoglu/infant-mortality-fertility-income) (2018)\n",
    "- [Public Education Expenditure as share of GDP](https://www.kaggle.com/ibrahimmukherjee/gdp-world-bank-data#public-education-expenditure-as-share-of-gdp.csv) (2018)\n",
    "\n",
    "Datasets were prepared using a combination of different commandline tools, including `bash`, `awk`, `sed`, and `python`. The original wide datasets were broken up to better facilitate querying. Details on that process are included in the accompanying documentation.\n",
    "\n",
    "***\n",
    "\n",
    "<a id=\"dependencies\" />\n",
    "\n",
    "## Dependencies ##\n",
    "\n",
    "This notebook requires the following packages:\n",
    "\n",
    "    - numpy\n",
    "    - pandas \n",
    "    - matplotlib\n",
    "\n",
    "Before we can plot information and fiddle with the data, we need to import these modules.\n"
   ],
   "cell_type": "markdown",
   "metadata": {}
  },
  {
   "cell_type": "code",
   "execution_count": null,
   "metadata": {},
   "outputs": [],
   "source": [
    "import numpy as np         # numpy library for vectorized computations.\n",
    "import pandas as pd        # pandas library for manipulating dataframes."
   ]
  },
  {
   "source": [
    "### pandas & numpy ###\n",
    "\n",
    "Pandas allows us to manipulate dataframes.\n",
    "\n",
    "We can create these dataframes by reading in our data. `*.tsv` files can be imported using the `read_csv()` function. Note the custom `\\t` separator used with tab-separated-value files.\n",
    "\n",
    "```python\n",
    "# Outputs a dataframe from a parsed data file.\n",
    "dataframe = pd.read_csv(\"<filename>.tsv\", sep=\"\\t\")\n",
    "```\n",
    "\n",
    "### matplotlib ###\n",
    "\n",
    "We can also import matplotlib and the pylot modules for configuration and later use."
   ],
   "cell_type": "markdown",
   "metadata": {}
  },
  {
   "cell_type": "code",
   "execution_count": null,
   "metadata": {},
   "outputs": [],
   "source": [
    "import matplotlib as mpl   # matplotlib library for global settings.\n",
    "import matplotlib.pyplot as plt  # Our plotting functions from matplotlib."
   ]
  },
  {
   "cell_type": "code",
   "execution_count": null,
   "metadata": {},
   "outputs": [],
   "source": [
    "display(plt.style.available)  # Display what styles are available."
   ]
  },
  {
   "cell_type": "code",
   "execution_count": null,
   "metadata": {},
   "outputs": [],
   "source": [
    "# %matplotlib inline\n",
    "%config InlineBackend.figure_format = 'png'\n",
    "                                     # Above lines makes plots appear as inline svgs.\n",
    "mpl.rcParams['figure.dpi'] = 100     # Apply DPI to matplotlib inline plots.\n",
    "plt.style.use(['fivethirtyeight', 'seaborn-dark', 'ggplot'])     # Apply particular styles.\n",
    "plt.plot(np.sin(np.linspace(0, 2 * np.pi)), 'r-o')  # Make the plot.\n",
    "plt.show()  # Show the plot."
   ]
  },
  {
   "source": [
    "***\n",
    "\n",
    "<a id=\"prepare\"></a>\n",
    "\n",
    "## Preparing for Analysis ##\n",
    "\n",
    "The following packages contain support functions unique to this particular report.\n",
    "\n",
    "The `analysis.analyser` package contains the `analyser` and `country` modules that do a bulk of the computational work. The `analysis.utils` package contains utility modules used to do repetitive tasks across the entire project."
   ],
   "cell_type": "markdown",
   "metadata": {}
  },
  {
   "cell_type": "code",
   "execution_count": null,
   "metadata": {},
   "outputs": [],
   "source": [
    "from analysis.analyser import analyser\n",
    "from analysis.analyser.country import Country\n",
    "from analysis.utils import parser\n",
    "from analysis.utils import validate"
   ]
  },
  {
   "source": [
    "<a id=\"import_countries\" />\n",
    "\n",
    "#### Selecting Candidate Countries ####\n",
    "\n",
    "We need to select countries from our dataset's available countries. This means finding the above three (3) countries and ensuring they have entries across all three datasets."
   ],
   "cell_type": "markdown",
   "metadata": {}
  },
  {
   "cell_type": "code",
   "execution_count": null,
   "metadata": {},
   "outputs": [],
   "source": [
    "# Outputs a dataframe from a parsed data file.\n",
    "countries_df = parser.read_tsv(\"../data/country_codes.tsv\")\n",
    "display(countries_df)"
   ]
  },
  {
   "cell_type": "code",
   "execution_count": null,
   "metadata": {},
   "outputs": [],
   "source": [
    "# Get the np.array of unique countries that appear in the public education expenditure dataset.\n",
    "ped_countries_df = parser.read_tsv(\"../data/ped/ped_countries.tsv\")\n",
    "keys_ped = Country.from_frame(countries_df, search=list(ped_countries_df.iloc[:,0].unique()))\n",
    "print(Country.format(keys_ped, sep=\"\\n\"))"
   ]
  },
  {
   "cell_type": "code",
   "execution_count": null,
   "metadata": {},
   "outputs": [],
   "source": [
    "# Get np.array of unique countries that appear in the infant mortality, fertility, income per capita dataset.\n",
    "mfi_countries_df = parser.read_tsv(\"../data/mfi/mfi_countries.tsv\")\n",
    "keys_mfi = Country.from_frame(countries_df, search=mfi_countries_df.iloc[:,0].unique())\n",
    "print(Country.format(keys_mfi[:5], sep=\"\\n\"), \"\\n...\\n\", Country.format(keys_mfi[-5:], sep=\"\\n\"))"
   ]
  },
  {
   "cell_type": "code",
   "execution_count": null,
   "metadata": {},
   "outputs": [],
   "source": [
    "# Get np.array of unique countries that appear in the global terrorism database.\n",
    "gtd_countries_df = parser.read_tsv(\"../data/gtd/gtd_countries.tsv\")\n",
    "keys_gtd = Country.from_frame(countries_df, search=gtd_countries_df.iloc[:,0].unique())\n",
    "print(Country.format(keys_gtd[:5], sep=\"\\n\"), \"\\n...\\n\", Country.format(keys_gtd[-5:], sep=\"\\n\"))"
   ]
  },
  {
   "cell_type": "code",
   "execution_count": null,
   "metadata": {},
   "outputs": [],
   "source": [
    "# Compute the unique available countries among the datasets.\n",
    "country_codes = {\n",
    "    \"ped\": list(map(lambda country: country.code, keys_ped)),\n",
    "    \"mfi\": list(map(lambda country: country.code, keys_mfi)),\n",
    "    \"gtd\": list(map(lambda country: country.code, keys_gtd))\n",
    "}\n",
    "\n",
    "# Find the available countries.\n",
    "unique_codes = analyser.find_intersection(*country_codes.values())\n",
    "print(f'Unique Codes: {unique_codes}')\n",
    "\n",
    "available_countries = countries_df[countries_df[\"Code\"].isin(unique_codes)]\n",
    "display(available_countries)"
   ]
  },
  {
   "cell_type": "code",
   "execution_count": null,
   "metadata": {},
   "outputs": [],
   "source": [
    "# Clear unused variables in IPython.\n",
    "%reset_selective -f \"^id$\"\n",
    "%reset_selective -f \"^code$\"\n",
    "%reset_selective -f \"^name$\"\n",
    "\n",
    "# Equivalent: del keys_ped\n",
    "# Equivalent: del keys_mfi\n",
    "# Equivalent: del keys_gtd\n",
    "%reset_selective -f \"_ped$\"\n",
    "%reset_selective -f \"_mfi$\"\n",
    "%reset_selective -f \"_gtd$\"\n",
    "\n",
    "# Equivalent: del ped_countries_df\n",
    "# Equivalent: del mfi_countries_df\n",
    "# Equivalent: del gtd_countries_df\n",
    "%reset_selective -f \"_countries_df$\"\n",
    "\n",
    "# Equivalent: del country_codes\n",
    "# Equivalent: del unique_codes\n",
    "%reset_selective -f \"_codes$\""
   ]
  },
  {
   "source": [
    "<a id=\"select_countries\" />\n",
    "\n",
    "#### Selecting Countries ####\n",
    "\n",
    "Now, with a sense of what countries are available, we can select 3 countries (besides the current one, USA) for comparison."
   ],
   "cell_type": "markdown",
   "metadata": {}
  },
  {
   "cell_type": "code",
   "execution_count": null,
   "metadata": {},
   "outputs": [],
   "source": [
    "# The countries we want to evaluate.\n",
    "codes = [\n",
    "    \"GBR\",  # United Kingdom,\n",
    "    \"JPN\",  # Japan,\n",
    "    \"SWE\",  # Sweden,\n",
    "    \"USA\"   # United States\n",
    "    ]\n",
    "display(codes)"
   ]
  },
  {
   "cell_type": "code",
   "execution_count": null,
   "metadata": {},
   "outputs": [],
   "source": [
    "# Select these countries from the set of available countries.\n",
    "selected_df = available_countries[available_countries[\"Code\"].isin(codes)]\n",
    "selected_df = selected_df.set_index(\"Code\", drop=False)\n",
    "display(selected_df)"
   ]
  },
  {
   "cell_type": "code",
   "execution_count": null,
   "metadata": {},
   "outputs": [],
   "source": [
    "# Convert selected countries into Country representations for use across all datasets.\n",
    "selected_countries = Country.get_countries(selected_df)\n",
    "print(Country.format(selected_countries, sep=\"\\n\"))"
   ]
  },
  {
   "source": [
    "<a id=\"import_data\" />\n",
    "\n",
    "### Importing Data ###\n",
    "\n",
    "In order to query the data, we need to form our `pandas.DataFrame` representations."
   ],
   "cell_type": "markdown",
   "metadata": {}
  },
  {
   "source": [
    "<a id=\"import_data_mfi\" />\n",
    "\n",
    "#### Mortality ####\n",
    "\n",
    "The mortality, fertility, and income datasets were made tidy, so that important can be done in a relatively consistent manner. The important feature for the infant mortality dataset is the 'Mortality Rate'."
   ],
   "cell_type": "markdown",
   "metadata": {}
  },
  {
   "cell_type": "code",
   "execution_count": null,
   "metadata": {},
   "outputs": [],
   "source": [
    "# Get the mortality table using the parser.read_mfi helper function.\n",
    "mortality_df = parser.read_mfi(\n",
    "    '../data/mfi/mortality/mortality_long.tsv', \n",
    "    title=\"Mortality Rate\",\n",
    "    countries=selected_df.index)    \n",
    "display(mortality_df)"
   ]
  },
  {
   "cell_type": "code",
   "execution_count": null,
   "metadata": {},
   "outputs": [],
   "source": [
    "# Get the fertility table using the parser.read_mfi helper function.\n",
    "fertility_df = parser.read_mfi(\n",
    "    '../data/mfi/fertility/fertility_long.tsv', \n",
    "    title=\"Fertility Rate\",\n",
    "    countries=selected_df.index)    \n",
    "display(fertility_df)"
   ]
  },
  {
   "cell_type": "code",
   "execution_count": null,
   "metadata": {},
   "outputs": [],
   "source": [
    "# Get the income table using the parser.read_mfi helper function.\n",
    "income_df = parser.read_mfi(\n",
    "    '../data/mfi/income/income_long.tsv', \n",
    "    title=\"Income\",\n",
    "    countries=selected_df.index)    \n",
    "display(income_df)"
   ]
  },
  {
   "source": [
    "<a id=\"import_data_gtd\" />\n",
    "\n",
    "#### Import Terrorism Database ####"
   ],
   "cell_type": "markdown",
   "metadata": {}
  },
  {
   "cell_type": "code",
   "execution_count": null,
   "metadata": {},
   "outputs": [],
   "source": [
    "# Import the terrorism database.\n",
    "crime_df = parser.read_tsv('../data/gtd/gtd.tsv')\n",
    "\n",
    "# Rename columns.\n",
    "crime_df.columns = ['Event ID', 'Country ID', 'Country', 'Year', 'Success', 'Attack Type ID', 'Attack Type', 'Killed', 'Wounded']"
   ]
  },
  {
   "cell_type": "code",
   "execution_count": null,
   "metadata": {},
   "outputs": [],
   "source": [
    "# Import the terrorism database.\n",
    "crime_df = parser.read_tsv('../data/gtd/gtd.tsv')\n",
    "\n",
    "# Rename columns.\n",
    "crime_df.columns = ['Event ID', 'Country ID', 'Country', 'Year', 'Success', 'Attack Type ID', 'Attack Type', 'Killed', 'Wounded']"
   ]
  },
  {
   "cell_type": "code",
   "execution_count": null,
   "metadata": {},
   "outputs": [],
   "source": [
    "# Descriptive statistics regarding the entire dataset.\n",
    "print(\"Results for the overall dataset:\")\n",
    "display(crime_df.describe(include=np.object))\n",
    "display(crime_df.drop(labels=['Event ID', 'Country ID'], axis=1).describe())"
   ]
  },
  {
   "cell_type": "code",
   "execution_count": null,
   "metadata": {},
   "outputs": [],
   "source": [
    "# Preparing for queries.\n",
    "print(\"Selecting for candidate countries...\")\n",
    "crime_df = crime_df[crime_df['Country ID'].isin(selected_df['ID'])]\n",
    "\n",
    "print(\"Mapping country ID to country code...\")\n",
    "id_map = dict(selected_df[['ID', 'Code']].values)\n",
    "crime_df['Code'] = crime_df['Country ID'].map(id_map)\n",
    "\n",
    "print(\"Summing to get casualty total...\")\n",
    "crime_df['Casualties'] = crime_df['Killed'] + crime_df['Wounded']\n",
    "\n",
    "print(\"Reorganize columns...\")\n",
    "crime_df = crime_df[['Event ID', 'Code', 'Country', 'Year', 'Attack Type', 'Killed', 'Wounded', 'Casualties', 'Success']]"
   ]
  },
  {
   "cell_type": "code",
   "execution_count": null,
   "metadata": {},
   "outputs": [],
   "source": [
    "display(crime_df)"
   ]
  },
  {
   "source": [
    "<a id=\"import_data_ped\" />\n",
    "\n",
    "#### Import Public Expenditure Data ####"
   ],
   "cell_type": "markdown",
   "metadata": {}
  },
  {
   "cell_type": "code",
   "execution_count": null,
   "metadata": {},
   "outputs": [],
   "source": [
    "# Import the public expenditure database.\n",
    "ped_df = parser.read_tsv('../data/ped/ped.tsv')\n",
    "display(ped_df)"
   ]
  },
  {
   "cell_type": "code",
   "execution_count": null,
   "metadata": {},
   "outputs": [],
   "source": [
    "print(\"Rename columns...\")\n",
    "ped_df = ped_df.rename(columns={ 'Entity': 'Country', 'Public Expenditure on Education (percent of GDP)': \"%GDP\" })\n",
    "\n",
    "print(\"Reorder columns...\")\n",
    "ped_df = ped_df[['Code', 'Country', 'Year', '%GDP']]\n",
    "\n",
    "print(\"Selecting countries...\")\n",
    "ped_df = ped_df[ped_df['Code'].isin(selected_df['Code'])]\n",
    "\n",
    "print(\"Sorting by year...\")\n",
    "ped_df = ped_df.sort_values(by=[\"Code\", \"Year\"], axis=0)\n",
    "display(ped_df)"
   ]
  },
  {
   "cell_type": "code",
   "execution_count": null,
   "metadata": {},
   "outputs": [],
   "source": [
    "# Descriptions for selected countries.\n",
    "display(ped_df.describe(include=np.object))\n",
    "display(ped_df.describe())\n",
    "display(ped_df.groupby(['Code']).describe().drop(labels=\"Year\", axis=1))"
   ]
  },
  {
   "source": [
    "***\n",
    "\n",
    "<a id=\"analysis\" />\n",
    "\n",
    "## Queries ##\n",
    "\n",
    "The objective of the research project is to evaluate key indicators of stability and growth across several countries in order to estimate Ryder's potential for success in these new markets.\n",
    "\n",
    "This sample report evaluates the trends in three (3) separate countries as a sampling of what the broader international research has to offer. **The United Kingdom** (GBR), **Japan** (JPN), and **Sweden** (SWE).\n",
    "\n",
    "The **United States of America** (USA) is included in order to use our current operation region for context."
   ],
   "cell_type": "markdown",
   "metadata": {}
  },
  {
   "source": [
    "For each of these countries, we want to answer the following questions:\n",
    "\n",
    "    1. Is infant mortality improving, stable, or getting worse?\n",
    "    2. Is income rising, stagnant, or falling?\n",
    "    3. Does one country or another seem more or less stable than the others, and why do you say this?\n",
    "    4. What changes do you predict for these countries, and why?"
   ],
   "cell_type": "markdown",
   "metadata": {}
  },
  {
   "source": [
    "\n",
    "\n",
    "### Infant Mortality ###\n",
    "\n",
    "For **each country** in `selected_countries`, observations regarding infant mortality per 1,000 live births can be determined with the following steps:\n",
    "\n",
    "- Summraize rates of infant mortality per 1,000 live births per year, for each country.\n",
    "\n",
    "- Plot a time-series showing infant mortality trends in each country."
   ],
   "cell_type": "markdown",
   "metadata": {}
  },
  {
   "cell_type": "code",
   "execution_count": null,
   "metadata": {},
   "outputs": [],
   "source": [
    "# Query 1a. Average infant mortality per 1,000 live births per year, by country.\n",
    "# print(describe_numeric(mortality_df.groupby(['Code']), 'Mortality Rate'))\n",
    "mortality_stats_year = mortality_df.groupby(['Code']).agg({\n",
    "    'Year': [\n",
    "        'count',\n",
    "        'min',\n",
    "        'max',\n",
    "        analyser.spread(),\n",
    "        analyser.percentile(0),\n",
    "        analyser.percentile(0.25),\n",
    "        analyser.percentile(0.5),\n",
    "        analyser.percentile(0.75),\n",
    "        analyser.percentile(1),\n",
    "        analyser.IQR()\n",
    "    ]\n",
    "}).dropna(axis=1,how='all')\n",
    "print(mortality_stats_year)\n",
    "\n",
    "mortality_stats_rate = mortality_df.groupby(['Code']).agg({\n",
    "    'Mortality Rate': [\n",
    "        'min',\n",
    "        'idxmin',\n",
    "        'max',\n",
    "        'idxmax'\n",
    "    ]\n",
    "}).dropna(axis=1,how='all')\n",
    "print(mortality_stats_rate)\n",
    "\n",
    "mortality_quartiles = mortality_df.groupby(['Code']).agg({ \n",
    "    'Mortality Rate': [ \n",
    "        analyser.percentile(0), \n",
    "        analyser.percentile(0.25),\n",
    "        analyser.percentile(0.5),\n",
    "        analyser.percentile(0.75),\n",
    "        analyser.percentile(1),\n",
    "        analyser.IQR(),\n",
    "        analyser.spread()\n",
    "    ]\n",
    "})\n",
    "print(mortality_quartiles)"
   ]
  },
  {
   "cell_type": "code",
   "execution_count": null,
   "metadata": {},
   "outputs": [],
   "source": [
    "# Query 1b. Time-series plot showing infant mortality trends, by country.\n",
    "\n",
    "df = mortality_df.drop(labels=['original_index'], axis=1)\n",
    "\n",
    "num_years = df['Year'].nunique()\n",
    "num_countries = df['Code'].nunique()\n",
    "year_min = df['Year'].min()\n",
    "year_max = df['Year'].max()\n",
    "\n",
    "options = {\n",
    "    'xlabel': 'year',\n",
    "    'ylabel': 'infant mortality (per 1,000 live births)',\n",
    "    'title': f'Infant mortality rate, by country ({year_min} to {year_max})',\n",
    "    'xlim': (year_min - 2, year_max + 2),\n",
    "    'ylim': (-2, df['Mortality Rate'].max() * 1.25),\n",
    "}\n",
    "\n",
    "# Plot the mortality information.\n",
    "print(f'Plotting {options[\"title\"]} for each {num_countries} countr(y/ies) across {num_years} year(s)...')\n",
    "fig, ax = plt.subplots()\n",
    "\n",
    "for key, grp in df.groupby(['Code']):\n",
    "    ax.plot('Year', 'Mortality Rate', 'o-', data=grp, label=df[df['Code'] == key]['Country'].unique()[0])\n",
    "\n",
    "ax.set(**options)\n",
    "\n",
    "ax.xaxis.set_major_locator(mpl.ticker.MaxNLocator(15))\n",
    "\n",
    "ax.legend(loc='upper right', frameon=False)\n",
    "ax.grid(True)"
   ]
  },
  {
   "source": [
    "### National Net Income per Capita ###\n",
    "\n",
    "For **each country** in `selected_countries`, observations regarding NNI per Capita (in 2018 $USD) can be determined with the following steps:\n",
    "\n",
    "- Summarize the NNI per Capita per year, for each country.\n",
    "\n",
    "- Plot a time-series showing NNI per Capita trends in each country."
   ],
   "cell_type": "markdown",
   "metadata": {}
  },
  {
   "cell_type": "code",
   "execution_count": null,
   "metadata": {},
   "outputs": [],
   "source": [
    "# Query 2a. Summarize the NNI per Capita per year, for each country.\n",
    "income_stats = income_df.groupby(['Code']).agg({\n",
    "    'Income': [\n",
    "        'min',\n",
    "        'idxmin',\n",
    "        'max',\n",
    "        'idxmax'\n",
    "    ]\n",
    "}).dropna(axis=1,how='all')\n",
    "print(income_stats)\n",
    "\n",
    "income_quartiles = income_df.groupby(['Code']).agg({ \n",
    "    'Income': [ \n",
    "        analyser.percentile(0), \n",
    "        analyser.percentile(0.25),\n",
    "        analyser.percentile(0.5),\n",
    "        analyser.percentile(0.75),\n",
    "        analyser.percentile(1),\n",
    "        analyser.IQR(),\n",
    "        analyser.spread()\n",
    "    ]\n",
    "})\n",
    "print(income_quartiles)\n"
   ]
  },
  {
   "cell_type": "code",
   "execution_count": null,
   "metadata": {},
   "outputs": [],
   "source": [
    "# Query 2b. Plot a time-series showing NNI per Capita trends in each country.\n",
    "df = income_df.drop(labels=['original_index'], axis=1)\n",
    "\n",
    "num_years = df['Year'].nunique()\n",
    "num_countries = df['Code'].nunique()\n",
    "year_min = df['Year'].min()\n",
    "year_max = df['Year'].max()\n",
    "\n",
    "options = {\n",
    "    'xlabel': 'year',\n",
    "    'ylabel': 'national net income per capita',\n",
    "    'title': f'NNI per Capita, by country ({year_min} to {year_max}) in 2018 $USD',\n",
    "    'xlim': (year_min - 2, year_max + 2),\n",
    "    'ylim': (-2, df['Income'].max() * 1.25),\n",
    "}\n",
    "\n",
    "# Plot the mortality information.\n",
    "print(f'Plotting {options[\"title\"]} for each {num_countries} countr(y/ies) across {num_years} year(s)...')\n",
    "fig, ax = plt.subplots()\n",
    "\n",
    "for key, grp in df.groupby(['Code']):\n",
    "    ax.plot('Year', 'Income', 'o-', data=grp, label=df[df['Code'] == key]['Country'].unique()[0])\n",
    "\n",
    "ax.set(**options)\n",
    "\n",
    "ax.xaxis.set_major_locator(mpl.ticker.MaxNLocator(15))\n",
    "ax.yaxis.set_major_formatter(mpl.ticker.StrMethodFormatter('${x:,.0f}'))\n",
    "\n",
    "ax.legend(loc='upper left', frameon=True)\n",
    "ax.grid(True)\n",
    "\n",
    "plt.show()"
   ]
  },
  {
   "source": [
    "### Crime & Stability ###\n",
    "\n",
    "For **each country** in `selected_countries`, observations regarding terrorist incidents can be determined with the following steps:\n",
    "\n",
    "- Summarize the terrorism incidents per year, for each country.\n",
    "\n",
    "- Plot a time-series showing crime and stability in each country."
   ],
   "cell_type": "markdown",
   "metadata": {}
  },
  {
   "cell_type": "code",
   "execution_count": null,
   "metadata": {},
   "outputs": [],
   "source": [
    "# Query 3a. Summarize the terrorism incidents per year, for each country.\n",
    "display(crime_df.groupby(['Code']).nunique()[['Event ID', 'Year', 'Attack Type']])\n",
    "\n",
    "crime_stats = crime_df.groupby(['Code']).agg({\n",
    "    'Killed': [\n",
    "        'min',\n",
    "        'idxmin',\n",
    "        'max',\n",
    "        'idxmax',\n",
    "        'count',\n",
    "        'sum',\n",
    "    ],\n",
    "    'Wounded': [\n",
    "        'min',\n",
    "        'idxmin',\n",
    "        'max',\n",
    "        'idxmax',\n",
    "        'sum',\n",
    "    ],   \n",
    "    'Casualties': [\n",
    "        'min',\n",
    "        'idxmin',\n",
    "        'max',\n",
    "        'idxmax',\n",
    "        'sum',\n",
    "    ],   \n",
    "    'Attack Type': [\n",
    "        'count',\n",
    "        'max',\n",
    "        'nunique',\n",
    "        analyser.mode(), \n",
    "    ], \n",
    "}).dropna(axis=1,how='all')\n",
    "display(crime_stats)\n",
    "\n",
    "crime_quartiles = crime_df.groupby(['Code']).agg({ \n",
    "    'Killed': [ \n",
    "        analyser.mode(), \n",
    "        analyser.percentile(0), \n",
    "        analyser.percentile(0.25),\n",
    "        analyser.percentile(0.5),\n",
    "        analyser.percentile(0.75),\n",
    "        analyser.percentile(1),\n",
    "        analyser.IQR(),\n",
    "        analyser.spread()\n",
    "    ],\n",
    "    'Wounded': [ \n",
    "        analyser.mode(), \n",
    "        analyser.percentile(0), \n",
    "        analyser.percentile(0.25),\n",
    "        analyser.percentile(0.5),\n",
    "        analyser.percentile(0.75),\n",
    "        analyser.percentile(1),\n",
    "        analyser.IQR(),\n",
    "        analyser.spread()\n",
    "    ],\n",
    "    'Casualties': [\n",
    "        analyser.mode(), \n",
    "        analyser.percentile(0), \n",
    "        analyser.percentile(0.25),\n",
    "        analyser.percentile(0.5),\n",
    "        analyser.percentile(0.75),\n",
    "        analyser.percentile(1),\n",
    "        analyser.IQR(),\n",
    "        analyser.spread()\n",
    "    ],   \n",
    "})\n",
    "display(crime_quartiles)"
   ]
  },
  {
   "cell_type": "code",
   "execution_count": null,
   "metadata": {},
   "outputs": [],
   "source": [
    "crime_desc = crime_df.drop(labels=['Event ID'], axis=1).groupby(['Code', 'Attack Type']).describe()\n",
    "\n",
    "print('Country Terrorist Attacks by Year')\n",
    "display(crime_desc['Year'][['count', 'min', '50%', 'max']])\n",
    "\n",
    "print('Country Terrorist Attack Casualties')\n",
    "display(crime_desc[['Killed', 'Wounded']].drop(labels=['25%', '75%', 'mean', 'std'], axis=1, level=1))\n",
    "\n",
    "print('Country Terrorist Attack Casualties')\n",
    "display(crime_desc['Casualties'])\n"
   ]
  },
  {
   "cell_type": "code",
   "execution_count": null,
   "metadata": {},
   "outputs": [],
   "source": [
    "# Query 3b. Plot a time-series showing crime and stability in each country.\n",
    "df = crime_df.sort_values(by=['Code','Event ID'])\n",
    "df['Incidents'] = df.groupby(['Code']).cumcount()\n",
    "\n",
    "num_attack_max = df['Incidents'].max()\n",
    "num_years = df['Year'].nunique()\n",
    "num_countries = df['Code'].nunique()\n",
    "year_min = df['Year'].min()\n",
    "year_max = df['Year'].max()\n",
    "\n",
    "# Fill in missing years by padding using the previous year's values.\n",
    "df['Incidents'] = df['Incidents'].interpolate()\n",
    "\n",
    "options = {\n",
    "    'xlabel': 'year',\n",
    "    'ylabel': 'number of incidents',\n",
    "    'title': f'Terror Incidents, by country ({year_min} to {year_max})',\n",
    "    'xlim': (year_min - 1, year_max + 1),\n",
    "    'ylim': (-2, num_attack_max * 1.25),\n",
    "}\n",
    "\n",
    "# Plot the crime information.\n",
    "print(f'Plotting {options[\"title\"]} for each {num_countries} countr(y/ies) across {num_years} year(s)...')\n",
    "fig, ax = plt.subplots()\n",
    "\n",
    "for key, grp in df.groupby(['Code']):\n",
    "    ax.plot(grp['Year'], grp['Incidents'], '.-', label=df[df['Code'] == key]['Country'].unique()[0])\n",
    "\n",
    "ax.set(**options)\n",
    "\n",
    "ax.xaxis.set_major_locator(mpl.ticker.MaxNLocator(15))\n",
    "# ax.yaxis.set_major_formatter(mpl.ticker.StrMethodFormatter('${x:,.0f}'))\n",
    "\n",
    "ax.legend(loc='upper left', frameon=True)\n",
    "ax.grid(True)\n",
    "\n",
    "plt.show()\n"
   ]
  },
  {
   "cell_type": "code",
   "execution_count": null,
   "metadata": {},
   "outputs": [],
   "source": [
    "options = {\n",
    "    'xlabel': 'year',\n",
    "    'ylabel': 'number of casualties',\n",
    "    'title': f'Casualties due to terrorism, by country ({year_min} to {year_max})',\n",
    "    'xlim': (year_min - 1, year_max + 1),\n",
    "    'ylim': (0, df['Casualties'].max() * 1.25),\n",
    "}\n",
    "\n",
    "# Plot the crime information.\n",
    "print(f'Plotting {options[\"title\"]} for each {num_countries} countr(y/ies) across {num_years} year(s)...')\n",
    "fig, ax = plt.subplots()\n",
    "\n",
    "for key, grp in df.groupby(['Code']):\n",
    "    ax.plot(grp['Year'], grp['Casualties'], 'o-', label=df[df['Code'] == key]['Country'].unique()[0])\n",
    "\n",
    "ax.set(**options)\n",
    "\n",
    "ax.yaxis.set_major_locator(mpl.ticker.MaxNLocator(10))\n",
    "ax.xaxis.set_major_locator(mpl.ticker.MaxNLocator(15))\n",
    "# ax.yaxis.set_major_formatter(mpl.ticker.StrMethodFormatter('${x:,.0f}'))\n",
    "\n",
    "ax.legend(loc='upper left', frameon=True)\n",
    "ax.grid(True)\n",
    "\n",
    "plt.show()\n"
   ]
  },
  {
   "cell_type": "code",
   "execution_count": null,
   "metadata": {},
   "outputs": [],
   "source": []
  },
  {
   "source": [
    "<a id=\"predict\" />\n",
    "\n",
    "### Predictions ###\n",
    "\n",
    "Predictions "
   ],
   "cell_type": "markdown",
   "metadata": {}
  },
  {
   "source": [
    "<a id=\"predict_usa\" />\n",
    "\n",
    "#### The United States ####\n",
    "\n",
    "Is it stable?\n",
    "Is it a good fit?\n",
    "\n",
    "This serves as a baseline to compare to other countries."
   ],
   "cell_type": "markdown",
   "metadata": {}
  },
  {
   "source": [
    "<a id=\"predict_gbr\" />\n",
    "\n",
    "#### The United Kingdom ####\n",
    "\n",
    "Is it stable?\n",
    "Is it a good fit?\n",
    "How does it compare to the USA?"
   ],
   "cell_type": "markdown",
   "metadata": {}
  },
  {
   "source": [
    "<a id=\"predict_swe\" />\n",
    "\n",
    "#### Sweden ####\n",
    "\n",
    "Is it stable?\n",
    "Is it a good fit?\n",
    "How does it compare to the USA?\n",
    "\n",
    "Other considerations: Language. Would need to hire new staff."
   ],
   "cell_type": "markdown",
   "metadata": {}
  },
  {
   "source": [
    "<a id=\"predict_jpn\" />\n",
    "\n",
    "#### Japan ####\n",
    "\n",
    "Is it stable?\n",
    "Is it a good fit?\n",
    "How does it compare to the USA?\n",
    "\n",
    "Other considerations: Language. Would need to hire new staff."
   ],
   "cell_type": "markdown",
   "metadata": {}
  }
 ],
 "metadata": {
  "kernelspec": {
   "display_name": "Python 3",
   "language": "python",
   "name": "python3"
  },
  "language_info": {
   "codemirror_mode": {
    "name": "ipython",
    "version": 3
   },
   "file_extension": ".py",
   "mimetype": "text/x-python",
   "name": "python",
   "nbconvert_exporter": "python",
   "pygments_lexer": "ipython3",
   "version": "3.8.8-final"
  }
 },
 "nbformat": 4,
 "nbformat_minor": 2
}