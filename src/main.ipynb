{
 "cells": [
  {
   "source": [
    "# Report of Data"
   ],
   "cell_type": "markdown",
   "metadata": {}
  },
  {
   "cell_type": "code",
   "execution_count": 2,
   "metadata": {},
   "outputs": [],
   "source": [
    "import pandas as pd\n",
    "df = pd.read_csv(\"../data/mfi/mortality/mortality_long.tsv\", sep=\"\\t\")"
   ]
  },
  {
   "cell_type": "code",
   "execution_count": 3,
   "metadata": {},
   "outputs": [
    {
     "output_type": "stream",
     "name": "stdout",
     "text": [
      "     Country Code          Country Name  Year  Mortality Rate\n0             AFG           Afghanistan  1970           204.8\n1             ARE  United Arab Emirates  1970            71.0\n2             ARG             Argentina  1970            59.4\n3             AUS             Australia  1970            17.8\n4             AUT               Austria  1970            25.0\n...           ...                   ...   ...             ...\n8568          WSM                 Samoa  2016            14.8\n8569          YEM           Yemen, Rep.  2016            43.2\n8570          ZAF          South Africa  2016            34.2\n8571          ZMB                Zambia  2016            43.8\n8572          ZWE              Zimbabwe  2016            40.0\n\n[8573 rows x 4 columns]\n"
     ]
    }
   ],
   "source": [
    "print(df)"
   ]
  },
  {
   "cell_type": "code",
   "execution_count": null,
   "metadata": {},
   "outputs": [],
   "source": []
  }
 ],
 "metadata": {
  "kernelspec": {
   "display_name": "Python 3",
   "language": "python",
   "name": "python3"
  },
  "language_info": {
   "codemirror_mode": {
    "name": "ipython",
    "version": 3
   },
   "file_extension": ".py",
   "mimetype": "text/x-python",
   "name": "python",
   "nbconvert_exporter": "python",
   "pygments_lexer": "ipython3",
   "version": "3.8.8-final"
  }
 },
 "nbformat": 4,
 "nbformat_minor": 2
}