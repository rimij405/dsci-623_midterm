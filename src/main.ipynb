{
 "cells": [
  {
   "source": [
    "# Ryder: Global Expansion Research #\n",
    "<a id=\"top\" />\n",
    "\n",
    "This Jupyter notebook contains the summaries and visualizations that should accompany the report on Ryder's company expansion into other countries, based on key indicators derived from a country's level of crime and stability, basic measures of health and wealth, and ratios of public education spending.\n",
    "\n",
    "***\n",
    "\n",
    "## Table of Contents ##\n",
    "\n",
    "1. [Title](#top)\n",
    "2. [Introduction](#introduction)\n",
    "3. [Dependencies](#dependencies)\n",
    "4. [Helpers](#helpers)\n",
    "5. [Queries](#queries)\n",
    "\n",
    "***\n",
    "\n",
    "<a id=\"introduction\" />\n",
    "\n",
    "## Introduction ##\n",
    "\n",
    "This notebook contains queries made against cleansed versions of the following Kaggle datasets:\n",
    "\n",
    "- [Global Terrorism Database](https://www.kaggle.com/START-UMD/gtd) (2018)\n",
    "- [Infant Mortality, Fertility, Income per Capita](https://www.kaggle.com/burhanykiyakoglu/infant-mortality-fertility-income) (2018)\n",
    "- [Public Education Expenditure as share of GDP](https://www.kaggle.com/ibrahimmukherjee/gdp-world-bank-data#public-education-expenditure-as-share-of-gdp.csv) (2018)\n",
    "\n",
    "Datasets were prepared using a combination of different commandline tools, including `bash`, `awk`, `sed`, and `python`. The original wide datasets were broken up to better facilitate querying. Details on that process are included in the accompanying documentation.\n",
    "\n",
    "***\n",
    "\n",
    "<a id=\"dependencies\" />\n",
    "\n",
    "## Dependencies ##\n",
    "\n",
    "This notebook requires the following packages:\n",
    "\n",
    "    - numpy\n",
    "    - pandas \n",
    "    - matplotlib\n",
    "\n",
    "Before we can plot information and fiddle with the data, we need to import these modules.\n"
   ],
   "cell_type": "markdown",
   "metadata": {}
  },
  {
   "cell_type": "code",
   "execution_count": 7,
   "metadata": {},
   "outputs": [],
   "source": [
    "import numpy as np         # numpy library for vectorized computations.\n",
    "import pandas as pd        # pandas library for manipulating dataframes."
   ]
  },
  {
   "source": [
    "### pandas & numpy ###\n",
    "\n",
    "Pandas allows us to manipulate dataframes.\n",
    "\n",
    "We can create these dataframes by reading in our data. `*.tsv` files can be imported using the `read_csv()` function. Note the custom `\\t` separator used with tab-separated-value files.\n",
    "\n",
    "```python\n",
    "# Outputs a dataframe from a parsed data file.\n",
    "dataframe = pd.read_csv(\"<filename>.tsv\", sep=\"\\t\")\n",
    "```\n",
    "\n",
    "### matplotlib ###\n",
    "\n",
    "We can also import matplotlib and the pylot modules for configuration and later use."
   ],
   "cell_type": "markdown",
   "metadata": {}
  },
  {
   "cell_type": "code",
   "execution_count": 8,
   "metadata": {},
   "outputs": [],
   "source": [
    "import matplotlib as mpl   # matplotlib library for global settings.\n",
    "import matplotlib.pyplot as plt  # Our plotting functions from matplotlib."
   ]
  },
  {
   "cell_type": "code",
   "execution_count": 9,
   "metadata": {},
   "outputs": [
    {
     "output_type": "stream",
     "name": "stdout",
     "text": [
      "['Solarize_Light2', '_classic_test_patch', 'bmh', 'classic', 'dark_background', 'fast', 'fivethirtyeight', 'ggplot', 'grayscale', 'seaborn', 'seaborn-bright', 'seaborn-colorblind', 'seaborn-dark', 'seaborn-dark-palette', 'seaborn-darkgrid', 'seaborn-deep', 'seaborn-muted', 'seaborn-notebook', 'seaborn-paper', 'seaborn-pastel', 'seaborn-poster', 'seaborn-talk', 'seaborn-ticks', 'seaborn-white', 'seaborn-whitegrid', 'tableau-colorblind10']\n"
     ]
    }
   ],
   "source": [
    "print(plt.style.available)  # Display what styles are available."
   ]
  },
  {
   "cell_type": "code",
   "execution_count": 10,
   "metadata": {},
   "outputs": [
    {
     "output_type": "display_data",
     "data": {
      "text/plain": "<Figure size 1800x1200 with 1 Axes>",
      "image/svg+xml": "<?xml version=\"1.0\" encoding=\"utf-8\" standalone=\"no\"?>\r\n<!DOCTYPE svg PUBLIC \"-//W3C//DTD SVG 1.1//EN\"\r\n  \"http://www.w3.org/Graphics/SVG/1.1/DTD/svg11.dtd\">\r\n<!-- Created with matplotlib (https://matplotlib.org/) -->\r\n<svg height=\"248.518125pt\" version=\"1.1\" viewBox=\"0 0 386.845312 248.518125\" width=\"386.845312pt\" xmlns=\"http://www.w3.org/2000/svg\" xmlns:xlink=\"http://www.w3.org/1999/xlink\">\r\n <metadata>\r\n  <rdf:RDF xmlns:cc=\"http://creativecommons.org/ns#\" xmlns:dc=\"http://purl.org/dc/elements/1.1/\" xmlns:rdf=\"http://www.w3.org/1999/02/22-rdf-syntax-ns#\">\r\n   <cc:Work>\r\n    <dc:type rdf:resource=\"http://purl.org/dc/dcmitype/StillImage\"/>\r\n    <dc:date>2021-03-17T13:58:21.973775</dc:date>\r\n    <dc:format>image/svg+xml</dc:format>\r\n    <dc:creator>\r\n     <cc:Agent>\r\n      <dc:title>Matplotlib v3.3.4, https://matplotlib.org/</dc:title>\r\n     </cc:Agent>\r\n    </dc:creator>\r\n   </cc:Work>\r\n  </rdf:RDF>\r\n </metadata>\r\n <defs>\r\n  <style type=\"text/css\">*{stroke-linecap:butt;stroke-linejoin:round;}</style>\r\n </defs>\r\n <g id=\"figure_1\">\r\n  <g id=\"patch_1\">\r\n   <path d=\"M 0 248.518125 \r\nL 386.845312 248.518125 \r\nL 386.845312 0 \r\nL 0 0 \r\nz\r\n\"/>\r\n  </g>\r\n  <g id=\"axes_1\">\r\n   <g id=\"patch_2\">\r\n    <path d=\"M 44.845313 224.64 \r\nL 379.645313 224.64 \r\nL 379.645313 7.2 \r\nL 44.845313 7.2 \r\nz\r\n\"/>\r\n   </g>\r\n   <g id=\"matplotlib.axis_1\">\r\n    <g id=\"xtick_1\">\r\n     <g id=\"line2d_1\">\r\n      <defs>\r\n       <path d=\"M 0 0 \r\nL 0 3.5 \r\n\" id=\"m81ad22fd18\" style=\"stroke:#ffffff;stroke-width:0.8;\"/>\r\n      </defs>\r\n      <g>\r\n       <use style=\"fill:#ffffff;stroke:#ffffff;stroke-width:0.8;\" x=\"60.063494\" xlink:href=\"#m81ad22fd18\" y=\"224.64\"/>\r\n      </g>\r\n     </g>\r\n     <g id=\"text_1\">\r\n      <!-- 0 -->\r\n      <g style=\"fill:#ffffff;\" transform=\"translate(56.882244 239.238437)scale(0.1 -0.1)\">\r\n       <defs>\r\n        <path d=\"M 31.78125 66.40625 \r\nQ 24.171875 66.40625 20.328125 58.90625 \r\nQ 16.5 51.421875 16.5 36.375 \r\nQ 16.5 21.390625 20.328125 13.890625 \r\nQ 24.171875 6.390625 31.78125 6.390625 \r\nQ 39.453125 6.390625 43.28125 13.890625 \r\nQ 47.125 21.390625 47.125 36.375 \r\nQ 47.125 51.421875 43.28125 58.90625 \r\nQ 39.453125 66.40625 31.78125 66.40625 \r\nz\r\nM 31.78125 74.21875 \r\nQ 44.046875 74.21875 50.515625 64.515625 \r\nQ 56.984375 54.828125 56.984375 36.375 \r\nQ 56.984375 17.96875 50.515625 8.265625 \r\nQ 44.046875 -1.421875 31.78125 -1.421875 \r\nQ 19.53125 -1.421875 13.0625 8.265625 \r\nQ 6.59375 17.96875 6.59375 36.375 \r\nQ 6.59375 54.828125 13.0625 64.515625 \r\nQ 19.53125 74.21875 31.78125 74.21875 \r\nz\r\n\" id=\"DejaVuSans-48\"/>\r\n       </defs>\r\n       <use xlink:href=\"#DejaVuSans-48\"/>\r\n      </g>\r\n     </g>\r\n    </g>\r\n    <g id=\"xtick_2\">\r\n     <g id=\"line2d_2\">\r\n      <g>\r\n       <use style=\"fill:#ffffff;stroke:#ffffff;stroke-width:0.8;\" x=\"122.178522\" xlink:href=\"#m81ad22fd18\" y=\"224.64\"/>\r\n      </g>\r\n     </g>\r\n     <g id=\"text_2\">\r\n      <!-- 10 -->\r\n      <g style=\"fill:#ffffff;\" transform=\"translate(115.816022 239.238437)scale(0.1 -0.1)\">\r\n       <defs>\r\n        <path d=\"M 12.40625 8.296875 \r\nL 28.515625 8.296875 \r\nL 28.515625 63.921875 \r\nL 10.984375 60.40625 \r\nL 10.984375 69.390625 \r\nL 28.421875 72.90625 \r\nL 38.28125 72.90625 \r\nL 38.28125 8.296875 \r\nL 54.390625 8.296875 \r\nL 54.390625 0 \r\nL 12.40625 0 \r\nz\r\n\" id=\"DejaVuSans-49\"/>\r\n       </defs>\r\n       <use xlink:href=\"#DejaVuSans-49\"/>\r\n       <use x=\"63.623047\" xlink:href=\"#DejaVuSans-48\"/>\r\n      </g>\r\n     </g>\r\n    </g>\r\n    <g id=\"xtick_3\">\r\n     <g id=\"line2d_3\">\r\n      <g>\r\n       <use style=\"fill:#ffffff;stroke:#ffffff;stroke-width:0.8;\" x=\"184.29355\" xlink:href=\"#m81ad22fd18\" y=\"224.64\"/>\r\n      </g>\r\n     </g>\r\n     <g id=\"text_3\">\r\n      <!-- 20 -->\r\n      <g style=\"fill:#ffffff;\" transform=\"translate(177.93105 239.238437)scale(0.1 -0.1)\">\r\n       <defs>\r\n        <path d=\"M 19.1875 8.296875 \r\nL 53.609375 8.296875 \r\nL 53.609375 0 \r\nL 7.328125 0 \r\nL 7.328125 8.296875 \r\nQ 12.9375 14.109375 22.625 23.890625 \r\nQ 32.328125 33.6875 34.8125 36.53125 \r\nQ 39.546875 41.84375 41.421875 45.53125 \r\nQ 43.3125 49.21875 43.3125 52.78125 \r\nQ 43.3125 58.59375 39.234375 62.25 \r\nQ 35.15625 65.921875 28.609375 65.921875 \r\nQ 23.96875 65.921875 18.8125 64.3125 \r\nQ 13.671875 62.703125 7.8125 59.421875 \r\nL 7.8125 69.390625 \r\nQ 13.765625 71.78125 18.9375 73 \r\nQ 24.125 74.21875 28.421875 74.21875 \r\nQ 39.75 74.21875 46.484375 68.546875 \r\nQ 53.21875 62.890625 53.21875 53.421875 \r\nQ 53.21875 48.921875 51.53125 44.890625 \r\nQ 49.859375 40.875 45.40625 35.40625 \r\nQ 44.1875 33.984375 37.640625 27.21875 \r\nQ 31.109375 20.453125 19.1875 8.296875 \r\nz\r\n\" id=\"DejaVuSans-50\"/>\r\n       </defs>\r\n       <use xlink:href=\"#DejaVuSans-50\"/>\r\n       <use x=\"63.623047\" xlink:href=\"#DejaVuSans-48\"/>\r\n      </g>\r\n     </g>\r\n    </g>\r\n    <g id=\"xtick_4\">\r\n     <g id=\"line2d_4\">\r\n      <g>\r\n       <use style=\"fill:#ffffff;stroke:#ffffff;stroke-width:0.8;\" x=\"246.408578\" xlink:href=\"#m81ad22fd18\" y=\"224.64\"/>\r\n      </g>\r\n     </g>\r\n     <g id=\"text_4\">\r\n      <!-- 30 -->\r\n      <g style=\"fill:#ffffff;\" transform=\"translate(240.046078 239.238437)scale(0.1 -0.1)\">\r\n       <defs>\r\n        <path d=\"M 40.578125 39.3125 \r\nQ 47.65625 37.796875 51.625 33 \r\nQ 55.609375 28.21875 55.609375 21.1875 \r\nQ 55.609375 10.40625 48.1875 4.484375 \r\nQ 40.765625 -1.421875 27.09375 -1.421875 \r\nQ 22.515625 -1.421875 17.65625 -0.515625 \r\nQ 12.796875 0.390625 7.625 2.203125 \r\nL 7.625 11.71875 \r\nQ 11.71875 9.328125 16.59375 8.109375 \r\nQ 21.484375 6.890625 26.8125 6.890625 \r\nQ 36.078125 6.890625 40.9375 10.546875 \r\nQ 45.796875 14.203125 45.796875 21.1875 \r\nQ 45.796875 27.640625 41.28125 31.265625 \r\nQ 36.765625 34.90625 28.71875 34.90625 \r\nL 20.21875 34.90625 \r\nL 20.21875 43.015625 \r\nL 29.109375 43.015625 \r\nQ 36.375 43.015625 40.234375 45.921875 \r\nQ 44.09375 48.828125 44.09375 54.296875 \r\nQ 44.09375 59.90625 40.109375 62.90625 \r\nQ 36.140625 65.921875 28.71875 65.921875 \r\nQ 24.65625 65.921875 20.015625 65.03125 \r\nQ 15.375 64.15625 9.8125 62.3125 \r\nL 9.8125 71.09375 \r\nQ 15.4375 72.65625 20.34375 73.4375 \r\nQ 25.25 74.21875 29.59375 74.21875 \r\nQ 40.828125 74.21875 47.359375 69.109375 \r\nQ 53.90625 64.015625 53.90625 55.328125 \r\nQ 53.90625 49.265625 50.4375 45.09375 \r\nQ 46.96875 40.921875 40.578125 39.3125 \r\nz\r\n\" id=\"DejaVuSans-51\"/>\r\n       </defs>\r\n       <use xlink:href=\"#DejaVuSans-51\"/>\r\n       <use x=\"63.623047\" xlink:href=\"#DejaVuSans-48\"/>\r\n      </g>\r\n     </g>\r\n    </g>\r\n    <g id=\"xtick_5\">\r\n     <g id=\"line2d_5\">\r\n      <g>\r\n       <use style=\"fill:#ffffff;stroke:#ffffff;stroke-width:0.8;\" x=\"308.523606\" xlink:href=\"#m81ad22fd18\" y=\"224.64\"/>\r\n      </g>\r\n     </g>\r\n     <g id=\"text_5\">\r\n      <!-- 40 -->\r\n      <g style=\"fill:#ffffff;\" transform=\"translate(302.161106 239.238437)scale(0.1 -0.1)\">\r\n       <defs>\r\n        <path d=\"M 37.796875 64.3125 \r\nL 12.890625 25.390625 \r\nL 37.796875 25.390625 \r\nz\r\nM 35.203125 72.90625 \r\nL 47.609375 72.90625 \r\nL 47.609375 25.390625 \r\nL 58.015625 25.390625 \r\nL 58.015625 17.1875 \r\nL 47.609375 17.1875 \r\nL 47.609375 0 \r\nL 37.796875 0 \r\nL 37.796875 17.1875 \r\nL 4.890625 17.1875 \r\nL 4.890625 26.703125 \r\nz\r\n\" id=\"DejaVuSans-52\"/>\r\n       </defs>\r\n       <use xlink:href=\"#DejaVuSans-52\"/>\r\n       <use x=\"63.623047\" xlink:href=\"#DejaVuSans-48\"/>\r\n      </g>\r\n     </g>\r\n    </g>\r\n    <g id=\"xtick_6\">\r\n     <g id=\"line2d_6\">\r\n      <g>\r\n       <use style=\"fill:#ffffff;stroke:#ffffff;stroke-width:0.8;\" x=\"370.638633\" xlink:href=\"#m81ad22fd18\" y=\"224.64\"/>\r\n      </g>\r\n     </g>\r\n     <g id=\"text_6\">\r\n      <!-- 50 -->\r\n      <g style=\"fill:#ffffff;\" transform=\"translate(364.276133 239.238437)scale(0.1 -0.1)\">\r\n       <defs>\r\n        <path d=\"M 10.796875 72.90625 \r\nL 49.515625 72.90625 \r\nL 49.515625 64.59375 \r\nL 19.828125 64.59375 \r\nL 19.828125 46.734375 \r\nQ 21.96875 47.46875 24.109375 47.828125 \r\nQ 26.265625 48.1875 28.421875 48.1875 \r\nQ 40.625 48.1875 47.75 41.5 \r\nQ 54.890625 34.8125 54.890625 23.390625 \r\nQ 54.890625 11.625 47.5625 5.09375 \r\nQ 40.234375 -1.421875 26.90625 -1.421875 \r\nQ 22.3125 -1.421875 17.546875 -0.640625 \r\nQ 12.796875 0.140625 7.71875 1.703125 \r\nL 7.71875 11.625 \r\nQ 12.109375 9.234375 16.796875 8.0625 \r\nQ 21.484375 6.890625 26.703125 6.890625 \r\nQ 35.15625 6.890625 40.078125 11.328125 \r\nQ 45.015625 15.765625 45.015625 23.390625 \r\nQ 45.015625 31 40.078125 35.4375 \r\nQ 35.15625 39.890625 26.703125 39.890625 \r\nQ 22.75 39.890625 18.8125 39.015625 \r\nQ 14.890625 38.140625 10.796875 36.28125 \r\nz\r\n\" id=\"DejaVuSans-53\"/>\r\n       </defs>\r\n       <use xlink:href=\"#DejaVuSans-53\"/>\r\n       <use x=\"63.623047\" xlink:href=\"#DejaVuSans-48\"/>\r\n      </g>\r\n     </g>\r\n    </g>\r\n   </g>\r\n   <g id=\"matplotlib.axis_2\">\r\n    <g id=\"ytick_1\">\r\n     <g id=\"line2d_7\">\r\n      <defs>\r\n       <path d=\"M 0 0 \r\nL -3.5 0 \r\n\" id=\"m367e6e2290\" style=\"stroke:#ffffff;stroke-width:0.8;\"/>\r\n      </defs>\r\n      <g>\r\n       <use style=\"fill:#ffffff;stroke:#ffffff;stroke-width:0.8;\" x=\"44.845313\" xlink:href=\"#m367e6e2290\" y=\"214.80717\"/>\r\n      </g>\r\n     </g>\r\n     <g id=\"text_7\">\r\n      <!-- −1.00 -->\r\n      <g style=\"fill:#ffffff;\" transform=\"translate(7.2 218.606389)scale(0.1 -0.1)\">\r\n       <defs>\r\n        <path d=\"M 10.59375 35.5 \r\nL 73.1875 35.5 \r\nL 73.1875 27.203125 \r\nL 10.59375 27.203125 \r\nz\r\n\" id=\"DejaVuSans-8722\"/>\r\n        <path d=\"M 10.6875 12.40625 \r\nL 21 12.40625 \r\nL 21 0 \r\nL 10.6875 0 \r\nz\r\n\" id=\"DejaVuSans-46\"/>\r\n       </defs>\r\n       <use xlink:href=\"#DejaVuSans-8722\"/>\r\n       <use x=\"83.789062\" xlink:href=\"#DejaVuSans-49\"/>\r\n       <use x=\"147.412109\" xlink:href=\"#DejaVuSans-46\"/>\r\n       <use x=\"179.199219\" xlink:href=\"#DejaVuSans-48\"/>\r\n       <use x=\"242.822266\" xlink:href=\"#DejaVuSans-48\"/>\r\n      </g>\r\n     </g>\r\n    </g>\r\n    <g id=\"ytick_2\">\r\n     <g id=\"line2d_8\">\r\n      <g>\r\n       <use style=\"fill:#ffffff;stroke:#ffffff;stroke-width:0.8;\" x=\"44.845313\" xlink:href=\"#m367e6e2290\" y=\"190.085378\"/>\r\n      </g>\r\n     </g>\r\n     <g id=\"text_8\">\r\n      <!-- −0.75 -->\r\n      <g style=\"fill:#ffffff;\" transform=\"translate(7.2 193.884596)scale(0.1 -0.1)\">\r\n       <defs>\r\n        <path d=\"M 8.203125 72.90625 \r\nL 55.078125 72.90625 \r\nL 55.078125 68.703125 \r\nL 28.609375 0 \r\nL 18.3125 0 \r\nL 43.21875 64.59375 \r\nL 8.203125 64.59375 \r\nz\r\n\" id=\"DejaVuSans-55\"/>\r\n       </defs>\r\n       <use xlink:href=\"#DejaVuSans-8722\"/>\r\n       <use x=\"83.789062\" xlink:href=\"#DejaVuSans-48\"/>\r\n       <use x=\"147.412109\" xlink:href=\"#DejaVuSans-46\"/>\r\n       <use x=\"179.199219\" xlink:href=\"#DejaVuSans-55\"/>\r\n       <use x=\"242.822266\" xlink:href=\"#DejaVuSans-53\"/>\r\n      </g>\r\n     </g>\r\n    </g>\r\n    <g id=\"ytick_3\">\r\n     <g id=\"line2d_9\">\r\n      <g>\r\n       <use style=\"fill:#ffffff;stroke:#ffffff;stroke-width:0.8;\" x=\"44.845313\" xlink:href=\"#m367e6e2290\" y=\"165.363585\"/>\r\n      </g>\r\n     </g>\r\n     <g id=\"text_9\">\r\n      <!-- −0.50 -->\r\n      <g style=\"fill:#ffffff;\" transform=\"translate(7.2 169.162804)scale(0.1 -0.1)\">\r\n       <use xlink:href=\"#DejaVuSans-8722\"/>\r\n       <use x=\"83.789062\" xlink:href=\"#DejaVuSans-48\"/>\r\n       <use x=\"147.412109\" xlink:href=\"#DejaVuSans-46\"/>\r\n       <use x=\"179.199219\" xlink:href=\"#DejaVuSans-53\"/>\r\n       <use x=\"242.822266\" xlink:href=\"#DejaVuSans-48\"/>\r\n      </g>\r\n     </g>\r\n    </g>\r\n    <g id=\"ytick_4\">\r\n     <g id=\"line2d_10\">\r\n      <g>\r\n       <use style=\"fill:#ffffff;stroke:#ffffff;stroke-width:0.8;\" x=\"44.845313\" xlink:href=\"#m367e6e2290\" y=\"140.641793\"/>\r\n      </g>\r\n     </g>\r\n     <g id=\"text_10\">\r\n      <!-- −0.25 -->\r\n      <g style=\"fill:#ffffff;\" transform=\"translate(7.2 144.441011)scale(0.1 -0.1)\">\r\n       <use xlink:href=\"#DejaVuSans-8722\"/>\r\n       <use x=\"83.789062\" xlink:href=\"#DejaVuSans-48\"/>\r\n       <use x=\"147.412109\" xlink:href=\"#DejaVuSans-46\"/>\r\n       <use x=\"179.199219\" xlink:href=\"#DejaVuSans-50\"/>\r\n       <use x=\"242.822266\" xlink:href=\"#DejaVuSans-53\"/>\r\n      </g>\r\n     </g>\r\n    </g>\r\n    <g id=\"ytick_5\">\r\n     <g id=\"line2d_11\">\r\n      <g>\r\n       <use style=\"fill:#ffffff;stroke:#ffffff;stroke-width:0.8;\" x=\"44.845313\" xlink:href=\"#m367e6e2290\" y=\"115.92\"/>\r\n      </g>\r\n     </g>\r\n     <g id=\"text_11\">\r\n      <!-- 0.00 -->\r\n      <g style=\"fill:#ffffff;\" transform=\"translate(15.579688 119.719219)scale(0.1 -0.1)\">\r\n       <use xlink:href=\"#DejaVuSans-48\"/>\r\n       <use x=\"63.623047\" xlink:href=\"#DejaVuSans-46\"/>\r\n       <use x=\"95.410156\" xlink:href=\"#DejaVuSans-48\"/>\r\n       <use x=\"159.033203\" xlink:href=\"#DejaVuSans-48\"/>\r\n      </g>\r\n     </g>\r\n    </g>\r\n    <g id=\"ytick_6\">\r\n     <g id=\"line2d_12\">\r\n      <g>\r\n       <use style=\"fill:#ffffff;stroke:#ffffff;stroke-width:0.8;\" x=\"44.845313\" xlink:href=\"#m367e6e2290\" y=\"91.198207\"/>\r\n      </g>\r\n     </g>\r\n     <g id=\"text_12\">\r\n      <!-- 0.25 -->\r\n      <g style=\"fill:#ffffff;\" transform=\"translate(15.579688 94.997426)scale(0.1 -0.1)\">\r\n       <use xlink:href=\"#DejaVuSans-48\"/>\r\n       <use x=\"63.623047\" xlink:href=\"#DejaVuSans-46\"/>\r\n       <use x=\"95.410156\" xlink:href=\"#DejaVuSans-50\"/>\r\n       <use x=\"159.033203\" xlink:href=\"#DejaVuSans-53\"/>\r\n      </g>\r\n     </g>\r\n    </g>\r\n    <g id=\"ytick_7\">\r\n     <g id=\"line2d_13\">\r\n      <g>\r\n       <use style=\"fill:#ffffff;stroke:#ffffff;stroke-width:0.8;\" x=\"44.845313\" xlink:href=\"#m367e6e2290\" y=\"66.476415\"/>\r\n      </g>\r\n     </g>\r\n     <g id=\"text_13\">\r\n      <!-- 0.50 -->\r\n      <g style=\"fill:#ffffff;\" transform=\"translate(15.579688 70.275634)scale(0.1 -0.1)\">\r\n       <use xlink:href=\"#DejaVuSans-48\"/>\r\n       <use x=\"63.623047\" xlink:href=\"#DejaVuSans-46\"/>\r\n       <use x=\"95.410156\" xlink:href=\"#DejaVuSans-53\"/>\r\n       <use x=\"159.033203\" xlink:href=\"#DejaVuSans-48\"/>\r\n      </g>\r\n     </g>\r\n    </g>\r\n    <g id=\"ytick_8\">\r\n     <g id=\"line2d_14\">\r\n      <g>\r\n       <use style=\"fill:#ffffff;stroke:#ffffff;stroke-width:0.8;\" x=\"44.845313\" xlink:href=\"#m367e6e2290\" y=\"41.754622\"/>\r\n      </g>\r\n     </g>\r\n     <g id=\"text_14\">\r\n      <!-- 0.75 -->\r\n      <g style=\"fill:#ffffff;\" transform=\"translate(15.579688 45.553841)scale(0.1 -0.1)\">\r\n       <use xlink:href=\"#DejaVuSans-48\"/>\r\n       <use x=\"63.623047\" xlink:href=\"#DejaVuSans-46\"/>\r\n       <use x=\"95.410156\" xlink:href=\"#DejaVuSans-55\"/>\r\n       <use x=\"159.033203\" xlink:href=\"#DejaVuSans-53\"/>\r\n      </g>\r\n     </g>\r\n    </g>\r\n    <g id=\"ytick_9\">\r\n     <g id=\"line2d_15\">\r\n      <g>\r\n       <use style=\"fill:#ffffff;stroke:#ffffff;stroke-width:0.8;\" x=\"44.845313\" xlink:href=\"#m367e6e2290\" y=\"17.03283\"/>\r\n      </g>\r\n     </g>\r\n     <g id=\"text_15\">\r\n      <!-- 1.00 -->\r\n      <g style=\"fill:#ffffff;\" transform=\"translate(15.579688 20.832048)scale(0.1 -0.1)\">\r\n       <use xlink:href=\"#DejaVuSans-49\"/>\r\n       <use x=\"63.623047\" xlink:href=\"#DejaVuSans-46\"/>\r\n       <use x=\"95.410156\" xlink:href=\"#DejaVuSans-48\"/>\r\n       <use x=\"159.033203\" xlink:href=\"#DejaVuSans-48\"/>\r\n      </g>\r\n     </g>\r\n    </g>\r\n   </g>\r\n   <g id=\"line2d_16\">\r\n    <path clip-path=\"url(#p54dfcb2fb1)\" d=\"M 60.063494 115.92 \r\nL 66.274997 103.274589 \r\nL 72.4865 90.836816 \r\nL 78.698003 78.810908 \r\nL 84.909505 67.39433 \r\nL 91.121008 56.774542 \r\nL 97.332511 47.125921 \r\nL 103.544014 38.606897 \r\nL 109.755517 31.357352 \r\nL 115.967019 25.496323 \r\nL 122.178522 21.120049 \r\nL 128.390025 18.300387 \r\nL 134.601528 17.083636 \r\nL 140.81303 17.489776 \r\nL 147.024533 19.512138 \r\nL 153.236036 23.117513 \r\nL 159.447539 28.246703 \r\nL 165.659042 34.815487 \r\nL 171.870544 42.716004 \r\nL 178.082047 51.818528 \r\nL 184.29355 61.973597 \r\nL 190.505053 73.014465 \r\nL 196.716556 84.75984 \r\nL 202.928058 97.016864 \r\nL 209.139561 109.584277 \r\nL 215.351064 122.255723 \r\nL 221.562567 134.823136 \r\nL 227.774069 147.08016 \r\nL 233.985572 158.825535 \r\nL 240.197075 169.866403 \r\nL 246.408578 180.021472 \r\nL 252.620081 189.123996 \r\nL 258.831583 197.024513 \r\nL 265.043086 203.593297 \r\nL 271.254589 208.722487 \r\nL 277.466092 212.327862 \r\nL 283.677595 214.350224 \r\nL 289.889097 214.756364 \r\nL 296.1006 213.539613 \r\nL 302.312103 210.719951 \r\nL 308.523606 206.343677 \r\nL 314.735108 200.482648 \r\nL 320.946611 193.233103 \r\nL 327.158114 184.714079 \r\nL 333.369617 175.065458 \r\nL 339.58112 164.44567 \r\nL 345.792622 153.029092 \r\nL 352.004125 141.003184 \r\nL 358.215628 128.565411 \r\nL 364.427131 115.92 \r\n\" style=\"fill:none;stroke:#ff0000;stroke-linecap:square;stroke-width:1.5;\"/>\r\n    <defs>\r\n     <path d=\"M 0 3 \r\nC 0.795609 3 1.55874 2.683901 2.12132 2.12132 \r\nC 2.683901 1.55874 3 0.795609 3 0 \r\nC 3 -0.795609 2.683901 -1.55874 2.12132 -2.12132 \r\nC 1.55874 -2.683901 0.795609 -3 0 -3 \r\nC -0.795609 -3 -1.55874 -2.683901 -2.12132 -2.12132 \r\nC -2.683901 -1.55874 -3 -0.795609 -3 0 \r\nC -3 0.795609 -2.683901 1.55874 -2.12132 2.12132 \r\nC -1.55874 2.683901 -0.795609 3 0 3 \r\nz\r\n\" id=\"mcb4c935892\" style=\"stroke:#ff0000;\"/>\r\n    </defs>\r\n    <g clip-path=\"url(#p54dfcb2fb1)\">\r\n     <use style=\"fill:#ff0000;stroke:#ff0000;\" x=\"60.063494\" xlink:href=\"#mcb4c935892\" y=\"115.92\"/>\r\n     <use style=\"fill:#ff0000;stroke:#ff0000;\" x=\"66.274997\" xlink:href=\"#mcb4c935892\" y=\"103.274589\"/>\r\n     <use style=\"fill:#ff0000;stroke:#ff0000;\" x=\"72.4865\" xlink:href=\"#mcb4c935892\" y=\"90.836816\"/>\r\n     <use style=\"fill:#ff0000;stroke:#ff0000;\" x=\"78.698003\" xlink:href=\"#mcb4c935892\" y=\"78.810908\"/>\r\n     <use style=\"fill:#ff0000;stroke:#ff0000;\" x=\"84.909505\" xlink:href=\"#mcb4c935892\" y=\"67.39433\"/>\r\n     <use style=\"fill:#ff0000;stroke:#ff0000;\" x=\"91.121008\" xlink:href=\"#mcb4c935892\" y=\"56.774542\"/>\r\n     <use style=\"fill:#ff0000;stroke:#ff0000;\" x=\"97.332511\" xlink:href=\"#mcb4c935892\" y=\"47.125921\"/>\r\n     <use style=\"fill:#ff0000;stroke:#ff0000;\" x=\"103.544014\" xlink:href=\"#mcb4c935892\" y=\"38.606897\"/>\r\n     <use style=\"fill:#ff0000;stroke:#ff0000;\" x=\"109.755517\" xlink:href=\"#mcb4c935892\" y=\"31.357352\"/>\r\n     <use style=\"fill:#ff0000;stroke:#ff0000;\" x=\"115.967019\" xlink:href=\"#mcb4c935892\" y=\"25.496323\"/>\r\n     <use style=\"fill:#ff0000;stroke:#ff0000;\" x=\"122.178522\" xlink:href=\"#mcb4c935892\" y=\"21.120049\"/>\r\n     <use style=\"fill:#ff0000;stroke:#ff0000;\" x=\"128.390025\" xlink:href=\"#mcb4c935892\" y=\"18.300387\"/>\r\n     <use style=\"fill:#ff0000;stroke:#ff0000;\" x=\"134.601528\" xlink:href=\"#mcb4c935892\" y=\"17.083636\"/>\r\n     <use style=\"fill:#ff0000;stroke:#ff0000;\" x=\"140.81303\" xlink:href=\"#mcb4c935892\" y=\"17.489776\"/>\r\n     <use style=\"fill:#ff0000;stroke:#ff0000;\" x=\"147.024533\" xlink:href=\"#mcb4c935892\" y=\"19.512138\"/>\r\n     <use style=\"fill:#ff0000;stroke:#ff0000;\" x=\"153.236036\" xlink:href=\"#mcb4c935892\" y=\"23.117513\"/>\r\n     <use style=\"fill:#ff0000;stroke:#ff0000;\" x=\"159.447539\" xlink:href=\"#mcb4c935892\" y=\"28.246703\"/>\r\n     <use style=\"fill:#ff0000;stroke:#ff0000;\" x=\"165.659042\" xlink:href=\"#mcb4c935892\" y=\"34.815487\"/>\r\n     <use style=\"fill:#ff0000;stroke:#ff0000;\" x=\"171.870544\" xlink:href=\"#mcb4c935892\" y=\"42.716004\"/>\r\n     <use style=\"fill:#ff0000;stroke:#ff0000;\" x=\"178.082047\" xlink:href=\"#mcb4c935892\" y=\"51.818528\"/>\r\n     <use style=\"fill:#ff0000;stroke:#ff0000;\" x=\"184.29355\" xlink:href=\"#mcb4c935892\" y=\"61.973597\"/>\r\n     <use style=\"fill:#ff0000;stroke:#ff0000;\" x=\"190.505053\" xlink:href=\"#mcb4c935892\" y=\"73.014465\"/>\r\n     <use style=\"fill:#ff0000;stroke:#ff0000;\" x=\"196.716556\" xlink:href=\"#mcb4c935892\" y=\"84.75984\"/>\r\n     <use style=\"fill:#ff0000;stroke:#ff0000;\" x=\"202.928058\" xlink:href=\"#mcb4c935892\" y=\"97.016864\"/>\r\n     <use style=\"fill:#ff0000;stroke:#ff0000;\" x=\"209.139561\" xlink:href=\"#mcb4c935892\" y=\"109.584277\"/>\r\n     <use style=\"fill:#ff0000;stroke:#ff0000;\" x=\"215.351064\" xlink:href=\"#mcb4c935892\" y=\"122.255723\"/>\r\n     <use style=\"fill:#ff0000;stroke:#ff0000;\" x=\"221.562567\" xlink:href=\"#mcb4c935892\" y=\"134.823136\"/>\r\n     <use style=\"fill:#ff0000;stroke:#ff0000;\" x=\"227.774069\" xlink:href=\"#mcb4c935892\" y=\"147.08016\"/>\r\n     <use style=\"fill:#ff0000;stroke:#ff0000;\" x=\"233.985572\" xlink:href=\"#mcb4c935892\" y=\"158.825535\"/>\r\n     <use style=\"fill:#ff0000;stroke:#ff0000;\" x=\"240.197075\" xlink:href=\"#mcb4c935892\" y=\"169.866403\"/>\r\n     <use style=\"fill:#ff0000;stroke:#ff0000;\" x=\"246.408578\" xlink:href=\"#mcb4c935892\" y=\"180.021472\"/>\r\n     <use style=\"fill:#ff0000;stroke:#ff0000;\" x=\"252.620081\" xlink:href=\"#mcb4c935892\" y=\"189.123996\"/>\r\n     <use style=\"fill:#ff0000;stroke:#ff0000;\" x=\"258.831583\" xlink:href=\"#mcb4c935892\" y=\"197.024513\"/>\r\n     <use style=\"fill:#ff0000;stroke:#ff0000;\" x=\"265.043086\" xlink:href=\"#mcb4c935892\" y=\"203.593297\"/>\r\n     <use style=\"fill:#ff0000;stroke:#ff0000;\" x=\"271.254589\" xlink:href=\"#mcb4c935892\" y=\"208.722487\"/>\r\n     <use style=\"fill:#ff0000;stroke:#ff0000;\" x=\"277.466092\" xlink:href=\"#mcb4c935892\" y=\"212.327862\"/>\r\n     <use style=\"fill:#ff0000;stroke:#ff0000;\" x=\"283.677595\" xlink:href=\"#mcb4c935892\" y=\"214.350224\"/>\r\n     <use style=\"fill:#ff0000;stroke:#ff0000;\" x=\"289.889097\" xlink:href=\"#mcb4c935892\" y=\"214.756364\"/>\r\n     <use style=\"fill:#ff0000;stroke:#ff0000;\" x=\"296.1006\" xlink:href=\"#mcb4c935892\" y=\"213.539613\"/>\r\n     <use style=\"fill:#ff0000;stroke:#ff0000;\" x=\"302.312103\" xlink:href=\"#mcb4c935892\" y=\"210.719951\"/>\r\n     <use style=\"fill:#ff0000;stroke:#ff0000;\" x=\"308.523606\" xlink:href=\"#mcb4c935892\" y=\"206.343677\"/>\r\n     <use style=\"fill:#ff0000;stroke:#ff0000;\" x=\"314.735108\" xlink:href=\"#mcb4c935892\" y=\"200.482648\"/>\r\n     <use style=\"fill:#ff0000;stroke:#ff0000;\" x=\"320.946611\" xlink:href=\"#mcb4c935892\" y=\"193.233103\"/>\r\n     <use style=\"fill:#ff0000;stroke:#ff0000;\" x=\"327.158114\" xlink:href=\"#mcb4c935892\" y=\"184.714079\"/>\r\n     <use style=\"fill:#ff0000;stroke:#ff0000;\" x=\"333.369617\" xlink:href=\"#mcb4c935892\" y=\"175.065458\"/>\r\n     <use style=\"fill:#ff0000;stroke:#ff0000;\" x=\"339.58112\" xlink:href=\"#mcb4c935892\" y=\"164.44567\"/>\r\n     <use style=\"fill:#ff0000;stroke:#ff0000;\" x=\"345.792622\" xlink:href=\"#mcb4c935892\" y=\"153.029092\"/>\r\n     <use style=\"fill:#ff0000;stroke:#ff0000;\" x=\"352.004125\" xlink:href=\"#mcb4c935892\" y=\"141.003184\"/>\r\n     <use style=\"fill:#ff0000;stroke:#ff0000;\" x=\"358.215628\" xlink:href=\"#mcb4c935892\" y=\"128.565411\"/>\r\n     <use style=\"fill:#ff0000;stroke:#ff0000;\" x=\"364.427131\" xlink:href=\"#mcb4c935892\" y=\"115.92\"/>\r\n    </g>\r\n   </g>\r\n   <g id=\"patch_3\">\r\n    <path d=\"M 44.845313 224.64 \r\nL 44.845313 7.2 \r\n\" style=\"fill:none;stroke:#ffffff;stroke-linecap:square;stroke-linejoin:miter;stroke-width:0.8;\"/>\r\n   </g>\r\n   <g id=\"patch_4\">\r\n    <path d=\"M 379.645313 224.64 \r\nL 379.645313 7.2 \r\n\" style=\"fill:none;stroke:#ffffff;stroke-linecap:square;stroke-linejoin:miter;stroke-width:0.8;\"/>\r\n   </g>\r\n   <g id=\"patch_5\">\r\n    <path d=\"M 44.845313 224.64 \r\nL 379.645313 224.64 \r\n\" style=\"fill:none;stroke:#ffffff;stroke-linecap:square;stroke-linejoin:miter;stroke-width:0.8;\"/>\r\n   </g>\r\n   <g id=\"patch_6\">\r\n    <path d=\"M 44.845313 7.2 \r\nL 379.645313 7.2 \r\n\" style=\"fill:none;stroke:#ffffff;stroke-linecap:square;stroke-linejoin:miter;stroke-width:0.8;\"/>\r\n   </g>\r\n  </g>\r\n </g>\r\n <defs>\r\n  <clipPath id=\"p54dfcb2fb1\">\r\n   <rect height=\"217.44\" width=\"334.8\" x=\"44.845313\" y=\"7.2\"/>\r\n  </clipPath>\r\n </defs>\r\n</svg>\r\n"
     },
     "metadata": {}
    }
   ],
   "source": [
    "%matplotlib inline\n",
    "%config InlineBackend.figure_format = 'svg'\n",
    "                                     # Above lines makes plots appear as inline svgs.\n",
    "mpl.rcParams['figure.dpi'] = 300     # Apply DPI to matplotlib inline plots.\n",
    "plt.style.use(['dark_background', 'seaborn-pastel'])     # Apply particular styles.\n",
    "plt.plot(np.sin(np.linspace(0, 2 * np.pi)), 'r-o')  # Make the plot.\n",
    "plt.show()  # Show the plot."
   ]
  },
  {
   "source": [
    "***\n",
    "\n",
    "<a id=\"helpers\"></a>\n",
    "\n",
    "## Helpers ##\n",
    "\n",
    "The following are a set of useful helper functions, included as a way to simplify the more complex queries."
   ],
   "cell_type": "markdown",
   "metadata": {}
  },
  {
   "cell_type": "code",
   "execution_count": 11,
   "metadata": {},
   "outputs": [],
   "source": [
    "# Helper function for reading a *.tsv file into a dataframe.\n",
    "def read_tsv(path):\n",
    "    return pd.read_csv(path, sep=\"\\t\")\n"
   ]
  },
  {
   "cell_type": "code",
   "execution_count": 12,
   "metadata": {},
   "outputs": [],
   "source": [
    "# Helper function for checking if string is empty.\n",
    "def is_empty(str):\n",
    "    return str is None or len(str) == 0\n",
    "\n",
    "def is_whitespace(str):\n",
    "    return is_empty(''.join(str.strip()))\n",
    "\n",
    "def is_numeric(str):\n",
    "    try:\n",
    "        int(str)\n",
    "        return True\n",
    "    except ValueError:\n",
    "        return False\n",
    "\n",
    "def "
   ]
  },
  {
   "cell_type": "code",
   "execution_count": 13,
   "metadata": {},
   "outputs": [
    {
     "output_type": "stream",
     "name": "stdout",
     "text": [
      "< [4], \"AFG\": \"Afghanistan\" >\n< [4], \"AFG\": \"Afghanistan\" >\n< [101], \"JPN\": \"Japan\" >\n< [217], \"USA\": \"United States\" >\n< [21], \"BEL\": \"Belgium\" >\n"
     ]
    }
   ],
   "source": [
    "# Outputs a dataframe from a parsed data file.\n",
    "countries_df = read_tsv(\"../data/country_codes.tsv\")\n",
    "countries_df\n",
    "\n",
    "# Search country_codes.tsv for a join key by country via an id, code, or name.\n",
    "def get_country_key(country):\n",
    "    if country is None or len(country.strip()) == 0:\n",
    "        raise ValueError(\"No key provided.\")\n",
    "    country = country.strip()\n",
    "    if country in countries_df['Country'].values:\n",
    "        return countries_df[countries_df['Country'] == country].iloc[0,:].array\n",
    "    elif country in countries_df['Code'].values:\n",
    "        return countries_df[countries_df['Code'] == country].iloc[0,:].array\n",
    "    elif is_numeric(country):\n",
    "        if int(country) in countries_df['ID'].values:\n",
    "            return countries_df[countries_df['ID'] == int(country)].iloc[0,:].array\n",
    "    else:\n",
    "        # print(f'No key available for provided country name or code \"{country}\".')\n",
    "        return None\n",
    "\n",
    "# Search country_codes.tsv for multiple join keys given list of country information.\n",
    "def get_country_keys(countries):\n",
    "    if countries is None or len(countries) == 0:\n",
    "        raise ValueError(\"No keys provided.\")\n",
    "    \n",
    "    results = [get_country_key(country) for country in countries]\n",
    "    keys = [key for key in results if key]\n",
    "    if len(keys) == 0:\n",
    "        return None\n",
    "    else:\n",
    "        return keys\n",
    "\n",
    "# Print the key.        \n",
    "def print_key(id, code, name):\n",
    "    print(f'< [{id}], \"{code}\": \"{name}\" >')\n",
    "\n",
    "# Print several keys.\n",
    "def print_keys(keys):\n",
    "    for key in keys:\n",
    "        print_key(*key)\n",
    "\n",
    "# Example of querying information for 1 country.\n",
    "print_key(*get_country_key('AFG'))\n",
    "\n",
    "# Example of querying multiple countries.\n",
    "print_keys(get_country_keys(['AFG', 'JPN', 'USA', 'BEL']))\n",
    "\n",
    "# Clear the namespace of temporary variables.\n",
    "%reset_selective -f \"^keys$\""
   ]
  },
  {
   "cell_type": "code",
   "execution_count": 14,
   "metadata": {},
   "outputs": [],
   "source": [
    "# Get np.array of unique countries that appear in \n",
    "# the public education expenditure dataset.\n",
    "ped_countries_df = read_tsv(\"../data/ped/ped_countries.tsv\")\n",
    "unique_ped = np.array(ped_countries_df.iloc[:,0].unique())\n",
    "keys_ped = { code: (id, name) for id, code, name in get_country_keys(unique_ped)}\n",
    "# print(f'Countries in the public education expenditure dataset: {keys_ped}')"
   ]
  },
  {
   "cell_type": "code",
   "execution_count": 15,
   "metadata": {},
   "outputs": [],
   "source": [
    "# Get np.array of unique countries that appear in \n",
    "# the infant mortality, fertility, income per capita dataset.\n",
    "mfi_countries_df = read_tsv(\"../data/mfi/mfi_countries.tsv\")\n",
    "unique_mfi = np.array(mfi_countries_df.iloc[:,0].unique())\n",
    "keys_mfi = { code: (id, name) for id, code, name in get_country_keys(unique_mfi)}\n",
    "# print(f'Countries in the MFI datasets: {keys_mfi}')"
   ]
  },
  {
   "cell_type": "code",
   "execution_count": 16,
   "metadata": {},
   "outputs": [],
   "source": [
    "# Get np.array of unique countries that appear in \n",
    "# the global terrorism database.\n",
    "gtd_countries_df = read_tsv(\"../data/gtd/gtd_countries.tsv\")\n",
    "unique_gtd = np.array(gtd_countries_df.iloc[:,1].unique())\n",
    "keys_gtd = { code: (id, name) for id, code, name in get_country_keys(unique_gtd)}\n",
    "# print(f'Countries in the Global Terrorism Database: {keys_gtd}')"
   ]
  },
  {
   "cell_type": "code",
   "execution_count": 17,
   "metadata": {},
   "outputs": [
    {
     "output_type": "execute_result",
     "data": {
      "text/plain": [
       "AUS          [14, AUS, Australia]\n",
       "AUT            [15, AUT, Austria]\n",
       "BEL            [21, BEL, Belgium]\n",
       "CAN             [38, CAN, Canada]\n",
       "CHE       [199, CHE, Switzerland]\n",
       "DEU            [75, DEU, Germany]\n",
       "ESP             [185, ESP, Spain]\n",
       "FRA             [69, FRA, France]\n",
       "GBR    [603, GBR, United Kingdom]\n",
       "IRL            [96, IRL, Ireland]\n",
       "ITA              [98, ITA, Italy]\n",
       "JPN             [101, JPN, Japan]\n",
       "NLD       [142, NLD, Netherlands]\n",
       "NOR            [151, NOR, Norway]\n",
       "NZL       [144, NZL, New Zealand]\n",
       "SWE            [198, SWE, Sweden]\n",
       "USA     [217, USA, United States]\n",
       "dtype: object"
      ]
     },
     "metadata": {},
     "execution_count": 17
    }
   ],
   "source": [
    "# Get a final unique list of the countries that appear in the intersection between all sources.\n",
    "codes_ped = np.array(list(keys_ped.keys()))\n",
    "codes_gtd = np.array(list(keys_gtd.keys()))\n",
    "codes_mfi = np.array(list(keys_mfi.keys()))\n",
    "\n",
    "# Unqiue codes.\n",
    "unique_codes = np.unique([np.intersect1d(codes_ped, codes) for codes in [codes_mfi, codes_gtd]])\n",
    "available_countries = pd.Series(get_country_keys(unique_codes), index=unique_codes)\n",
    "available_countries"
   ]
  },
  {
   "cell_type": "code",
   "execution_count": 18,
   "metadata": {},
   "outputs": [],
   "source": [
    "# Clear unused variables in IPython.\n",
    "%reset_selective -f \"^id$\"\n",
    "%reset_selective -f \"^code$\"\n",
    "%reset_selective -f \"^name$\"\n",
    "%reset_selective -f \"_ped$\"\n",
    "%reset_selective -f \"_mfi$\"\n",
    "%reset_selective -f \"_gtd$\"\n",
    "%reset_selective -f \"_countries_df$\"\n",
    "%reset_selective -f \"_countries_df$\"\n",
    "%reset_selective -f \"_countries_df$\""
   ]
  },
  {
   "source": [
    "***\n",
    "\n",
    "<a id=\"queries\" />\n",
    "\n",
    "## Queries ##\n",
    "\n",
    "The objective of the research project is to evaluate key indicators of stability and growth across several countries in order to estimate Ryder's potential for success in these new markets.\n",
    "\n",
    "This sample report evaluates the trends in three (3) separate countries as a sampling of what the broader international research has to offer. **The United Kingdom** (GBR), **Japan** (JPN), and **Sweden** (SWE).\n",
    "\n",
    "The **United States of America** (USA) is included in order to use our current operation region for context."
   ],
   "cell_type": "markdown",
   "metadata": {}
  },
  {
   "cell_type": "code",
   "execution_count": 19,
   "metadata": {},
   "outputs": [
    {
     "output_type": "execute_result",
     "data": {
      "text/plain": [
       "       ID         Country\n",
       "Code                     \n",
       "GBR   603  United Kingdom\n",
       "JPN   101           Japan\n",
       "SWE   198          Sweden\n",
       "USA   217   United States"
      ],
      "text/html": "<div>\n<style scoped>\n    .dataframe tbody tr th:only-of-type {\n        vertical-align: middle;\n    }\n\n    .dataframe tbody tr th {\n        vertical-align: top;\n    }\n\n    .dataframe thead th {\n        text-align: right;\n    }\n</style>\n<table border=\"1\" class=\"dataframe\">\n  <thead>\n    <tr style=\"text-align: right;\">\n      <th></th>\n      <th>ID</th>\n      <th>Country</th>\n    </tr>\n    <tr>\n      <th>Code</th>\n      <th></th>\n      <th></th>\n    </tr>\n  </thead>\n  <tbody>\n    <tr>\n      <th>GBR</th>\n      <td>603</td>\n      <td>United Kingdom</td>\n    </tr>\n    <tr>\n      <th>JPN</th>\n      <td>101</td>\n      <td>Japan</td>\n    </tr>\n    <tr>\n      <th>SWE</th>\n      <td>198</td>\n      <td>Sweden</td>\n    </tr>\n    <tr>\n      <th>USA</th>\n      <td>217</td>\n      <td>United States</td>\n    </tr>\n  </tbody>\n</table>\n</div>"
     },
     "metadata": {},
     "execution_count": 19
    }
   ],
   "source": [
    "# The countries we want to evaluate.\n",
    "codes = [\n",
    "    \"GBR\",  # United Kingdom\n",
    "    \"JPN\",  # Japan\n",
    "    \"SWE\",   # Sweden,\n",
    "    \"USA\"\n",
    "    ]\n",
    "\n",
    "# Are the countries available across all datasets?\n",
    "# print([country in available_countries for country in codes])\n",
    "\n",
    "# Get the country keys.\n",
    "selected_countries = pd.DataFrame(get_country_keys(codes), columns=[\"ID\", \"Code\", \"Country\"])\n",
    "selected_countries = selected_countries.set_index(\"Code\")\n",
    "selected_countries"
   ]
  },
  {
   "source": [
    "In order to query the data, we need to form our `pandas.DataFrame` representations.\n",
    "\n",
    "For the infant mortality, fertility, and income per capita datasets, we need to assign a MultiIndex using the country code and the year."
   ],
   "cell_type": "markdown",
   "metadata": {}
  },
  {
   "cell_type": "code",
   "execution_count": 20,
   "metadata": {},
   "outputs": [
    {
     "output_type": "execute_result",
     "data": {
      "text/plain": [
       "                  Country  Mortality\n",
       "Code Year                           \n",
       "GBR  1970  United Kingdom       18.0\n",
       "     1971  United Kingdom       17.7\n",
       "     1972  United Kingdom       17.1\n",
       "     1973  United Kingdom       16.6\n",
       "     1974  United Kingdom       16.0\n",
       "...                   ...        ...\n",
       "USA  2012   United States        6.0\n",
       "     2013   United States        5.9\n",
       "     2014   United States        5.8\n",
       "     2015   United States        5.7\n",
       "     2016   United States        5.6\n",
       "\n",
       "[188 rows x 2 columns]"
      ],
      "text/html": "<div>\n<style scoped>\n    .dataframe tbody tr th:only-of-type {\n        vertical-align: middle;\n    }\n\n    .dataframe tbody tr th {\n        vertical-align: top;\n    }\n\n    .dataframe thead th {\n        text-align: right;\n    }\n</style>\n<table border=\"1\" class=\"dataframe\">\n  <thead>\n    <tr style=\"text-align: right;\">\n      <th></th>\n      <th></th>\n      <th>Country</th>\n      <th>Mortality</th>\n    </tr>\n    <tr>\n      <th>Code</th>\n      <th>Year</th>\n      <th></th>\n      <th></th>\n    </tr>\n  </thead>\n  <tbody>\n    <tr>\n      <th rowspan=\"5\" valign=\"top\">GBR</th>\n      <th>1970</th>\n      <td>United Kingdom</td>\n      <td>18.0</td>\n    </tr>\n    <tr>\n      <th>1971</th>\n      <td>United Kingdom</td>\n      <td>17.7</td>\n    </tr>\n    <tr>\n      <th>1972</th>\n      <td>United Kingdom</td>\n      <td>17.1</td>\n    </tr>\n    <tr>\n      <th>1973</th>\n      <td>United Kingdom</td>\n      <td>16.6</td>\n    </tr>\n    <tr>\n      <th>1974</th>\n      <td>United Kingdom</td>\n      <td>16.0</td>\n    </tr>\n    <tr>\n      <th>...</th>\n      <th>...</th>\n      <td>...</td>\n      <td>...</td>\n    </tr>\n    <tr>\n      <th rowspan=\"5\" valign=\"top\">USA</th>\n      <th>2012</th>\n      <td>United States</td>\n      <td>6.0</td>\n    </tr>\n    <tr>\n      <th>2013</th>\n      <td>United States</td>\n      <td>5.9</td>\n    </tr>\n    <tr>\n      <th>2014</th>\n      <td>United States</td>\n      <td>5.8</td>\n    </tr>\n    <tr>\n      <th>2015</th>\n      <td>United States</td>\n      <td>5.7</td>\n    </tr>\n    <tr>\n      <th>2016</th>\n      <td>United States</td>\n      <td>5.6</td>\n    </tr>\n  </tbody>\n</table>\n<p>188 rows × 2 columns</p>\n</div>"
     },
     "metadata": {},
     "execution_count": 20
    }
   ],
   "source": [
    "# Parse the infant mortality dataset.\n",
    "df = read_tsv('../data/mfi/mortality/mortality_long.tsv')\n",
    "\n",
    "# Rename columns.\n",
    "df.rename(columns={\n",
    "    \"Country Code\": \"Code\",\n",
    "    \"Country Name\": \"Country\", \n",
    "    \"Mortality Rate\": \"Mortality\"\n",
    "    }, inplace=True)\n",
    "\n",
    "# Select only the entries that have matching country codes.\n",
    "df = df.loc[df['Code'].isin(selected_countries.index)]\n",
    "\n",
    "# Create a MultiIndex using the country code and year.\n",
    "df.set_index(['Code', 'Year'], inplace=True)\n",
    "\n",
    "# Sort by country and year.\n",
    "df.sort_index(ascending=True, inplace=True)\n",
    "\n",
    "# Assign to mortality_df.\n",
    "mortality_df = df\n",
    "mortality_df"
   ]
  },
  {
   "cell_type": "code",
   "execution_count": 21,
   "metadata": {},
   "outputs": [
    {
     "output_type": "execute_result",
     "data": {
      "text/plain": [
       "                  Country        Income\n",
       "Code Year                              \n",
       "GBR  1970  United Kingdom   2220.021490\n",
       "     1971  United Kingdom   2484.150369\n",
       "     1972  United Kingdom   2823.686879\n",
       "     1973  United Kingdom   3192.310330\n",
       "     1974  United Kingdom   3393.134062\n",
       "...                   ...           ...\n",
       "USA  2012   United States  44582.333450\n",
       "     2013   United States  45548.288240\n",
       "     2014   United States  47344.285540\n",
       "     2015   United States  49058.089400\n",
       "     2016   United States  49725.780530\n",
       "\n",
       "[188 rows x 2 columns]"
      ],
      "text/html": "<div>\n<style scoped>\n    .dataframe tbody tr th:only-of-type {\n        vertical-align: middle;\n    }\n\n    .dataframe tbody tr th {\n        vertical-align: top;\n    }\n\n    .dataframe thead th {\n        text-align: right;\n    }\n</style>\n<table border=\"1\" class=\"dataframe\">\n  <thead>\n    <tr style=\"text-align: right;\">\n      <th></th>\n      <th></th>\n      <th>Country</th>\n      <th>Income</th>\n    </tr>\n    <tr>\n      <th>Code</th>\n      <th>Year</th>\n      <th></th>\n      <th></th>\n    </tr>\n  </thead>\n  <tbody>\n    <tr>\n      <th rowspan=\"5\" valign=\"top\">GBR</th>\n      <th>1970</th>\n      <td>United Kingdom</td>\n      <td>2220.021490</td>\n    </tr>\n    <tr>\n      <th>1971</th>\n      <td>United Kingdom</td>\n      <td>2484.150369</td>\n    </tr>\n    <tr>\n      <th>1972</th>\n      <td>United Kingdom</td>\n      <td>2823.686879</td>\n    </tr>\n    <tr>\n      <th>1973</th>\n      <td>United Kingdom</td>\n      <td>3192.310330</td>\n    </tr>\n    <tr>\n      <th>1974</th>\n      <td>United Kingdom</td>\n      <td>3393.134062</td>\n    </tr>\n    <tr>\n      <th>...</th>\n      <th>...</th>\n      <td>...</td>\n      <td>...</td>\n    </tr>\n    <tr>\n      <th rowspan=\"5\" valign=\"top\">USA</th>\n      <th>2012</th>\n      <td>United States</td>\n      <td>44582.333450</td>\n    </tr>\n    <tr>\n      <th>2013</th>\n      <td>United States</td>\n      <td>45548.288240</td>\n    </tr>\n    <tr>\n      <th>2014</th>\n      <td>United States</td>\n      <td>47344.285540</td>\n    </tr>\n    <tr>\n      <th>2015</th>\n      <td>United States</td>\n      <td>49058.089400</td>\n    </tr>\n    <tr>\n      <th>2016</th>\n      <td>United States</td>\n      <td>49725.780530</td>\n    </tr>\n  </tbody>\n</table>\n<p>188 rows × 2 columns</p>\n</div>"
     },
     "metadata": {},
     "execution_count": 21
    }
   ],
   "source": [
    "# Parse the NNI per Capita dataset.\n",
    "df = read_tsv('../data/mfi/income/income_long.tsv')\n",
    "\n",
    "# Rename columns.\n",
    "df.rename(columns={\n",
    "    \"Country Code\": \"Code\",\n",
    "    \"Country Name\": \"Country\", \n",
    "    \"Income per Capita\": \"Income\"\n",
    "    }, inplace=True)\n",
    "\n",
    "# Select only the entries that have matching country codes.\n",
    "df = df.loc[df['Code'].isin(selected_countries.index)]\n",
    "\n",
    "# Create a MultiIndex using the country code and year.\n",
    "df.set_index(['Code', 'Year'], inplace=True)\n",
    "\n",
    "# Sort by country and year.\n",
    "df.sort_index(ascending=True, inplace=True)\n",
    "\n",
    "# Assign to income_df.\n",
    "income_df = df\n",
    "income_df"
   ]
  },
  {
   "cell_type": "code",
   "execution_count": 22,
   "metadata": {},
   "outputs": [
    {
     "output_type": "execute_result",
     "data": {
      "text/plain": [
       "                  Country  Fertility\n",
       "Code Year                           \n",
       "GBR  1970  United Kingdom        2.4\n",
       "     1971  United Kingdom        2.4\n",
       "     1972  United Kingdom        2.2\n",
       "     1973  United Kingdom        2.0\n",
       "     1974  United Kingdom        1.9\n",
       "...                   ...        ...\n",
       "USA  2012   United States        1.9\n",
       "     2013   United States        1.9\n",
       "     2014   United States        1.9\n",
       "     2015   United States        1.8\n",
       "     2016   United States        1.8\n",
       "\n",
       "[188 rows x 2 columns]"
      ],
      "text/html": "<div>\n<style scoped>\n    .dataframe tbody tr th:only-of-type {\n        vertical-align: middle;\n    }\n\n    .dataframe tbody tr th {\n        vertical-align: top;\n    }\n\n    .dataframe thead th {\n        text-align: right;\n    }\n</style>\n<table border=\"1\" class=\"dataframe\">\n  <thead>\n    <tr style=\"text-align: right;\">\n      <th></th>\n      <th></th>\n      <th>Country</th>\n      <th>Fertility</th>\n    </tr>\n    <tr>\n      <th>Code</th>\n      <th>Year</th>\n      <th></th>\n      <th></th>\n    </tr>\n  </thead>\n  <tbody>\n    <tr>\n      <th rowspan=\"5\" valign=\"top\">GBR</th>\n      <th>1970</th>\n      <td>United Kingdom</td>\n      <td>2.4</td>\n    </tr>\n    <tr>\n      <th>1971</th>\n      <td>United Kingdom</td>\n      <td>2.4</td>\n    </tr>\n    <tr>\n      <th>1972</th>\n      <td>United Kingdom</td>\n      <td>2.2</td>\n    </tr>\n    <tr>\n      <th>1973</th>\n      <td>United Kingdom</td>\n      <td>2.0</td>\n    </tr>\n    <tr>\n      <th>1974</th>\n      <td>United Kingdom</td>\n      <td>1.9</td>\n    </tr>\n    <tr>\n      <th>...</th>\n      <th>...</th>\n      <td>...</td>\n      <td>...</td>\n    </tr>\n    <tr>\n      <th rowspan=\"5\" valign=\"top\">USA</th>\n      <th>2012</th>\n      <td>United States</td>\n      <td>1.9</td>\n    </tr>\n    <tr>\n      <th>2013</th>\n      <td>United States</td>\n      <td>1.9</td>\n    </tr>\n    <tr>\n      <th>2014</th>\n      <td>United States</td>\n      <td>1.9</td>\n    </tr>\n    <tr>\n      <th>2015</th>\n      <td>United States</td>\n      <td>1.8</td>\n    </tr>\n    <tr>\n      <th>2016</th>\n      <td>United States</td>\n      <td>1.8</td>\n    </tr>\n  </tbody>\n</table>\n<p>188 rows × 2 columns</p>\n</div>"
     },
     "metadata": {},
     "execution_count": 22
    }
   ],
   "source": [
    "# Parse the fertility dataset.\n",
    "df = read_tsv('../data/mfi/fertility/fertility_long.tsv')\n",
    "\n",
    "# Rename columns.\n",
    "df.rename(columns={\n",
    "    \"Country Code\": \"Code\",\n",
    "    \"Country Name\": \"Country\", \n",
    "    \"Fertility Rate\": \"Fertility\"\n",
    "    }, inplace=True)\n",
    "\n",
    "# Select only the entries that have matching country codes.\n",
    "df = df.loc[df['Code'].isin(selected_countries.index)]\n",
    "\n",
    "# Create a MultiIndex using the country code and year.\n",
    "df.set_index(['Code', 'Year'], inplace=True)\n",
    "\n",
    "# Sort by country and year.\n",
    "df.sort_index(ascending=True, inplace=True)\n",
    "\n",
    "# Assign to income_df.\n",
    "fertility_df = df\n",
    "fertility_df"
   ]
  },
  {
   "source": [
    "For each of these countries, we want to answer the following questions:\n",
    "\n",
    "    1. Is infant mortality improving, stable, or getting worse?\n",
    "    2. Is income rising, stagnant, or falling?\n",
    "    3. Does one country or another seem more or less stable than the others, and why do you say this?\n",
    "    4. What changes do you predict for these countries, and why?"
   ],
   "cell_type": "markdown",
   "metadata": {}
  },
  {
   "cell_type": "code",
   "execution_count": 23,
   "metadata": {},
   "outputs": [],
   "source": [
    "# For each country, \n",
    "\n",
    "# 1. Define query functions for summ\n",
    "\n",
    "# 1. Determine summary statistics regarding infant mortality for comparison.\n",
    "def summarize_mortality(country):\n",
    "    keys = get_country_key(country)\n",
    "    \n",
    "\n",
    "\n",
    "\n",
    "\n",
    "# 2. Plot time-series of infant mortality rates for each country.\n",
    "# 3. Make analysis."
   ]
  },
  {
   "cell_type": "code",
   "execution_count": 24,
   "metadata": {},
   "outputs": [],
   "source": [
    "# For each country,\n",
    "# 1. Determine summary statistics regarding income rates for comparison.\n",
    "# 2. Is income rising, stagnant, or falling? Plot time-series answering this query.\n",
    "# 3. Make analysis."
   ]
  },
  {
   "cell_type": "code",
   "execution_count": 25,
   "metadata": {},
   "outputs": [],
   "source": [
    "# For each country,\n",
    "# 1. Determine summary statistics regarding terrorism.\n",
    "# 2. Does one country or another seem more or less stable than the others?\n",
    "# 3. What trends do you see?"
   ]
  },
  {
   "cell_type": "code",
   "execution_count": 26,
   "metadata": {},
   "outputs": [],
   "source": [
    "# For each country,\n",
    "# 1. Extrapolate information given the previous trends."
   ]
  }
 ],
 "metadata": {
  "kernelspec": {
   "display_name": "Python 3",
   "language": "python",
   "name": "python3"
  },
  "language_info": {
   "codemirror_mode": {
    "name": "ipython",
    "version": 3
   },
   "file_extension": ".py",
   "mimetype": "text/x-python",
   "name": "python",
   "nbconvert_exporter": "python",
   "pygments_lexer": "ipython3",
   "version": "3.8.8-final"
  }
 },
 "nbformat": 4,
 "nbformat_minor": 2
}